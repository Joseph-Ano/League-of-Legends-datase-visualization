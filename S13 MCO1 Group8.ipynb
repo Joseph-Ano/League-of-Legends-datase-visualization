{
 "cells": [
  {
   "cell_type": "markdown",
   "id": "b662a7a7-1aa5-49cf-8d2c-28a86625cfeb",
   "metadata": {
    "tags": []
   },
   "source": [
    "# S13 Group 8: Project - Phase 1\n",
    "\n",
    "## Members:\n",
    "- Ano, Joseph Thomas M.\n",
    "- Limjoco, Jared Ethan D. \n",
    "- Nadela, Cymon Radjh O.\n",
    "\n",
    "In this Notebook, we will be using the [League of Legends Worlds 2021 Main Event - Champion Stats](https://www.kaggle.com/datasets/vincentbarletta/league-of-legends-worlds-champion-pb-dataset?select=Worlds+2021+Main+Event+-+Champion+Stats+-+OraclesElixir.csv). The notebook will cover four main parts namely the **dataset description**, **data cleaning**, the **exploratory data analysis questions**, and the group's **proposed research questions**. \n",
    "\n"
   ]
  },
  {
   "cell_type": "markdown",
   "id": "79d6f6b6-d280-4894-9ae9-de594cefc8b5",
   "metadata": {
    "tags": []
   },
   "source": [
    "## Data Set Description\n",
    "\n",
    "### Brief description of dataset\n",
    "This data set contains the list of every champion either picked or banned during the 2021 League of Legends World tournament. As metioned in its kaggle page, the main statistics of this particular data set include the champion name, position, pick rate, ban rate, pick+ban rate, and more individual champion statistics (Kill, Death, Assist, KDA rate, etc). Each column also has a breif description explaining the variable.\n",
    "\n",
    "### Description of the data collection process\n",
    "The data was collected from a popular website called [Oracle's Elixir](https://oracleselixir.com/about), the premier source for advance League of Legends esports statistics and was posted on kaggle by the user Vincent Barletta. All of the data comes from the analysts and data scrapers at Oracles Elixir who retrive the data from several sources including including Match History pages, [lolesports.com](https://lolesports.com), [lpl.QQ.com](https://lpl.qq.com), [Leaguepedia](https://lol.fandom.com/wiki/League_of_Legends_Esports_Wiki), the Riot Games solo queue APIs, and more "
   ]
  },
  {
   "cell_type": "markdown",
   "id": "7abf78dc-b93d-4967-9e19-d2f69bf0e9a3",
   "metadata": {},
   "source": [
    "### Structure of the data set"
   ]
  },
  {
   "cell_type": "code",
   "execution_count": 1,
   "id": "91a3f2a9-4c94-47e2-9f11-aa46c160b1ce",
   "metadata": {},
   "outputs": [],
   "source": [
    "import numpy as np\n",
    "import pandas as pd\n",
    "import matplotlib.pyplot as plt\n",
    "\n",
    "# sets the theme of the charts\n",
    "#plt.style.use('seaborn-darkgrid')\n",
    "\n",
    "%matplotlib inline"
   ]
  },
  {
   "cell_type": "code",
   "execution_count": 2,
   "id": "e9c50f45-52a0-4f9b-8ab9-cb07aecb5801",
   "metadata": {},
   "outputs": [],
   "source": [
    "lol_df = pd.read_csv('Worlds 2021 Main Event - Champion Stats - OraclesElixir.csv')"
   ]
  },
  {
   "cell_type": "code",
   "execution_count": 3,
   "id": "01aa5c2e-dcc8-44c8-a8bc-71751dececaa",
   "metadata": {},
   "outputs": [
    {
     "name": "stdout",
     "output_type": "stream",
     "text": [
      "<class 'pandas.core.frame.DataFrame'>\n",
      "RangeIndex: 94 entries, 0 to 93\n",
      "Data columns (total 25 columns):\n",
      " #   Column    Non-Null Count  Dtype \n",
      "---  ------    --------------  ----- \n",
      " 0   Champion  94 non-null     object\n",
      " 1   Pos       94 non-null     object\n",
      " 2   GP        94 non-null     int64 \n",
      " 3   P%        94 non-null     object\n",
      " 4   B%        94 non-null     object\n",
      " 5   P+B%      94 non-null     object\n",
      " 6   W%        94 non-null     object\n",
      " 7   CTR%      94 non-null     object\n",
      " 8   K         94 non-null     object\n",
      " 9   D         94 non-null     object\n",
      " 10  A         94 non-null     object\n",
      " 11  KDA       94 non-null     object\n",
      " 12  KP        94 non-null     object\n",
      " 13  DTH%      94 non-null     object\n",
      " 14  FB%       94 non-null     object\n",
      " 15  GD10      94 non-null     object\n",
      " 16  XPD10     94 non-null     object\n",
      " 17  CSD10     94 non-null     object\n",
      " 18  CSPM      94 non-null     object\n",
      " 19  CS%P15    94 non-null     object\n",
      " 20  DPM       94 non-null     object\n",
      " 21  DMG%      94 non-null     object\n",
      " 22  GOLD%     94 non-null     object\n",
      " 23  WPM       94 non-null     object\n",
      " 24  WCPM      94 non-null     object\n",
      "dtypes: int64(1), object(24)\n",
      "memory usage: 18.5+ KB\n"
     ]
    }
   ],
   "source": [
    "lol_df.info()"
   ]
  },
  {
   "cell_type": "markdown",
   "id": "e0803230-177d-499f-97c2-350042cc1743",
   "metadata": {},
   "source": [
    "The data set contains a total of **94 observations** and is made up of **25 variables**. Each row in the data set represents a the game statistics of a champion that was either picked or banned during the tournament. You may notice that there are observations consisting of the same value for the variable **`Champion`**, this is because a champion can be played in more than one postion which will result in the data set having rows/observations each with a unique combination of the **`Champion`** and **`Pos`** variable "
   ]
  },
  {
   "cell_type": "markdown",
   "id": "30e78dc7-ebc2-4142-878e-6286c3c3e13e",
   "metadata": {},
   "source": [
    "### Description of each variable\n",
    "- **`Champion`**: Name of the champion picked/banned\n",
    "- **`Pos`**: Position the champion played in. Values include Top, Middle, ADC, Jungle, and Support\n",
    "- **`GP`**: Total number of games the champion was picked/played in this role\n",
    "- **`P%`**: Percentage of games champion was picked in this role\n",
    "- **`B%`**: Percentage of games in which the champion was banned (not tied to a specific role)\n",
    "- **`P+B%`**: Percentage of games in which the champion was either banned or picked in any role\n",
    "- **`W%`**: Win percentage of champion in a specific role\n",
    "- **`CTR%`**: Counter-pick rate: percentage of games in which this player/champion was picked after their lane opponent \n",
    "- **`K`**: Total kills a champion had \n",
    "- **`D`**: Total deaths a champion had \n",
    "- **`A`**: Total assists a champion had \n",
    "- **`KDA`**: Total Kill/Death/Assits ration for a champion \n",
    "- **`KP`**: Kill participation which is the percentage of the team's kills in which the champion earned a Kill or Assist \n",
    "- **`DTH%`**: Average share of team’s deaths \n",
    "- **`FB%`**: Percent of games earning a First Blood participation either kill or assist \n",
    "- **`GD10`**: Average gold difference from lane opponent at 10 minutes \n",
    "- **`XPD10`**: Average experience difference from lane opponent at 10 minutes\n",
    "- **`CSD10`**: Average creep score difference from lane opponentat 10 minutes\n",
    "- **`CSPM`**: Average monsters + minions killed per minute\n",
    "- **`CS%P15`**: Average share of team's total CS post-15-minutes\n",
    "- **`DPM`**: Average damage to champions per minute\n",
    "- **`DMG%`**: Average share of team’s total damage to champions\n",
    "- **`GOLD%`**: Average share of team’s total gold earned (excludes starting gold and inherent gold generation)\n",
    "- **`WPM`**: Average wards placed per minute\n",
    "- **`WCPM`**: Average wards cleared per minute"
   ]
  },
  {
   "cell_type": "markdown",
   "id": "62bd5d02-c80b-4516-bda4-dad946aa2f43",
   "metadata": {},
   "source": [
    "## Data Clean up"
   ]
  },
  {
   "cell_type": "markdown",
   "id": "69711230-2a87-463b-bd83-c4247008bc62",
   "metadata": {},
   "source": [
    "### Duplicate Data\n",
    "The first thing we'll check for is if duplicate records exists in the data set. Since each record in this data set represents the statistics of every champion either picked (in a specific position) or banned, each record must have a unique combination of the **`Champion`** and the **`Pos`** variable. To do this, we will first select the columns of the **`Champion`** and the **`Pos`** variables which will result in a **dataframe** which we will assign to a variable called `duplicate_test`. We will then use the `duplicated` function, along with the `any` function, to check if there are any duplicated records based on these two variables."
   ]
  },
  {
   "cell_type": "code",
   "execution_count": 4,
   "id": "c05cab64-2e3f-4199-bb90-7a567777dd47",
   "metadata": {},
   "outputs": [
    {
     "name": "stdout",
     "output_type": "stream",
     "text": [
      "Duplicated data exists:  False\n"
     ]
    }
   ],
   "source": [
    "duplicate_test = lol_df[['Champion', 'Pos']]\n",
    "duplicate_data_exists = duplicate_test.duplicated().any()\n",
    "print('Duplicated data exists: ', duplicate_data_exists)"
   ]
  },
  {
   "cell_type": "markdown",
   "id": "d60c16a5-1407-4e56-9496-475d7d1c5d80",
   "metadata": {},
   "source": [
    "The reason why we select the **`Champion`** and the **`Pos`** columns is because if we were to use the `duplicated` function using the original dataframe, there is a chance that two records may have the same **`Champion`** and **`Pos`** values but differ in other columns. In this case, the `duplicated` function will return a value of `false` which is wrong since we want each record to have a unique combination of the **`Champion`** and **`Pos`** variables. "
   ]
  },
  {
   "cell_type": "markdown",
   "id": "bfc6baee-a15e-4782-befd-dcd4a3776d3c",
   "metadata": {},
   "source": [
    "### Missing Data"
   ]
  },
  {
   "cell_type": "code",
   "execution_count": 5,
   "id": "76362806-dd40-4a25-8f64-bc4daf0fb756",
   "metadata": {
    "tags": []
   },
   "outputs": [
    {
     "data": {
      "text/plain": [
       "Top        24\n",
       "Middle     21\n",
       "Support    17\n",
       "Jungle     16\n",
       "ADC        14\n",
       "-           2\n",
       "Name: Pos, dtype: int64"
      ]
     },
     "execution_count": 5,
     "metadata": {},
     "output_type": "execute_result"
    }
   ],
   "source": [
    "lol_df['Pos'].value_counts()"
   ]
  },
  {
   "cell_type": "markdown",
   "id": "d80eb3cc-6709-4599-a18a-008bb97a016c",
   "metadata": {},
   "source": [
    "When viewing the dataset, you will notice that some records have a value of `-` in some of their variables. This is the default value when a variable of a record should be empty. For example, the code above shows that there are two records which have a value of `-` in their **`Pos`** variable. This because these two records(Champions) were never picked in the entire tournament but were banned at least once which is why they are included in this data set but with most of their variables having a value of `-`.\n",
    "\n",
    "Since majority of their variables will not have any meaningful value, and considering the fact that there are only 2 of these records out of a total of 94 entries, we believe that it will be best to remove these two records from entire dataset. To do so we will first get the indices of the records which have a value of `-` in their **`Pos`** column. After getting the indices, we can use the `drop` function to remove these records from the data set."
   ]
  },
  {
   "cell_type": "code",
   "execution_count": 6,
   "id": "b95baf9a-2e91-4050-a723-bb5111876f8e",
   "metadata": {},
   "outputs": [
    {
     "name": "stdout",
     "output_type": "stream",
     "text": [
      "Number of entries in the dataframe:  92\n"
     ]
    },
    {
     "data": {
      "text/plain": [
       "Top        24\n",
       "Middle     21\n",
       "Support    17\n",
       "Jungle     16\n",
       "ADC        14\n",
       "Name: Pos, dtype: int64"
      ]
     },
     "execution_count": 6,
     "metadata": {},
     "output_type": "execute_result"
    }
   ],
   "source": [
    "#Get indices\n",
    "dropped_index = lol_df[ lol_df['Pos'] == '-' ].index\n",
    "\n",
    "#Drop records\n",
    "lol_df = lol_df.drop(dropped_index)\n",
    "\n",
    "#Check new number of entries\n",
    "print('Number of entries in the dataframe: ', lol_df.shape[0])\n",
    "\n",
    "#Re-check the value count of the Pos variable\n",
    "lol_df['Pos'].value_counts()"
   ]
  },
  {
   "cell_type": "markdown",
   "id": "8a35e29c-b30f-4469-9a9b-363dbf474dcc",
   "metadata": {},
   "source": [
    "As you can see, the new number of entries in the data set is 92 which means that the two records that we selected were removed from the data set. We can also check this by checking the value count of the **`Pos`** variable which shows that there are only 5 values for that variable. We can now ensure that there are no missing values in our data set as each record gwill contain a champion in a specific"
   ]
  },
  {
   "cell_type": "markdown",
   "id": "f5da1808-43c1-4892-b16e-157c6e60a4eb",
   "metadata": {},
   "source": [
    "### Categorical Values\n",
    "Our data set only contains one column with categorical values which is the `Pos` column. We can see the values of this column by using the `values_count` function. Doing so, we will be able to check if there are multiple representations for the same categorical value."
   ]
  },
  {
   "cell_type": "code",
   "execution_count": 7,
   "id": "36597b91-5aa1-42c9-a53b-84dbf3d40c71",
   "metadata": {},
   "outputs": [
    {
     "data": {
      "text/plain": [
       "Top        24\n",
       "Middle     21\n",
       "Support    17\n",
       "Jungle     16\n",
       "ADC        14\n",
       "Name: Pos, dtype: int64"
      ]
     },
     "execution_count": 7,
     "metadata": {},
     "output_type": "execute_result"
    }
   ],
   "source": [
    "lol_df['Pos'].value_counts()"
   ]
  },
  {
   "cell_type": "markdown",
   "id": "97d0d7cf-a00e-4b2b-8aa8-2f568b69d6d5",
   "metadata": {},
   "source": [
    "As you can see, there are 5 only types for the `Pos` column, none of which seem like a different representation of the other meaning that there is no need for us to clean/fix this column."
   ]
  },
  {
   "cell_type": "markdown",
   "id": "5bb5308a-bb5c-4e51-900f-050d3545c551",
   "metadata": {},
   "source": [
    "### Formatting of Values\n",
    "Majority of the values in the data set are numbers however some of these numbers include the `%` sign as the value represents a percentage. To make it easier for future processes such as converting the variable to their apprpriate type or performing numerical operations, we can remove the `%` sign from all the values that have them. To do so, we use `%$` as the regex value with the `replace` function. This takes all of the `%` signs at the end of the value and removes them. "
   ]
  },
  {
   "cell_type": "code",
   "execution_count": 8,
   "id": "e9915db3-0d94-4645-a618-e5d1b01530b2",
   "metadata": {},
   "outputs": [
    {
     "data": {
      "text/plain": [
       "0      1.2\n",
       "1      2.4\n",
       "2      6.0\n",
       "3      1.2\n",
       "4      2.4\n",
       "      ... \n",
       "89     1.2\n",
       "90    18.1\n",
       "91    10.8\n",
       "92     3.6\n",
       "93    16.9\n",
       "Name: P%, Length: 92, dtype: object"
      ]
     },
     "execution_count": 8,
     "metadata": {},
     "output_type": "execute_result"
    }
   ],
   "source": [
    "lol_df.replace(to_replace='%$', value='', regex = True, inplace = True)\n",
    "lol_df['P%'] #checking if the % sign was removed"
   ]
  },
  {
   "cell_type": "markdown",
   "id": "c67b4138-1530-4b53-a7b0-244e5a46b51f",
   "metadata": {},
   "source": [
    "### Data Types of Variables\n",
    "The data type of most of the variables in our current data set is incorrect since most of them are of type `object` even if they should be of type `float` and `int`. To convert the columns to their proper data type, we will be using the `astype` function. For now, our group will only be utilizing the `Pos`, `CSPM`, `GD10`, `CSD10`, `XPD10`, `KP` and `DMG%` variables and thus we will only be correcting the data types for these variables. The `Pos` variable is correct while the other 6 variables should be of type `float`.\n"
   ]
  },
  {
   "cell_type": "code",
   "execution_count": 9,
   "id": "e7eab2bd-451d-4b7b-a865-31337778e3c4",
   "metadata": {},
   "outputs": [
    {
     "name": "stdout",
     "output_type": "stream",
     "text": [
      "<class 'pandas.core.frame.DataFrame'>\n",
      "Int64Index: 92 entries, 0 to 93\n",
      "Data columns (total 25 columns):\n",
      " #   Column    Non-Null Count  Dtype  \n",
      "---  ------    --------------  -----  \n",
      " 0   Champion  92 non-null     object \n",
      " 1   Pos       92 non-null     object \n",
      " 2   GP        92 non-null     int64  \n",
      " 3   P%        92 non-null     object \n",
      " 4   B%        92 non-null     object \n",
      " 5   P+B%      92 non-null     object \n",
      " 6   W%        92 non-null     object \n",
      " 7   CTR%      92 non-null     object \n",
      " 8   K         92 non-null     float64\n",
      " 9   D         92 non-null     object \n",
      " 10  A         92 non-null     float64\n",
      " 11  KDA       92 non-null     object \n",
      " 12  KP        92 non-null     float64\n",
      " 13  DTH%      92 non-null     object \n",
      " 14  FB%       92 non-null     object \n",
      " 15  GD10      92 non-null     object \n",
      " 16  XPD10     92 non-null     float64\n",
      " 17  CSD10     92 non-null     float64\n",
      " 18  CSPM      92 non-null     object \n",
      " 19  CS%P15    92 non-null     object \n",
      " 20  DPM       92 non-null     object \n",
      " 21  DMG%      92 non-null     float64\n",
      " 22  GOLD%     92 non-null     float64\n",
      " 23  WPM       92 non-null     object \n",
      " 24  WCPM      92 non-null     object \n",
      "dtypes: float64(7), int64(1), object(17)\n",
      "memory usage: 18.7+ KB\n"
     ]
    }
   ],
   "source": [
    "lol_df = lol_df.astype({'A': float, 'K': float, 'DMG%': float, 'GOLD%': float, 'XPD10': float, 'CSD10': float, 'KP': float,})\n",
    "lol_df.info()"
   ]
  },
  {
   "cell_type": "markdown",
   "id": "8312acab-b1d7-4b86-9461-8f726fc3b1a3",
   "metadata": {},
   "source": [
    "## Exploratory Data Analysis"
   ]
  },
  {
   "cell_type": "markdown",
   "id": "4277cd8c-8346-4e09-97ae-af38da875ba8",
   "metadata": {},
   "source": [
    "### EDA 1: What Position is capable of doing the most share of damage in a team?\n",
    "A team usually consists of 5 different positions namely `Top`, `Middle`, `Jungle`, `ADC`, and `Support`. Although these positions do not have to be followed at all, it has become the main way that almost all players use to play the game. Knowing which position is your main source of damage allows your team to play around that position and protect them so that they can maximize their damage output. In light of this, the EDA wants to know which position is capabable of doing the most damage in a team (`DMG%`) which will help teams know who to protect and who to target first during a team fight. "
   ]
  },
  {
   "cell_type": "markdown",
   "id": "1fbea279-5b0d-4604-8306-21ab704c788b",
   "metadata": {},
   "source": [
    "The first thing we can do is to first visualize how many samples we have for each categorical value which in this case is our `Pos` variable."
   ]
  },
  {
   "cell_type": "code",
   "execution_count": 10,
   "id": "4f8e67a0-b140-4c5e-953a-51f99f53dd97",
   "metadata": {},
   "outputs": [
    {
     "data": {
      "text/plain": [
       "Text(0.5, 1.0, 'Champions picked based on position')"
      ]
     },
     "execution_count": 10,
     "metadata": {},
     "output_type": "execute_result"
    },
    {
     "data": {
      "image/png": "[encoded data removed]",
      "text/plain": [
       "<Figure size 432x504 with 1 Axes>"
      ]
     },
     "metadata": {
      "needs_background": "light"
     },
     "output_type": "display_data"
    }
   ],
   "source": [
    "pos_count = lol_df['Pos'].value_counts()\n",
    "\n",
    "pos_count.plot.barh(figsize=(6,7)).invert_yaxis()\n",
    "plt.ylabel('Position')\n",
    "plt.xlabel('Count')\n",
    "plt.title('Champions picked based on position')"
   ]
  },
  {
   "cell_type": "markdown",
   "id": "40f8eae7-b47c-4b76-87e0-8309cd94d9c5",
   "metadata": {},
   "source": [
    "Based on the graph, we can see that there were a lot more champions, in terms of variety and not games played, that were pick for the Top position. On the other hand, ADC had the lowest variety in terms of champions picked. Specifically, there are 24 entries for the Top position, 21 entries for Middle, 17 for Support, 16 for Jungle, and 14 for ADC which totals at 92 entries all in all."
   ]
  },
  {
   "cell_type": "markdown",
   "id": "898b01a7-d528-4dd3-bed4-42735da7d235",
   "metadata": {},
   "source": [
    "In order to determine which Position is capable of doing the most damage in a team, we will be comparing them by their `DMG%` variable. We have 2 main options in this scenario, we can either use the mean or the median. For now we will be getting both of them, along with the standard deviation of the `DMG%` variable. We will first do this for the entire data set and then repeat the process again but with each record grouped by their `Pos` variable. "
   ]
  },
  {
   "cell_type": "code",
   "execution_count": 11,
   "id": "da644a99-6bb3-4eeb-aa19-aa8a3995b164",
   "metadata": {},
   "outputs": [
    {
     "data": {
      "text/html": [
       "<style type=\"text/css\">\n",
       "</style>\n",
       "<table id=\"T_10e6f\" style='display:inline'>\n",
       "  <caption>Overall DMG%</caption>\n",
       "  <thead>\n",
       "    <tr>\n",
       "      <th class=\"blank level0\" >&nbsp;</th>\n",
       "      <th id=\"T_10e6f_level0_col0\" class=\"col_heading level0 col0\" >DMG%</th>\n",
       "    </tr>\n",
       "  </thead>\n",
       "  <tbody>\n",
       "    <tr>\n",
       "      <th id=\"T_10e6f_level0_row0\" class=\"row_heading level0 row0\" >mean</th>\n",
       "      <td id=\"T_10e6f_row0_col0\" class=\"data row0 col0\" >20.106522</td>\n",
       "    </tr>\n",
       "    <tr>\n",
       "      <th id=\"T_10e6f_level0_row1\" class=\"row_heading level0 row1\" >median</th>\n",
       "      <td id=\"T_10e6f_row1_col0\" class=\"data row1 col0\" >20.300000</td>\n",
       "    </tr>\n",
       "    <tr>\n",
       "      <th id=\"T_10e6f_level0_row2\" class=\"row_heading level0 row2\" >std</th>\n",
       "      <td id=\"T_10e6f_row2_col0\" class=\"data row2 col0\" >8.338917</td>\n",
       "    </tr>\n",
       "  </tbody>\n",
       "</table>\n",
       "                                                  <style type=\"text/css\">\n",
       "</style>\n",
       "<table id=\"T_a7ccf\" style='display:inline'>\n",
       "  <caption>DMG% by Position</caption>\n",
       "  <thead>\n",
       "    <tr>\n",
       "      <th id=\"T_a7ccf_level0_col0\" class=\"col_heading level0 col0\" >Pos</th>\n",
       "      <th id=\"T_a7ccf_level0_col1\" class=\"col_heading level0 col1\" >mean</th>\n",
       "      <th id=\"T_a7ccf_level0_col2\" class=\"col_heading level0 col2\" >median</th>\n",
       "      <th id=\"T_a7ccf_level0_col3\" class=\"col_heading level0 col3\" >std</th>\n",
       "    </tr>\n",
       "  </thead>\n",
       "  <tbody>\n",
       "    <tr>\n",
       "      <td id=\"T_a7ccf_row0_col0\" class=\"data row0 col0\" >ADC</td>\n",
       "      <td id=\"T_a7ccf_row0_col1\" class=\"data row0 col1\" >24.864286</td>\n",
       "      <td id=\"T_a7ccf_row0_col2\" class=\"data row0 col2\" >24.050000</td>\n",
       "      <td id=\"T_a7ccf_row0_col3\" class=\"data row0 col3\" >6.551994</td>\n",
       "    </tr>\n",
       "    <tr>\n",
       "      <td id=\"T_a7ccf_row1_col0\" class=\"data row1 col0\" >Jungle</td>\n",
       "      <td id=\"T_a7ccf_row1_col1\" class=\"data row1 col1\" >16.256250</td>\n",
       "      <td id=\"T_a7ccf_row1_col2\" class=\"data row1 col2\" >15.850000</td>\n",
       "      <td id=\"T_a7ccf_row1_col3\" class=\"data row1 col3\" >5.260161</td>\n",
       "    </tr>\n",
       "    <tr>\n",
       "      <td id=\"T_a7ccf_row2_col0\" class=\"data row2 col0\" >Middle</td>\n",
       "      <td id=\"T_a7ccf_row2_col1\" class=\"data row2 col1\" >25.295238</td>\n",
       "      <td id=\"T_a7ccf_row2_col2\" class=\"data row2 col2\" >22.100000</td>\n",
       "      <td id=\"T_a7ccf_row2_col3\" class=\"data row2 col3\" >6.516324</td>\n",
       "    </tr>\n",
       "    <tr>\n",
       "      <td id=\"T_a7ccf_row3_col0\" class=\"data row3 col0\" >Support</td>\n",
       "      <td id=\"T_a7ccf_row3_col1\" class=\"data row3 col1\" >8.705882</td>\n",
       "      <td id=\"T_a7ccf_row3_col2\" class=\"data row3 col2\" >7.100000</td>\n",
       "      <td id=\"T_a7ccf_row3_col3\" class=\"data row3 col3\" >4.189641</td>\n",
       "    </tr>\n",
       "    <tr>\n",
       "      <td id=\"T_a7ccf_row4_col0\" class=\"data row4 col0\" >Top</td>\n",
       "      <td id=\"T_a7ccf_row4_col1\" class=\"data row4 col1\" >23.433333</td>\n",
       "      <td id=\"T_a7ccf_row4_col2\" class=\"data row4 col2\" >23.450000</td>\n",
       "      <td id=\"T_a7ccf_row4_col3\" class=\"data row4 col3\" >5.233809</td>\n",
       "    </tr>\n",
       "  </tbody>\n",
       "</table>\n"
      ]
     },
     "metadata": {},
     "output_type": "display_data"
    }
   ],
   "source": [
    "from IPython.display import display_html \n",
    "\n",
    "lol_mean_median_std = lol_df.agg({\"DMG%\": [\"mean\", \"median\", \"std\"]})\n",
    "overall_DMG = lol_mean_median_std.style.set_table_attributes(\"style='display:inline'\").set_caption('Overall DMG%')\n",
    "\n",
    "Pos_mean_median_std = lol_df.groupby('Pos')['DMG%'].agg([\"mean\", \"median\", \"std\"])\n",
    "Pos_mean_median_std.reset_index(inplace=True)\n",
    "pos_DMG = Pos_mean_median_std.style.hide(axis='index').set_table_attributes(\"style='display:inline'\").set_caption('DMG% by Position')\n",
    "\n",
    "space = \"\\xa0\" * 50 #spacing between the tables\n",
    "\n",
    "display_html(overall_DMG._repr_html_() + space + pos_DMG._repr_html_(), raw=True)"
   ]
  },
  {
   "cell_type": "markdown",
   "id": "ae1457c8-3f71-4685-97a6-6535a364405a",
   "metadata": {},
   "source": [
    "Based on the results, we can see that the `DMG%` of our dataset has a mean of 20.10, a median of 20.30 and a standard deviation of 8.33. Grouping the entries by their `Pos` variable, we see that the Middle category has the highest mean among the 5 positions. However, if we were to base it on the median, then ADC would have the highest `DMG%`. The standard deviation is also useful and will be used later on in the analysis. In order to determine which statistic is appropriate in representing the group, we will look into the distribution of each of the groups. "
   ]
  },
  {
   "cell_type": "markdown",
   "id": "a423d66a-589f-4101-8bfc-aa4f1ac10717",
   "metadata": {},
   "source": [
    "The next thing we can do is to analyze the histogram of each `Pos` based on their `DMG%` variable. Doing so will provide us with an idea of each of their respcetive distributions shapes. "
   ]
  },
  {
   "cell_type": "code",
   "execution_count": 12,
   "id": "44c554d5-e878-487a-a737-af85eae9b7c7",
   "metadata": {},
   "outputs": [
    {
     "data": {
      "image/png": "[encoded data removed]",
      "text/plain": [
       "<Figure size 432x288 with 5 Axes>"
      ]
     },
     "metadata": {
      "needs_background": "light"
     },
     "output_type": "display_data"
    }
   ],
   "source": [
    "top_df = lol_df.loc[lol_df[\"Pos\"] == \"Top\", 'DMG%']\n",
    "middle_df = lol_df.loc[lol_df[\"Pos\"] == \"Middle\", 'DMG%']\n",
    "jungle_df = lol_df.loc[lol_df[\"Pos\"] == \"Jungle\", 'DMG%']\n",
    "adc_df = lol_df.loc[lol_df[\"Pos\"] == \"ADC\", 'DMG%']\n",
    "support_df = lol_df.loc[lol_df[\"Pos\"] == \"Support\", 'DMG%']\n",
    "\n",
    "plt.subplot(2,3,1)\n",
    "plt.hist(top_df, edgecolor='w')\n",
    "plt.title('Top')\n",
    "\n",
    "plt.subplot(2,3,2)\n",
    "plt.hist(middle_df, edgecolor='w')\n",
    "plt.title('Middle')\n",
    "\n",
    "plt.subplot(2,3,3)\n",
    "plt.hist(jungle_df, edgecolor='w')\n",
    "plt.title('Jungle')\n",
    "\n",
    "plt.subplot(2,3,4)\n",
    "plt.hist(adc_df, edgecolor='w')\n",
    "plt.title('ADC')\n",
    "\n",
    "plt.subplot(2,3,6)\n",
    "plt.hist(support_df, edgecolor='w')\n",
    "plt.title('Support')\n",
    "\n",
    "plt.tight_layout()"
   ]
  },
  {
   "cell_type": "markdown",
   "id": "28f87356-d04c-4009-8ead-020b06b3bb27",
   "metadata": {},
   "source": [
    "The histograms show that results for Top, Jungle, and ADC take the form of a somewhat normal distribution while the histograms for Middle and Support roles are positvely skewed. Knowing the shape of the ditribution is important as it allows us to determine the appropriate measure of central tendency that we should use in order to describe the data."
   ]
  },
  {
   "cell_type": "markdown",
   "id": "b6a74117-2f0c-45e3-95e4-d3cfb8726350",
   "metadata": {},
   "source": [
    "We can also use a boxplot in order to better compare `DMG%` by `Pos`. With a box plot, we are able to see the maximum, minimum, first quartile, third quartile, and the median of each. The box plot also shows the outliers for each category."
   ]
  },
  {
   "cell_type": "code",
   "execution_count": 13,
   "id": "05a661bc-e565-4d4c-baae-f9021b36855c",
   "metadata": {},
   "outputs": [
    {
     "data": {
      "text/plain": [
       "<AxesSubplot:title={'center':'DMG%'}, xlabel='Pos'>"
      ]
     },
     "execution_count": 13,
     "metadata": {},
     "output_type": "execute_result"
    },
    {
     "data": {
      "image/png": "[encoded data removed]",
      "text/plain": [
       "<Figure size 1080x720 with 1 Axes>"
      ]
     },
     "metadata": {
      "needs_background": "light"
     },
     "output_type": "display_data"
    }
   ],
   "source": [
    "lol_df.boxplot(\"DMG%\", by=\"Pos\", figsize=(15,10))"
   ]
  },
  {
   "cell_type": "markdown",
   "id": "7d93d1f4-921a-4382-9c99-7accab52163e",
   "metadata": {},
   "source": [
    "With the boxplot, we are able to better visualize the data. Based on the results, we can confirm that ADC, Jungle, and Top have relatively normal distribution while both Middle and Support have skewed distribution.\n",
    "\n",
    "From this, we can assume that it would be best to use the median as the measure of central tendency for both the Middle and Support categories since it is advised that the median be used with groups that are skewed. For ADC, Jungle and Top, any of the three measures of central tendency (mean, meadian, mode) can be used since they are all normally distributed and thus we will also use the median for these 3 categories. \n",
    "\n",
    "There are also outliers present but since they are relatively few for each category, we will not perform any operations on them. \n",
    "\n",
    "**ANSWER:** Based on the stastitics that we computed for earlier, and the histograms/box plots that we produced, we can say that the position capable of doing the most damage share in a team is the `ADC` position since it has the highest median among the group. In light of this, it is advised for teams to target the enemy ADC first while priotizing their own ADC in team fights. Once the ADC has been defeated, the next position that deals the most damage share would be `Top`, followed by `Middle`, then `Jungle`, and lastly `Support`. Taking out the enemy champions in this order will greatly decrease the fighting power of the enemy team. "
   ]
  },
  {
   "cell_type": "markdown",
   "id": "84ce5625-7eb3-460c-9fd4-11a6cce7e9f7",
   "metadata": {},
   "source": [
    " "
   ]
  },
  {
   "cell_type": "markdown",
   "id": "a6b9db9f-ac46-4c41-a28f-5d77c8778fcc",
   "metadata": {},
   "source": [
    "### EDA 2: Is there a correlation between the gold earned, the overall damage desribed, kills (all positions except Support), assists (Support only)?"
   ]
  },
  {
   "cell_type": "markdown",
   "id": "cb5aad28-bca4-4111-a404-f7b5bc3af271",
   "metadata": {},
   "source": [
    "Champion building is an essential part of the team fight that a player must do in order to have a better performance. This means that a fully-built champion may have a higher damage to the enemies or utility to other team champions. Building, however, costs gold which can be earned by killing minions, monsters, and enemy champions. It can also be earned by destroying turrets and assisting fellow teammates on their kills. \n",
    "\n",
    "Hence, the EDA intends to describe the correlation of each position between gold earned and the overall share of damage so that the player can stratigically determine if earning gold is to be prioritized at the start of the game. "
   ]
  },
  {
   "cell_type": "markdown",
   "id": "84f9ac90-adf8-4a9b-be1d-a466d80119e6",
   "metadata": {},
   "source": [
    "To answer this question, the following variables are needed:\n",
    "- **`Pos`**: Position the champion played in. Values include Top, Middle, ADC, Jungle, and Support\n",
    "- **`DMG%`**: Average share of team’s total damage to champions\n",
    "- **`GOLD%`**: Average share of team’s total gold earned (excludes starting gold and inherent gold generation)\n",
    "- **`K`**: Total kills a champion had \n",
    "- **`A`**: Total assists a champion had "
   ]
  },
  {
   "cell_type": "markdown",
   "id": "9653f830-44ba-4bb0-bf5c-0e892355fa7a",
   "metadata": {},
   "source": [
    "Top, Middle, Jungle, and ADC players focus more on giving damage to the enemy champions rather than assisting other team players because they think that it is mainly the objective of the support. Thus, applying this idea, it is assumed that the basis of the performance of Supports are Assists while the rest are Kills. \n",
    "\n",
    "Hence, it is firstly important to separate the data with a Support position from the main dataframe."
   ]
  },
  {
   "cell_type": "code",
   "execution_count": 14,
   "id": "ce894a18-562e-49a9-a12f-1fe28a4c2f76",
   "metadata": {},
   "outputs": [],
   "source": [
    "support_df = lol_df.loc[lol_df['Pos'] == 'Support']\n",
    "other_df = lol_df.drop(support_df.index)"
   ]
  },
  {
   "cell_type": "markdown",
   "id": "ef466f33-3e1e-4d24-81f7-dfde40c507b2",
   "metadata": {},
   "source": [
    "---\n",
    "Focusing on the rest of the positions, we can now check the correlation between the share of gold, share of damage, and their kills. To do this, we isolate the said variables and correlate them using `pandas.DataFrame.corr()`"
   ]
  },
  {
   "cell_type": "code",
   "execution_count": 15,
   "id": "40605540-7495-44e1-84b1-66f33aa33638",
   "metadata": {},
   "outputs": [
    {
     "data": {
      "text/html": [
       "<div>\n",
       "<style scoped>\n",
       "    .dataframe tbody tr th:only-of-type {\n",
       "        vertical-align: middle;\n",
       "    }\n",
       "\n",
       "    .dataframe tbody tr th {\n",
       "        vertical-align: top;\n",
       "    }\n",
       "\n",
       "    .dataframe thead th {\n",
       "        text-align: right;\n",
       "    }\n",
       "</style>\n",
       "<table border=\"1\" class=\"dataframe\">\n",
       "  <thead>\n",
       "    <tr style=\"text-align: right;\">\n",
       "      <th></th>\n",
       "      <th>DMG%</th>\n",
       "      <th>GOLD%</th>\n",
       "      <th>K</th>\n",
       "    </tr>\n",
       "  </thead>\n",
       "  <tbody>\n",
       "    <tr>\n",
       "      <th>DMG%</th>\n",
       "      <td>1.000000</td>\n",
       "      <td>0.568362</td>\n",
       "      <td>0.112170</td>\n",
       "    </tr>\n",
       "    <tr>\n",
       "      <th>GOLD%</th>\n",
       "      <td>0.568362</td>\n",
       "      <td>1.000000</td>\n",
       "      <td>0.124378</td>\n",
       "    </tr>\n",
       "    <tr>\n",
       "      <th>K</th>\n",
       "      <td>0.112170</td>\n",
       "      <td>0.124378</td>\n",
       "      <td>1.000000</td>\n",
       "    </tr>\n",
       "  </tbody>\n",
       "</table>\n",
       "</div>"
      ],
      "text/plain": [
       "           DMG%     GOLD%         K\n",
       "DMG%   1.000000  0.568362  0.112170\n",
       "GOLD%  0.568362  1.000000  0.124378\n",
       "K      0.112170  0.124378  1.000000"
      ]
     },
     "execution_count": 15,
     "metadata": {},
     "output_type": "execute_result"
    }
   ],
   "source": [
    "other_df = other_df[['DMG%', 'GOLD%', 'K']]\n",
    "other_df.corr()"
   ]
  },
  {
   "cell_type": "markdown",
   "id": "d7de75a9-e9fa-4b0e-bcff-d097deebb575",
   "metadata": {},
   "source": [
    "There are a few inferences arrive looking at the table:\n",
    "1. There is a **positive correlation** between the share of gold (GOLD%) to the share of damage (DMG%).\n",
    "2. There is a **positive correlation** between the share of damage (DMG%) to the kills made (K).\n",
    "3. There is a **positive correlation** between the share of gold (GOLD%) to the kills made (K).\n",
    "\n",
    "These inferences are better visualized using the scatter plot."
   ]
  },
  {
   "cell_type": "code",
   "execution_count": 16,
   "id": "0a720f9c-c44c-417c-8e7c-1e73996061cf",
   "metadata": {},
   "outputs": [
    {
     "data": {
      "text/plain": [
       "Text(0.5, 1.0, 'Relationship between GOLD% and DMG%')"
      ]
     },
     "execution_count": 16,
     "metadata": {},
     "output_type": "execute_result"
    },
    {
     "data": {
      "image/png": "[encoded data removed]",
      "text/plain": [
       "<Figure size 432x288 with 1 Axes>"
      ]
     },
     "metadata": {
      "needs_background": "light"
     },
     "output_type": "display_data"
    }
   ],
   "source": [
    "other_df.plot.scatter(x='GOLD%', y='DMG%', alpha=0.5)\n",
    "plt.title('Relationship between GOLD% and DMG%')"
   ]
  },
  {
   "cell_type": "markdown",
   "id": "66311383-8d19-420e-ba2b-fbc73536f5b4",
   "metadata": {},
   "source": [
    "As we can see, the dispersion of data indicates that higher gold results to a higher share of damage. This means that the correlation of GOLD% and DMG% is positive.\n",
    "\n",
    "Now, let's take a look at the scatter plot between the DMG% and the Kills (K)."
   ]
  },
  {
   "cell_type": "code",
   "execution_count": 17,
   "id": "b9f660cd-ead8-4b0f-8eab-d20e95b10b80",
   "metadata": {},
   "outputs": [
    {
     "data": {
      "text/plain": [
       "Text(0.5, 1.0, 'Relationship between K and DMG%')"
      ]
     },
     "execution_count": 17,
     "metadata": {},
     "output_type": "execute_result"
    },
    {
     "data": {
      "image/png": "[encoded data removed]",
      "text/plain": [
       "<Figure size 432x288 with 1 Axes>"
      ]
     },
     "metadata": {
      "needs_background": "light"
     },
     "output_type": "display_data"
    }
   ],
   "source": [
    "other_df.plot.scatter(x='DMG%', y='K', alpha=0.5)\n",
    "plt.title('Relationship between K and DMG%')"
   ]
  },
  {
   "cell_type": "markdown",
   "id": "b20c5c5c-a0e4-47bb-8bdb-4c15139f98ef",
   "metadata": {},
   "source": [
    "We can now see that the correlation is also true in terms of GOLD% and Kills (K). Focusing on the **range [10, 40] for the DMG%** and **range [0, 125] for the number of Kills (K)**, we can see that higher damage deals higher number of kills.\n",
    "\n",
    "Let's take a look at the scatter plot of GOLD% to Kills (K)."
   ]
  },
  {
   "cell_type": "code",
   "execution_count": 18,
   "id": "2ab5d5c8-344d-4577-8872-253e480fb8a2",
   "metadata": {},
   "outputs": [
    {
     "data": {
      "text/plain": [
       "Text(0.5, 1.0, 'Relationship between GOLD% and K')"
      ]
     },
     "execution_count": 18,
     "metadata": {},
     "output_type": "execute_result"
    },
    {
     "data": {
      "image/png": "[encoded data removed]",
      "text/plain": [
       "<Figure size 432x288 with 1 Axes>"
      ]
     },
     "metadata": {
      "needs_background": "light"
     },
     "output_type": "display_data"
    }
   ],
   "source": [
    "other_df.plot.scatter(x='GOLD%', y='K', alpha=0.5)\n",
    "plt.title('Relationship between GOLD% and K')"
   ]
  },
  {
   "cell_type": "markdown",
   "id": "e7ef1070-4bdb-416d-8b42-d403dca15812",
   "metadata": {},
   "source": [
    "Applying the same ranges for the scatter plot between the GOLD% and number of Kills (K), we can see that higher gold earned also means higher number of kills."
   ]
  },
  {
   "cell_type": "markdown",
   "id": "f35b3ec9-c9a1-4c36-98b3-214431f5e568",
   "metadata": {},
   "source": [
    "**ANSWER:** These inferences mean that if a player uses a Top, Middle, Jungle, or ADC champion, they are recommended to earn gold, especially at the start of the game, so that they can gain a higher damage leading to a higher number of kills.\n",
    "\n",
    "---"
   ]
  },
  {
   "cell_type": "markdown",
   "id": "196ebf09-f966-4a98-b672-d41cedcabd68",
   "metadata": {},
   "source": [
    "Since we can now focus on the support, it is important to emphasize the role of supports first to justify the use of Assist as a factor for correlation. \n",
    "\n",
    "There are different types of Supports in League of Legends: **Tank**, **Enchanter**, **Poke**, **Damage**, **Utility**, and **Pick**. Their job at the start of the game is to assist the ADC since their area of effect is wide, and their damage increases through build, and experience, which is why it is important for the Support to avoid getting a creep score especially at the early game. After meeting this objective, Supports can now roam to assist other players (Ferriday, 2022). \n",
    "\n",
    "Because of this, Assists (A) will be the factor used in our correlations instead of Kills (K). To do this, let us isolate the DMG%, GOLD%, and Assists (A) of the Support dataframe."
   ]
  },
  {
   "cell_type": "code",
   "execution_count": 19,
   "id": "6c54d932-1d52-47dd-a9eb-2a5c4380a30e",
   "metadata": {},
   "outputs": [],
   "source": [
    "support_df = support_df[['DMG%', 'GOLD%', 'A']]"
   ]
  },
  {
   "cell_type": "markdown",
   "id": "74b113d9-02f1-40ea-a1bb-52f31823bf70",
   "metadata": {},
   "source": [
    "We can now correlate the dataframe using the function `pandas.DataFrame.corr()`."
   ]
  },
  {
   "cell_type": "code",
   "execution_count": 20,
   "id": "5ee2d5ef-f3ad-4229-b433-92d017dc89f8",
   "metadata": {},
   "outputs": [
    {
     "data": {
      "text/html": [
       "<div>\n",
       "<style scoped>\n",
       "    .dataframe tbody tr th:only-of-type {\n",
       "        vertical-align: middle;\n",
       "    }\n",
       "\n",
       "    .dataframe tbody tr th {\n",
       "        vertical-align: top;\n",
       "    }\n",
       "\n",
       "    .dataframe thead th {\n",
       "        text-align: right;\n",
       "    }\n",
       "</style>\n",
       "<table border=\"1\" class=\"dataframe\">\n",
       "  <thead>\n",
       "    <tr style=\"text-align: right;\">\n",
       "      <th></th>\n",
       "      <th>DMG%</th>\n",
       "      <th>GOLD%</th>\n",
       "      <th>A</th>\n",
       "    </tr>\n",
       "  </thead>\n",
       "  <tbody>\n",
       "    <tr>\n",
       "      <th>DMG%</th>\n",
       "      <td>1.000000</td>\n",
       "      <td>0.240619</td>\n",
       "      <td>-0.100170</td>\n",
       "    </tr>\n",
       "    <tr>\n",
       "      <th>GOLD%</th>\n",
       "      <td>0.240619</td>\n",
       "      <td>1.000000</td>\n",
       "      <td>-0.116657</td>\n",
       "    </tr>\n",
       "    <tr>\n",
       "      <th>A</th>\n",
       "      <td>-0.100170</td>\n",
       "      <td>-0.116657</td>\n",
       "      <td>1.000000</td>\n",
       "    </tr>\n",
       "  </tbody>\n",
       "</table>\n",
       "</div>"
      ],
      "text/plain": [
       "           DMG%     GOLD%         A\n",
       "DMG%   1.000000  0.240619 -0.100170\n",
       "GOLD%  0.240619  1.000000 -0.116657\n",
       "A     -0.100170 -0.116657  1.000000"
      ]
     },
     "execution_count": 20,
     "metadata": {},
     "output_type": "execute_result"
    }
   ],
   "source": [
    "support_df.corr()"
   ]
  },
  {
   "cell_type": "markdown",
   "id": "68d043d8-cab0-423f-b617-87022df08d62",
   "metadata": {},
   "source": [
    "There are a few inferences arrive looking at the table:\n",
    "1. There is a **positive correlation** between the share of gold (GOLD%) to the share of damage (DMG%).\n",
    "2. There is a **negative correlation** between the share of damage (DMG%) to the assists made (A).\n",
    "3. There is a **negative correlation** between the share of gold (GOLD%) to the assists made (A).\n",
    "\n",
    "These inferences are better visualized using the scatter plot."
   ]
  },
  {
   "cell_type": "code",
   "execution_count": 21,
   "id": "cd536021-ee3a-4117-bec7-f9fefcd5d3cb",
   "metadata": {},
   "outputs": [
    {
     "data": {
      "text/plain": [
       "Text(0.5, 1.0, 'Relationship between GOLD% and DMG%')"
      ]
     },
     "execution_count": 21,
     "metadata": {},
     "output_type": "execute_result"
    },
    {
     "data": {
      "image/png": "[encoded data removed]",
      "text/plain": [
       "<Figure size 432x288 with 1 Axes>"
      ]
     },
     "metadata": {
      "needs_background": "light"
     },
     "output_type": "display_data"
    }
   ],
   "source": [
    "support_df.plot.scatter(x='DMG%', y='GOLD%', alpha=0.5)\n",
    "plt.title('Relationship between GOLD% and DMG%')"
   ]
  },
  {
   "cell_type": "markdown",
   "id": "5975d019-0718-47ec-addd-27b9c3a11685",
   "metadata": {},
   "source": [
    "Looking at the positive correlation of GOLD% and DMG%, the higher gold that Supports have, the higher their damage. This is the same as the correlation of GOLD% and DMG% of the other positions. All champions can deal damage through basic attacks, including Supports. There are Support champions that have skills intended for damage which are built over time using gold. Therefore, the gold earned will always be positively correlated to the overall share of damage regardless of the position.\n",
    "\n",
    "Now, we visualize the correlation of GOLD% to Assists (A)."
   ]
  },
  {
   "cell_type": "code",
   "execution_count": 22,
   "id": "0004b510-9295-4049-b254-24d78bc47e75",
   "metadata": {},
   "outputs": [
    {
     "data": {
      "text/plain": [
       "Text(0.5, 1.0, 'Relationship between GOLD% and A')"
      ]
     },
     "execution_count": 22,
     "metadata": {},
     "output_type": "execute_result"
    },
    {
     "data": {
      "image/png": "[encoded data removed]",
      "text/plain": [
       "<Figure size 432x288 with 1 Axes>"
      ]
     },
     "metadata": {
      "needs_background": "light"
     },
     "output_type": "display_data"
    }
   ],
   "source": [
    "support_df.plot.scatter(x='A', y='GOLD%', alpha=0.5)\n",
    "plt.title('Relationship between GOLD% and A')"
   ]
  },
  {
   "cell_type": "markdown",
   "id": "06099e5d-d057-40a6-be18-f04abfadc1b1",
   "metadata": {},
   "source": [
    "Looking at the scatter plot, those champions with higher assists have a lower share of gold. This is true by definition of the variables. `GOLD%` is the percentage of share of gold to the team. Meaning, a higher percentage of gold earned will mean lower percentage of share for the rest of the positions. For example, the GOLD% of a Support is **25%**. Calculating the share of other positions, they have an estimated percentage of **18.75%** which is lower. \n",
    "\n",
    "Reflecting back at the positive correlation between kills and share of gold of the other positions, it is also true that lower share of gold results to a lower number of kills. Since assists are incremented whenever a help is initiated to the champion who kills an enemy, it is now inferred that lower number of assists is due to a higher share of gold earned.\n",
    "\n",
    "Let's now take a look at the scatter plot of DMG% to A. "
   ]
  },
  {
   "cell_type": "code",
   "execution_count": 23,
   "id": "de6a68e8-34de-45c6-ad57-969c3c6b458f",
   "metadata": {},
   "outputs": [
    {
     "data": {
      "text/plain": [
       "Text(0.5, 1.0, 'Relationship between DMG% and A')"
      ]
     },
     "execution_count": 23,
     "metadata": {},
     "output_type": "execute_result"
    },
    {
     "data": {
      "image/png": "[encoded data removed]",
      "text/plain": [
       "<Figure size 432x288 with 1 Axes>"
      ]
     },
     "metadata": {
      "needs_background": "light"
     },
     "output_type": "display_data"
    }
   ],
   "source": [
    "support_df.plot.scatter(x='A', y='DMG%', alpha=0.5)\n",
    "plt.title('Relationship between DMG% and A')"
   ]
  },
  {
   "cell_type": "markdown",
   "id": "68c38824-33e5-4fa4-b56e-2211c3b1743b",
   "metadata": {},
   "source": [
    "The reason of a negative correlation between DMG% and Assists (A) is similar to the explanation in the relationship between GOLD% and Assists (A). Looking at the definition of `DMG%`, a higher damage share will also mean a lower damage share of the other positions. Which is why, inferring from the correlation between DMG% and Kills (K) of the other positions, Top, Middle, Jungle, and ADC champions with lower percentage of damage is mostly not to be able to kill many enemy champions. \n",
    "\n",
    "If the Support has a higher share of damage, this means that they are most likely 'stealing' more kills from other positions. Since the damage of the other positions is important to efficiently kill an enemy champion, getting more kills may mean that the other players are not going to be stronger as the fight progresses. Hence, Supports with higher damage tend to have lower assists at the end of the game."
   ]
  },
  {
   "cell_type": "markdown",
   "id": "7cb3acf2-5bf3-4f0c-8160-f1c5bed18dd2",
   "metadata": {},
   "source": [
    "**ANSWER:** These inferences mean that if a player uses a Support champion, they are **not** recommended to give prioritization on earning gold especially at the start of the game. To have a better team fight performance, they are recommended to utilize the champion's skills to assist the champions of other positions."
   ]
  }
 ],
 "metadata": {
  "kernelspec": {
   "display_name": "Python 3 (ipykernel)",
   "language": "python",
   "name": "python3"
  },
  "language_info": {
   "codemirror_mode": {
    "name": "ipython",
    "version": 3
   },
   "file_extension": ".py",
   "mimetype": "text/x-python",
   "name": "python",
   "nbconvert_exporter": "python",
   "pygments_lexer": "ipython3",
   "version": "3.9.12"
  },
  "vscode": {
   "interpreter": {
    "hash": "8c3d4d9970fc5c09c50d9318a9c7fbf4d0159e4b28833276f5678ee22bded273"
   }
  }
 },
 "nbformat": 4,
 "nbformat_minor": 5
}
