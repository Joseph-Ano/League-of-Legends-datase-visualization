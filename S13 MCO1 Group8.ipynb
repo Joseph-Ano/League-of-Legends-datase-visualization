{
 "cells": [
  {
   "cell_type": "markdown",
   "id": "b662a7a7-1aa5-49cf-8d2c-28a86625cfeb",
   "metadata": {
    "tags": []
   },
   "source": [
    "# S13 Group 8: Project - Phase 1\n",
    "\n",
    "## Members:\n",
    "- Ano, Joseph Thomas M.\n",
    "- Limjoco, Jared Ethan D. \n",
    "- Nadela, Cymon Radjh O.\n",
    "\n",
    "In this Notebook, we will be using the [League of Legends Worlds 2021 Main Event - Champion Stats](https://www.kaggle.com/datasets/vincentbarletta/league-of-legends-worlds-champion-pb-dataset?select=Worlds+2021+Main+Event+-+Champion+Stats+-+OraclesElixir.csv). The notebook will cover four main parts namely the **dataset description**, **data cleaning**, the **exploratory data analysis questions**, and the group's **proposed research questions**. \n",
    "\n"
   ]
  },
  {
   "cell_type": "markdown",
   "id": "79d6f6b6-d280-4894-9ae9-de594cefc8b5",
   "metadata": {
    "tags": []
   },
   "source": [
    "---\n",
    "## Data Set Description\n",
    "\n",
    "### Brief description of dataset\n",
    "This data set contains the list of every champion either picked or banned during the 2021 League of Legends World tournament. As metioned in its kaggle page, the main statistics of this particular data set include the champion name, position, pick rate, ban rate, pick+ban rate, and more individual champion statistics (Kill, Death, Assist, KDA rate, etc). Each column also has a breif description explaining the variable.\n",
    "\n",
    "### Description of the data collection process\n",
    "The data was collected from a popular website called [Oracle's Elixir](https://oracleselixir.com/about), the premier source for advance League of Legends esports statistics and was posted on kaggle by the user Vincent Barletta. All of the data comes from the analysts and data scrapers at Oracles Elixir who retrive the data from several sources including including Match History pages, [lolesports.com](https://lolesports.com), [lpl.QQ.com](https://lpl.qq.com), [Leaguepedia](https://lol.fandom.com/wiki/League_of_Legends_Esports_Wiki), the Riot Games solo queue APIs, and more "
   ]
  },
  {
   "cell_type": "markdown",
   "id": "7abf78dc-b93d-4967-9e19-d2f69bf0e9a3",
   "metadata": {},
   "source": [
    "### Structure of the data set"
   ]
  },
  {
   "cell_type": "code",
   "execution_count": 1,
   "id": "91a3f2a9-4c94-47e2-9f11-aa46c160b1ce",
   "metadata": {},
   "outputs": [],
   "source": [
    "import numpy as np\n",
    "import pandas as pd\n",
    "import matplotlib.pyplot as plt\n",
    "\n",
    "# sets the theme of the charts\n",
    "#plt.style.use('seaborn-darkgrid')\n",
    "\n",
    "%matplotlib inline"
   ]
  },
  {
   "cell_type": "code",
   "execution_count": 2,
   "id": "e9c50f45-52a0-4f9b-8ab9-cb07aecb5801",
   "metadata": {},
   "outputs": [
    {
     "data": {
      "text/html": [
       "<div>\n",
       "<style scoped>\n",
       "    .dataframe tbody tr th:only-of-type {\n",
       "        vertical-align: middle;\n",
       "    }\n",
       "\n",
       "    .dataframe tbody tr th {\n",
       "        vertical-align: top;\n",
       "    }\n",
       "\n",
       "    .dataframe thead th {\n",
       "        text-align: right;\n",
       "    }\n",
       "</style>\n",
       "<table border=\"1\" class=\"dataframe\">\n",
       "  <thead>\n",
       "    <tr style=\"text-align: right;\">\n",
       "      <th></th>\n",
       "      <th>Champion</th>\n",
       "      <th>Pos</th>\n",
       "      <th>GP</th>\n",
       "      <th>P%</th>\n",
       "      <th>B%</th>\n",
       "      <th>P+B%</th>\n",
       "      <th>W%</th>\n",
       "      <th>CTR%</th>\n",
       "      <th>K</th>\n",
       "      <th>D</th>\n",
       "      <th>...</th>\n",
       "      <th>GD10</th>\n",
       "      <th>XPD10</th>\n",
       "      <th>CSD10</th>\n",
       "      <th>CSPM</th>\n",
       "      <th>CS%P15</th>\n",
       "      <th>DPM</th>\n",
       "      <th>DMG%</th>\n",
       "      <th>GOLD%</th>\n",
       "      <th>WPM</th>\n",
       "      <th>WCPM</th>\n",
       "    </tr>\n",
       "  </thead>\n",
       "  <tbody>\n",
       "    <tr>\n",
       "      <th>0</th>\n",
       "      <td>Aatrox</td>\n",
       "      <td>Middle</td>\n",
       "      <td>1</td>\n",
       "      <td>1.2%</td>\n",
       "      <td>1.2%</td>\n",
       "      <td>4.8%</td>\n",
       "      <td>100%</td>\n",
       "      <td>100%</td>\n",
       "      <td>2</td>\n",
       "      <td>2</td>\n",
       "      <td>...</td>\n",
       "      <td>46</td>\n",
       "      <td>467</td>\n",
       "      <td>-2</td>\n",
       "      <td>8.8</td>\n",
       "      <td>25.1%</td>\n",
       "      <td>377</td>\n",
       "      <td>22.1%</td>\n",
       "      <td>20.9%</td>\n",
       "      <td>0.21</td>\n",
       "      <td>0.38</td>\n",
       "    </tr>\n",
       "    <tr>\n",
       "      <th>1</th>\n",
       "      <td>Aatrox</td>\n",
       "      <td>Top</td>\n",
       "      <td>2</td>\n",
       "      <td>2.4%</td>\n",
       "      <td>1.2%</td>\n",
       "      <td>4.8%</td>\n",
       "      <td>50%</td>\n",
       "      <td>100%</td>\n",
       "      <td>6</td>\n",
       "      <td>2</td>\n",
       "      <td>...</td>\n",
       "      <td>14</td>\n",
       "      <td>184</td>\n",
       "      <td>-10</td>\n",
       "      <td>7.9</td>\n",
       "      <td>25.0%</td>\n",
       "      <td>260</td>\n",
       "      <td>17.5%</td>\n",
       "      <td>24.0%</td>\n",
       "      <td>0.36</td>\n",
       "      <td>0.22</td>\n",
       "    </tr>\n",
       "    <tr>\n",
       "      <th>2</th>\n",
       "      <td>Alistar</td>\n",
       "      <td>Support</td>\n",
       "      <td>5</td>\n",
       "      <td>6.0%</td>\n",
       "      <td>0.0%</td>\n",
       "      <td>6.0%</td>\n",
       "      <td>40%</td>\n",
       "      <td>80%</td>\n",
       "      <td>6</td>\n",
       "      <td>19</td>\n",
       "      <td>...</td>\n",
       "      <td>-44</td>\n",
       "      <td>-77</td>\n",
       "      <td>2.4</td>\n",
       "      <td>0.9</td>\n",
       "      <td>1.9%</td>\n",
       "      <td>121</td>\n",
       "      <td>7.1%</td>\n",
       "      <td>8.4%</td>\n",
       "      <td>1.96</td>\n",
       "      <td>0.34</td>\n",
       "    </tr>\n",
       "    <tr>\n",
       "      <th>3</th>\n",
       "      <td>Amumu</td>\n",
       "      <td>Support</td>\n",
       "      <td>1</td>\n",
       "      <td>1.2%</td>\n",
       "      <td>7.2%</td>\n",
       "      <td>8.4%</td>\n",
       "      <td>100%</td>\n",
       "      <td>0%</td>\n",
       "      <td>2</td>\n",
       "      <td>4</td>\n",
       "      <td>...</td>\n",
       "      <td>-39</td>\n",
       "      <td>446</td>\n",
       "      <td>2</td>\n",
       "      <td>0.8</td>\n",
       "      <td>1.8%</td>\n",
       "      <td>155</td>\n",
       "      <td>6.6%</td>\n",
       "      <td>8.8%</td>\n",
       "      <td>1.69</td>\n",
       "      <td>0.34</td>\n",
       "    </tr>\n",
       "    <tr>\n",
       "      <th>4</th>\n",
       "      <td>Annie</td>\n",
       "      <td>Middle</td>\n",
       "      <td>2</td>\n",
       "      <td>2.4%</td>\n",
       "      <td>1.2%</td>\n",
       "      <td>3.6%</td>\n",
       "      <td>50%</td>\n",
       "      <td>100%</td>\n",
       "      <td>6</td>\n",
       "      <td>6</td>\n",
       "      <td>...</td>\n",
       "      <td>-345</td>\n",
       "      <td>-457</td>\n",
       "      <td>-14</td>\n",
       "      <td>5.6</td>\n",
       "      <td>16.4%</td>\n",
       "      <td>396</td>\n",
       "      <td>20.1%</td>\n",
       "      <td>16.6%</td>\n",
       "      <td>0.6</td>\n",
       "      <td>0.11</td>\n",
       "    </tr>\n",
       "  </tbody>\n",
       "</table>\n",
       "<p>5 rows × 25 columns</p>\n",
       "</div>"
      ],
      "text/plain": [
       "  Champion      Pos  GP    P%    B%  P+B%    W%  CTR%  K   D  ...  GD10 XPD10  \\\n",
       "0   Aatrox   Middle   1  1.2%  1.2%  4.8%  100%  100%  2   2  ...    46   467   \n",
       "1   Aatrox      Top   2  2.4%  1.2%  4.8%   50%  100%  6   2  ...    14   184   \n",
       "2  Alistar  Support   5  6.0%  0.0%  6.0%   40%   80%  6  19  ...   -44   -77   \n",
       "3    Amumu  Support   1  1.2%  7.2%  8.4%  100%    0%  2   4  ...   -39   446   \n",
       "4    Annie   Middle   2  2.4%  1.2%  3.6%   50%  100%  6   6  ...  -345  -457   \n",
       "\n",
       "  CSD10 CSPM CS%P15  DPM   DMG%  GOLD%   WPM  WCPM  \n",
       "0    -2  8.8  25.1%  377  22.1%  20.9%  0.21  0.38  \n",
       "1   -10  7.9  25.0%  260  17.5%  24.0%  0.36  0.22  \n",
       "2   2.4  0.9   1.9%  121   7.1%   8.4%  1.96  0.34  \n",
       "3     2  0.8   1.8%  155   6.6%   8.8%  1.69  0.34  \n",
       "4   -14  5.6  16.4%  396  20.1%  16.6%   0.6  0.11  \n",
       "\n",
       "[5 rows x 25 columns]"
      ]
     },
     "execution_count": 2,
     "metadata": {},
     "output_type": "execute_result"
    }
   ],
   "source": [
    "lol_df = pd.read_csv('Worlds 2021 Main Event - Champion Stats - OraclesElixir.csv')\n",
    "lol_df.head()"
   ]
  },
  {
   "cell_type": "code",
   "execution_count": 3,
   "id": "01aa5c2e-dcc8-44c8-a8bc-71751dececaa",
   "metadata": {},
   "outputs": [
    {
     "name": "stdout",
     "output_type": "stream",
     "text": [
      "<class 'pandas.core.frame.DataFrame'>\n",
      "RangeIndex: 94 entries, 0 to 93\n",
      "Data columns (total 25 columns):\n",
      " #   Column    Non-Null Count  Dtype \n",
      "---  ------    --------------  ----- \n",
      " 0   Champion  94 non-null     object\n",
      " 1   Pos       94 non-null     object\n",
      " 2   GP        94 non-null     int64 \n",
      " 3   P%        94 non-null     object\n",
      " 4   B%        94 non-null     object\n",
      " 5   P+B%      94 non-null     object\n",
      " 6   W%        94 non-null     object\n",
      " 7   CTR%      94 non-null     object\n",
      " 8   K         94 non-null     object\n",
      " 9   D         94 non-null     object\n",
      " 10  A         94 non-null     object\n",
      " 11  KDA       94 non-null     object\n",
      " 12  KP        94 non-null     object\n",
      " 13  DTH%      94 non-null     object\n",
      " 14  FB%       94 non-null     object\n",
      " 15  GD10      94 non-null     object\n",
      " 16  XPD10     94 non-null     object\n",
      " 17  CSD10     94 non-null     object\n",
      " 18  CSPM      94 non-null     object\n",
      " 19  CS%P15    94 non-null     object\n",
      " 20  DPM       94 non-null     object\n",
      " 21  DMG%      94 non-null     object\n",
      " 22  GOLD%     94 non-null     object\n",
      " 23  WPM       94 non-null     object\n",
      " 24  WCPM      94 non-null     object\n",
      "dtypes: int64(1), object(24)\n",
      "memory usage: 18.5+ KB\n"
     ]
    }
   ],
   "source": [
    "lol_df.info()"
   ]
  },
  {
   "cell_type": "markdown",
   "id": "e0803230-177d-499f-97c2-350042cc1743",
   "metadata": {},
   "source": [
    "The data set contains a total of **94 observations** and is made up of **25 variables**. Each row in the data set represents a the game statistics of a champion that was either picked or banned during the tournament. You may notice that there are observations consisting of the same value for the variable **`Champion`**, this is because a champion can be played in more than one postion which will result in the data set having rows/observations each with a unique combination of the **`Champion`** and **`Pos`** variable "
   ]
  },
  {
   "cell_type": "markdown",
   "id": "30e78dc7-ebc2-4142-878e-6286c3c3e13e",
   "metadata": {},
   "source": [
    "### Description of each variable\n",
    "- **`Champion`**: Name of the champion picked/banned\n",
    "- **`Pos`**: Position the champion played in. Values include Top, Middle, ADC, Jungle, and Support\n",
    "- **`GP`**: Total number of games the champion was picked/played in this role\n",
    "- **`P%`**: Percentage of games champion was picked in this role\n",
    "- **`B%`**: Percentage of games in which the champion was banned (not tied to a specific role)\n",
    "- **`P+B%`**: Percentage of games in which the champion was either banned or picked in any role\n",
    "- **`W%`**: Win percentage of champion in a specific role\n",
    "- **`CTR%`**: Counter-pick rate: percentage of games in which this player/champion was picked after their lane opponent \n",
    "- **`K`**: Total kills a champion had \n",
    "- **`D`**: Total deaths a champion had \n",
    "- **`A`**: Total assists a champion had \n",
    "- **`KDA`**: Total Kill/Death/Assits ration for a champion \n",
    "- **`KP`**: Kill participation which is the percentage of the team's kills in which the champion earned a Kill or Assist \n",
    "- **`DTH%`**: Average share of team’s deaths \n",
    "- **`FB%`**: Percent of games earning a First Blood participation either kill or assist \n",
    "- **`GD10`**: Average gold difference from lane opponent at 10 minutes \n",
    "- **`XPD10`**: Average experience difference from lane opponent at 10 minutes\n",
    "- **`CSD10`**: Average creep score difference from lane opponentat 10 minutes\n",
    "- **`CSPM`**: Average monsters + minions killed per minute\n",
    "- **`CS%P15`**: Average share of team's total CS post-15-minutes\n",
    "- **`DPM`**: Average damage to champions per minute\n",
    "- **`DMG%`**: Average share of team’s total damage to champions\n",
    "- **`GOLD%`**: Average share of team’s total gold earned (excludes starting gold and inherent gold generation)\n",
    "- **`WPM`**: Average wards placed per minute\n",
    "- **`WCPM`**: Average wards cleared per minute"
   ]
  },
  {
   "cell_type": "markdown",
   "id": "62bd5d02-c80b-4516-bda4-dad946aa2f43",
   "metadata": {},
   "source": [
    "---\n",
    "## Data Clean up"
   ]
  },
  {
   "cell_type": "markdown",
   "id": "69711230-2a87-463b-bd83-c4247008bc62",
   "metadata": {},
   "source": [
    "### Duplicate Data\n",
    "The first thing we'll check for is if duplicate records exists in the data set. Since each record in this data set represents the statistics of every champion either picked (in a specific position) or banned, each record must have a unique combination of the **`Champion`** and the **`Pos`** variable. To do this, we will first select the columns of the **`Champion`** and the **`Pos`** variables which will result in a **dataframe** which we will assign to a variable called `duplicate_test`. We will then use the `duplicated` function, along with the `any` function, to check if there are any duplicated records based on these two variables."
   ]
  },
  {
   "cell_type": "code",
   "execution_count": 4,
   "id": "c05cab64-2e3f-4199-bb90-7a567777dd47",
   "metadata": {},
   "outputs": [
    {
     "name": "stdout",
     "output_type": "stream",
     "text": [
      "Duplicated data exists:  False\n"
     ]
    }
   ],
   "source": [
    "duplicate_test = lol_df[['Champion', 'Pos']]\n",
    "duplicate_data_exists = duplicate_test.duplicated().any()\n",
    "print('Duplicated data exists: ', duplicate_data_exists)"
   ]
  },
  {
   "cell_type": "markdown",
   "id": "d60c16a5-1407-4e56-9496-475d7d1c5d80",
   "metadata": {},
   "source": [
    "The reason why we select the **`Champion`** and the **`Pos`** columns is because if we were to use the `duplicated` function using the original dataframe, there is a chance that two records may have the same **`Champion`** and **`Pos`** values but differ in other columns. In this case, the `duplicated` function will return a value of `false` which is wrong since we want each record to have a unique combination of the **`Champion`** and **`Pos`** variables. "
   ]
  },
  {
   "cell_type": "markdown",
   "id": "bfc6baee-a15e-4782-befd-dcd4a3776d3c",
   "metadata": {},
   "source": [
    "### Missing Data"
   ]
  },
  {
   "cell_type": "code",
   "execution_count": 5,
   "id": "76362806-dd40-4a25-8f64-bc4daf0fb756",
   "metadata": {
    "tags": []
   },
   "outputs": [
    {
     "data": {
      "text/plain": [
       "Top        24\n",
       "Middle     21\n",
       "Support    17\n",
       "Jungle     16\n",
       "ADC        14\n",
       "-           2\n",
       "Name: Pos, dtype: int64"
      ]
     },
     "execution_count": 5,
     "metadata": {},
     "output_type": "execute_result"
    }
   ],
   "source": [
    "lol_df['Pos'].value_counts()"
   ]
  },
  {
   "cell_type": "markdown",
   "id": "d80eb3cc-6709-4599-a18a-008bb97a016c",
   "metadata": {},
   "source": [
    "When viewing the dataset, you will notice that some records have a value of `-` in some of their variables. This is the default value when a variable of a record should be empty. For example, the code above shows that there are two records which have a value of `-` in their **`Pos`** variable. This because these two records(Champions) were never picked in the entire tournament but were banned at least once which is why they are included in this data set but with most of their variables having a value of `-`.\n",
    "\n",
    "Since majority of their variables will not have any meaningful value, and considering the fact that there are only 2 of these records out of a total of 94 entries, we believe that it will be best to remove these two records from entire dataset. To do so we will first get the indices of the records which have a value of `-` in their **`Pos`** column. After getting the indices, we can use the `drop` function to remove these records from the data set."
   ]
  },
  {
   "cell_type": "code",
   "execution_count": 6,
   "id": "b95baf9a-2e91-4050-a723-bb5111876f8e",
   "metadata": {},
   "outputs": [
    {
     "name": "stdout",
     "output_type": "stream",
     "text": [
      "Number of entries in the dataframe:  92\n"
     ]
    },
    {
     "data": {
      "text/plain": [
       "Top        24\n",
       "Middle     21\n",
       "Support    17\n",
       "Jungle     16\n",
       "ADC        14\n",
       "Name: Pos, dtype: int64"
      ]
     },
     "execution_count": 6,
     "metadata": {},
     "output_type": "execute_result"
    }
   ],
   "source": [
    "#Get indices\n",
    "dropped_index = lol_df[ lol_df['Pos'] == '-' ].index\n",
    "\n",
    "#Drop records\n",
    "lol_df = lol_df.drop(dropped_index)\n",
    "\n",
    "#Check new number of entries\n",
    "print('Number of entries in the dataframe: ', lol_df.shape[0])\n",
    "\n",
    "#Re-check the value count of the Pos variable\n",
    "lol_df['Pos'].value_counts()"
   ]
  },
  {
   "cell_type": "markdown",
   "id": "8a35e29c-b30f-4469-9a9b-363dbf474dcc",
   "metadata": {},
   "source": [
    "As you can see, the new number of entries in the data set is 92 which means that the two records that we selected were removed from the data set. We can also check this by checking the value count of the **`Pos`** variable which shows that there are only 5 values for that variable. We can now ensure that there are no missing values in our data set as each record gwill contain a champion in a specific"
   ]
  },
  {
   "cell_type": "markdown",
   "id": "f5da1808-43c1-4892-b16e-157c6e60a4eb",
   "metadata": {},
   "source": [
    "### Categorical Values\n",
    "Our data set only contains one column with categorical values which is the `Pos` column. We can see the values of this column by using the `values_count` function. Doing so, we will be able to check if there are multiple representations for the same categorical value."
   ]
  },
  {
   "cell_type": "code",
   "execution_count": 7,
   "id": "36597b91-5aa1-42c9-a53b-84dbf3d40c71",
   "metadata": {},
   "outputs": [
    {
     "data": {
      "text/plain": [
       "Top        24\n",
       "Middle     21\n",
       "Support    17\n",
       "Jungle     16\n",
       "ADC        14\n",
       "Name: Pos, dtype: int64"
      ]
     },
     "execution_count": 7,
     "metadata": {},
     "output_type": "execute_result"
    }
   ],
   "source": [
    "lol_df['Pos'].value_counts()"
   ]
  },
  {
   "cell_type": "markdown",
   "id": "97d0d7cf-a00e-4b2b-8aa8-2f568b69d6d5",
   "metadata": {},
   "source": [
    "As you can see, there are 5 only types for the `Pos` column, none of which seem like a different representation of the other meaning that there is no need for us to clean/fix this column."
   ]
  },
  {
   "cell_type": "markdown",
   "id": "5bb5308a-bb5c-4e51-900f-050d3545c551",
   "metadata": {},
   "source": [
    "### Formatting of Values\n",
    "Majority of the values in the data set are numbers however some of these numbers include the `%` sign as the value represents a percentage. To make it easier for future processes such as converting the variable to their apprpriate type or performing numerical operations, we can remove the `%` sign from all the values that have them. To do so, we use `%$` as the regex value with the `replace` function. This takes all of the `%` signs at the end of the value and removes them. "
   ]
  },
  {
   "cell_type": "code",
   "execution_count": 8,
   "id": "e9915db3-0d94-4645-a618-e5d1b01530b2",
   "metadata": {},
   "outputs": [
    {
     "data": {
      "text/plain": [
       "0      1.2\n",
       "1      2.4\n",
       "2      6.0\n",
       "3      1.2\n",
       "4      2.4\n",
       "      ... \n",
       "89     1.2\n",
       "90    18.1\n",
       "91    10.8\n",
       "92     3.6\n",
       "93    16.9\n",
       "Name: P%, Length: 92, dtype: object"
      ]
     },
     "execution_count": 8,
     "metadata": {},
     "output_type": "execute_result"
    }
   ],
   "source": [
    "lol_df.replace(to_replace='%$', value='', regex = True, inplace = True)\n",
    "lol_df['P%'] #checking if the % sign was removed"
   ]
  },
  {
   "cell_type": "markdown",
   "id": "c67b4138-1530-4b53-a7b0-244e5a46b51f",
   "metadata": {},
   "source": [
    "### Data Types of Variables\n",
    "The data type of most of the variables in our current data set is incorrect since most of them are of type `object` even if they should be of type `float` and `int`. To convert the columns to their proper data type, we will be using the `astype` function. For now, our group will only be utilizing the `Pos`, `CSPM`, `K`, `A`, `DMG%`, and `GOLD%` variables and thus we will only be correcting the data types for these variables. The `Pos` variable is already of correct type. `K` and `A` should be of type int since they are whole numbers while `CSPM`, `DMG%`, and `GOLD%` variables should be of type `float`.\n"
   ]
  },
  {
   "cell_type": "code",
   "execution_count": 9,
   "id": "e7eab2bd-451d-4b7b-a865-31337778e3c4",
   "metadata": {},
   "outputs": [
    {
     "name": "stdout",
     "output_type": "stream",
     "text": [
      "<class 'pandas.core.frame.DataFrame'>\n",
      "Int64Index: 92 entries, 0 to 93\n",
      "Data columns (total 25 columns):\n",
      " #   Column    Non-Null Count  Dtype  \n",
      "---  ------    --------------  -----  \n",
      " 0   Champion  92 non-null     object \n",
      " 1   Pos       92 non-null     object \n",
      " 2   GP        92 non-null     int64  \n",
      " 3   P%        92 non-null     object \n",
      " 4   B%        92 non-null     object \n",
      " 5   P+B%      92 non-null     object \n",
      " 6   W%        92 non-null     object \n",
      " 7   CTR%      92 non-null     object \n",
      " 8   K         92 non-null     int32  \n",
      " 9   D         92 non-null     object \n",
      " 10  A         92 non-null     int32  \n",
      " 11  KDA       92 non-null     object \n",
      " 12  KP        92 non-null     object \n",
      " 13  DTH%      92 non-null     object \n",
      " 14  FB%       92 non-null     object \n",
      " 15  GD10      92 non-null     object \n",
      " 16  XPD10     92 non-null     object \n",
      " 17  CSD10     92 non-null     object \n",
      " 18  CSPM      92 non-null     float64\n",
      " 19  CS%P15    92 non-null     object \n",
      " 20  DPM       92 non-null     object \n",
      " 21  DMG%      92 non-null     float64\n",
      " 22  GOLD%     92 non-null     float64\n",
      " 23  WPM       92 non-null     object \n",
      " 24  WCPM      92 non-null     object \n",
      "dtypes: float64(3), int32(2), int64(1), object(19)\n",
      "memory usage: 18.0+ KB\n"
     ]
    }
   ],
   "source": [
    "lol_df = lol_df.astype({'CSPM': float, 'K': int, 'A': int, 'DMG%': float, 'GOLD%': float})\n",
    "lol_df.info()"
   ]
  },
  {
   "cell_type": "markdown",
   "id": "8312acab-b1d7-4b86-9461-8f726fc3b1a3",
   "metadata": {},
   "source": [
    "---\n",
    "## Exploratory Data Analysis"
   ]
  },
  {
   "cell_type": "markdown",
   "id": "a6b9db9f-ac46-4c41-a28f-5d77c8778fcc",
   "metadata": {
    "tags": []
   },
   "source": [
    "### EDA 1: What kind of correlation exists between the gold share (GOLD%), damage share (DMG%) and average number of kills of a champion picked in a specific role?"
   ]
  },
  {
   "cell_type": "markdown",
   "id": "cb5aad28-bca4-4111-a404-f7b5bc3af271",
   "metadata": {},
   "source": [
    "Champion building is an essential part of the team fight that a player must do in order to have a better performance. This means that a fully-built champion may do higher damage to the opposing team. Building, however, costs gold which can be earned by killing minions, monsters, and enemy champions. It can also be earned by destroying turrets and assisting fellow teammates on their kills. \n",
    "\n",
    "Hence, the EDA intends to find out what kind of correlation exists between the `GOLD%`, `DMG%`, and `K` so that the player can stratigically determine if earning gold is to be prioritized at the start of the game. "
   ]
  },
  {
   "cell_type": "markdown",
   "id": "84f9ac90-adf8-4a9b-be1d-a466d80119e6",
   "metadata": {},
   "source": [
    "To answer this question, the following variables are needed:\n",
    "- **`Pos`**: Position the champion played in. Values include Top, Middle, ADC, Jungle, and Support\n",
    "- **`DMG%`**: Average share of team’s total damage to champions\n",
    "- **`GOLD%`**: Average share of team’s total gold earned (excludes starting gold and inherent gold generation)\n",
    "- **`K`**: Total kills a champion had "
   ]
  },
  {
   "cell_type": "markdown",
   "id": "9653f830-44ba-4bb0-bf5c-0e892355fa7a",
   "metadata": {},
   "source": [
    "The first thing we can do is to first check the distribution of the data set according to its `GOLD%`, `DMG%`, and `K` variables."
   ]
  },
  {
   "cell_type": "code",
   "execution_count": 10,
   "id": "ce894a18-562e-49a9-a12f-1fe28a4c2f76",
   "metadata": {},
   "outputs": [
    {
     "data": {
      "image/png": "[encoded data removed]",
      "text/plain": [
       "<Figure size 640x480 with 3 Axes>"
      ]
     },
     "metadata": {},
     "output_type": "display_data"
    }
   ],
   "source": [
    "gold_df = lol_df.loc[:, 'DMG%']\n",
    "dmg_df = lol_df.loc[:, 'DMG%']\n",
    "k_df = lol_df.loc[:, 'K']\n",
    "\n",
    "plt.subplot(1,3,1)\n",
    "plt.hist(gold_df, edgecolor='w', bins=15)\n",
    "plt.xlabel(\"GOLD%\")\n",
    "plt.ylabel(\"Count\")\n",
    "plt.title('GOLD%')\n",
    "\n",
    "plt.subplot(1,3,2)\n",
    "plt.hist(dmg_df, edgecolor='w', bins=15)\n",
    "plt.xlabel(\"DMG%\")\n",
    "plt.ylabel(\"Count\")\n",
    "plt.title('DMG%')\n",
    "\n",
    "plt.subplot(1,3,3)\n",
    "plt.hist(k_df, edgecolor='w', bins=15)\n",
    "plt.xlabel(\"Kills\")\n",
    "plt.ylabel(\"Count\")\n",
    "plt.title('Kills')\n",
    "\n",
    "plt.tight_layout()"
   ]
  },
  {
   "cell_type": "markdown",
   "id": "dc79345a-2e5d-4e00-9c43-be787679b98c",
   "metadata": {},
   "source": [
    "As we can see, the `GOLD%` and the `DMG%` variables have a normal distribution while the `K` variable is postively skewed. Also notice that the range of the `K` variable is large. This could be due to the fact that the `K` variable is the total number of kills that an entry had for the entire tournament which would definetly skew the data since there are some champions who played more games than others and thus had more chances to get kills. What we can do to resolve this is to instead use the average number of kills that a champion had by dividing the `K` variable to their respective number of games played (`GP`)"
   ]
  },
  {
   "cell_type": "code",
   "execution_count": 11,
   "id": "c1198eae-a230-4dd4-8351-ea874ad73dc3",
   "metadata": {},
   "outputs": [
    {
     "data": {
      "text/plain": [
       "Text(0.5, 1.0, 'Average Kills')"
      ]
     },
     "execution_count": 11,
     "metadata": {},
     "output_type": "execute_result"
    },
    {
     "data": {
      "image/png": "[encoded data removed]",
      "text/plain": [
       "<Figure size 640x480 with 1 Axes>"
      ]
     },
     "metadata": {},
     "output_type": "display_data"
    }
   ],
   "source": [
    "lol_df['Avg Kills'] = lol_df['K'] /  lol_df['GP']\n",
    "lol_df.hist('Avg Kills', edgecolor='w', bins=15)\n",
    "plt.xlabel(\"Average Kills\")\n",
    "plt.ylabel(\"Count\")\n",
    "plt.title('Average Kills')"
   ]
  },
  {
   "cell_type": "markdown",
   "id": "ef466f33-3e1e-4d24-81f7-dfde40c507b2",
   "metadata": {},
   "source": [
    "The resulting distribution of the `Avg Kills` variable is still slightly skewed but not as much compared to the distribution of the `K` variable. Notice also that the range of its x-axis is a lot smaller compared to the original Next, we can now check the correlation between the `GOLD%`, `DMG%`, and `Avg Kills` variables. To do this, we correlate them using `pandas.DataFrame.corr()`"
   ]
  },
  {
   "cell_type": "code",
   "execution_count": 12,
   "id": "40605540-7495-44e1-84b1-66f33aa33638",
   "metadata": {},
   "outputs": [
    {
     "data": {
      "text/html": [
       "<div>\n",
       "<style scoped>\n",
       "    .dataframe tbody tr th:only-of-type {\n",
       "        vertical-align: middle;\n",
       "    }\n",
       "\n",
       "    .dataframe tbody tr th {\n",
       "        vertical-align: top;\n",
       "    }\n",
       "\n",
       "    .dataframe thead th {\n",
       "        text-align: right;\n",
       "    }\n",
       "</style>\n",
       "<table border=\"1\" class=\"dataframe\">\n",
       "  <thead>\n",
       "    <tr style=\"text-align: right;\">\n",
       "      <th></th>\n",
       "      <th>DMG%</th>\n",
       "      <th>GOLD%</th>\n",
       "      <th>Avg Kills</th>\n",
       "    </tr>\n",
       "  </thead>\n",
       "  <tbody>\n",
       "    <tr>\n",
       "      <th>DMG%</th>\n",
       "      <td>1.000000</td>\n",
       "      <td>0.774968</td>\n",
       "      <td>0.520121</td>\n",
       "    </tr>\n",
       "    <tr>\n",
       "      <th>GOLD%</th>\n",
       "      <td>0.774968</td>\n",
       "      <td>1.000000</td>\n",
       "      <td>0.549521</td>\n",
       "    </tr>\n",
       "    <tr>\n",
       "      <th>Avg Kills</th>\n",
       "      <td>0.520121</td>\n",
       "      <td>0.549521</td>\n",
       "      <td>1.000000</td>\n",
       "    </tr>\n",
       "  </tbody>\n",
       "</table>\n",
       "</div>"
      ],
      "text/plain": [
       "               DMG%     GOLD%  Avg Kills\n",
       "DMG%       1.000000  0.774968   0.520121\n",
       "GOLD%      0.774968  1.000000   0.549521\n",
       "Avg Kills  0.520121  0.549521   1.000000"
      ]
     },
     "execution_count": 12,
     "metadata": {},
     "output_type": "execute_result"
    }
   ],
   "source": [
    "corr_df = lol_df[['DMG%', 'GOLD%', 'Avg Kills']]\n",
    "corr_df.corr()"
   ]
  },
  {
   "cell_type": "markdown",
   "id": "d7de75a9-e9fa-4b0e-bcff-d097deebb575",
   "metadata": {},
   "source": [
    "There are a few inferences arrive looking at the table:\n",
    "1. There is a **positive correlation** between the share of gold (GOLD%) to the share of damage (DMG%).\n",
    "2. There is a **positive correlation** between the share of damage (DMG%) to the average kills.\n",
    "3. There is a **positive correlation** between the share of gold (GOLD%) to the average kills.\n",
    "\n",
    "These inferences are better visualized using the scatter plot."
   ]
  },
  {
   "cell_type": "code",
   "execution_count": 13,
   "id": "0a720f9c-c44c-417c-8e7c-1e73996061cf",
   "metadata": {},
   "outputs": [
    {
     "data": {
      "text/plain": [
       "<matplotlib.legend.Legend at 0x22df2df9900>"
      ]
     },
     "execution_count": 13,
     "metadata": {},
     "output_type": "execute_result"
    },
    {
     "data": {
      "image/png": "[encoded data removed]",
      "text/plain": [
       "<Figure size 640x480 with 1 Axes>"
      ]
     },
     "metadata": {},
     "output_type": "display_data"
    }
   ],
   "source": [
    "x = lol_df.loc[lol_df[\"Pos\"] == \"Top\", 'GOLD%']\n",
    "y = lol_df.loc[lol_df[\"Pos\"] == \"Top\", 'DMG%']\n",
    "plt.scatter(x, y, color='red', alpha=0.5)\n",
    "\n",
    "x = lol_df.loc[lol_df[\"Pos\"] == \"Middle\", 'GOLD%']\n",
    "y = lol_df.loc[lol_df[\"Pos\"] == \"Middle\", 'DMG%']\n",
    "plt.scatter(x, y, color='blue', alpha=0.5)\n",
    "\n",
    "x = lol_df.loc[lol_df[\"Pos\"] == \"Jungle\", 'GOLD%']\n",
    "y = lol_df.loc[lol_df[\"Pos\"] == \"Jungle\", 'DMG%']\n",
    "plt.scatter(x, y, color='green', alpha=0.5)\n",
    "\n",
    "x = lol_df.loc[lol_df[\"Pos\"] == \"ADC\", 'GOLD%']\n",
    "y = lol_df.loc[lol_df[\"Pos\"] == \"ADC\", 'DMG%']\n",
    "plt.scatter(x, y, color='yellow', alpha=0.5)\n",
    "\n",
    "x = lol_df.loc[lol_df[\"Pos\"] == \"Support\", 'GOLD%']\n",
    "y = lol_df.loc[lol_df[\"Pos\"] == \"Support\", 'DMG%']\n",
    "plt.scatter(x, y, color='pink', alpha=0.5)\n",
    "\n",
    "plt.title('Relationship between GOLD% and DMG%')\n",
    "plt.xlabel(\"GOLD%\")\n",
    "plt.ylabel(\"DMG%\")\n",
    "plt.legend(['Top', 'Middle', 'Jungle', 'ADC', 'Support'])"
   ]
  },
  {
   "cell_type": "markdown",
   "id": "66311383-8d19-420e-ba2b-fbc73536f5b4",
   "metadata": {},
   "source": [
    "As we can see, the dispersion of data indicates that higher gold is correlated to a higher share of damage. This means that the correlation of GOLD% and DMG% is positive. Based on the plot, we can also see that the champions playing a support role tend to recieve less gold and deal less damage while other positions such as ADC and Middle tend to recieve more gold and deal more damage. \n",
    "\n",
    "Now, let's take a look at the scatter plot between the DMG% and the average number of kills."
   ]
  },
  {
   "cell_type": "code",
   "execution_count": 14,
   "id": "b9f660cd-ead8-4b0f-8eab-d20e95b10b80",
   "metadata": {},
   "outputs": [
    {
     "data": {
      "text/plain": [
       "<matplotlib.legend.Legend at 0x22df41fd1e0>"
      ]
     },
     "execution_count": 14,
     "metadata": {},
     "output_type": "execute_result"
    },
    {
     "data": {
      "image/png": "[encoded data removed]",
      "text/plain": [
       "<Figure size 640x480 with 1 Axes>"
      ]
     },
     "metadata": {},
     "output_type": "display_data"
    }
   ],
   "source": [
    "x = lol_df.loc[lol_df[\"Pos\"] == \"Top\", 'DMG%']\n",
    "y = lol_df.loc[lol_df[\"Pos\"] == \"Top\", 'Avg Kills']\n",
    "plt.scatter(x, y, color='red', alpha=0.5)\n",
    "\n",
    "x = lol_df.loc[lol_df[\"Pos\"] == \"Middle\", 'DMG%']\n",
    "y = lol_df.loc[lol_df[\"Pos\"] == \"Middle\", 'Avg Kills']\n",
    "plt.scatter(x, y, color='blue', alpha=0.5)\n",
    "\n",
    "x = lol_df.loc[lol_df[\"Pos\"] == \"Jungle\", 'DMG%']\n",
    "y = lol_df.loc[lol_df[\"Pos\"] == \"Jungle\", 'Avg Kills']\n",
    "plt.scatter(x, y, color='green', alpha=0.5)\n",
    "\n",
    "x = lol_df.loc[lol_df[\"Pos\"] == \"ADC\", 'DMG%']\n",
    "y = lol_df.loc[lol_df[\"Pos\"] == \"ADC\", 'Avg Kills']\n",
    "plt.scatter(x, y, color='yellow', alpha=0.5)\n",
    "\n",
    "x = lol_df.loc[lol_df[\"Pos\"] == \"Support\", 'DMG%']\n",
    "y = lol_df.loc[lol_df[\"Pos\"] == \"Support\", 'Avg Kills']\n",
    "plt.scatter(x, y, color='pink', alpha=0.5)\n",
    "\n",
    "plt.title('Relationship between Avg Kills and DMG%')\n",
    "plt.xlabel(\"DMG%\")\n",
    "plt.ylabel(\"Avg Kills\")\n",
    "plt.legend(['Top', 'Middle', 'Jungle', 'ADC', 'Support'])"
   ]
  },
  {
   "cell_type": "markdown",
   "id": "b20c5c5c-a0e4-47bb-8bdb-4c15139f98ef",
   "metadata": {},
   "source": [
    "We can now see that the correlation is also true in terms of GOLD% and the average number of kills as we can see that higher damage is correlated to a higer average of kills. Simmilar to the previous scatter plot, the support role tends to deal less damage and recieve less kills while other positions such as Top and Middle deal more damage and recieve more kils. It is also interesting to see that although the Jungle positions does not necessarily deal the most damage, it does recieve quite a lot of kills compared to other positions \n",
    "\n",
    "Next, let's take a look at the scatter plot of GOLD% to average number of kills."
   ]
  },
  {
   "cell_type": "code",
   "execution_count": 15,
   "id": "2ab5d5c8-344d-4577-8872-253e480fb8a2",
   "metadata": {},
   "outputs": [
    {
     "data": {
      "text/plain": [
       "<matplotlib.legend.Legend at 0x22df429a8c0>"
      ]
     },
     "execution_count": 15,
     "metadata": {},
     "output_type": "execute_result"
    },
    {
     "data": {
      "image/png": "[encoded data removed]",
      "text/plain": [
       "<Figure size 640x480 with 1 Axes>"
      ]
     },
     "metadata": {},
     "output_type": "display_data"
    }
   ],
   "source": [
    "x = lol_df.loc[lol_df[\"Pos\"] == \"Top\", 'GOLD%']\n",
    "y = lol_df.loc[lol_df[\"Pos\"] == \"Top\", 'Avg Kills']\n",
    "plt.scatter(x, y, color='red', alpha=0.5)\n",
    "\n",
    "x = lol_df.loc[lol_df[\"Pos\"] == \"Middle\", 'GOLD%']\n",
    "y = lol_df.loc[lol_df[\"Pos\"] == \"Middle\", 'Avg Kills']\n",
    "plt.scatter(x, y, color='blue', alpha=0.5)\n",
    "\n",
    "x = lol_df.loc[lol_df[\"Pos\"] == \"Jungle\", 'GOLD%']\n",
    "y = lol_df.loc[lol_df[\"Pos\"] == \"Jungle\", 'Avg Kills']\n",
    "plt.scatter(x, y, color='green', alpha=0.5)\n",
    "\n",
    "x = lol_df.loc[lol_df[\"Pos\"] == \"ADC\", 'GOLD%']\n",
    "y = lol_df.loc[lol_df[\"Pos\"] == \"ADC\", 'Avg Kills']\n",
    "plt.scatter(x, y, color='yellow', alpha=0.5)\n",
    "\n",
    "x = lol_df.loc[lol_df[\"Pos\"] == \"Support\", 'GOLD%']\n",
    "y = lol_df.loc[lol_df[\"Pos\"] == \"Support\", 'Avg Kills']\n",
    "plt.scatter(x, y, color='pink', alpha=0.5)\n",
    "\n",
    "plt.title('Relationship between Avg Kills and GOLD%')\n",
    "plt.xlabel(\"GOLD%\")\n",
    "plt.ylabel(\"Avg Kills\")\n",
    "plt.legend(['Top', 'Middle', 'Jungle', 'ADC', 'Support'])"
   ]
  },
  {
   "cell_type": "markdown",
   "id": "e7ef1070-4bdb-416d-8b42-d403dca15812",
   "metadata": {},
   "source": [
    "Based on the scatter plot, we can see that higher gold earned also correlates to a higher average number of kills. Like the previous plot, the support position generally receives less gold and recieves less amount of average kills while other positions, specifically Top and Middle, generaly recieve more gold and recieve a higher number of average kills.\n",
    "\n",
    "Looking at the three plots, the Support role seems to received the least is unqiue since although it does the least damage on the team, it does give majority of its gold and kills to the other positions. There are different types of Supports in League of Legends: **Tank**, **Enchanter**, **Poke**, **Damage**, **Utility**, and **Pick**. Their job at the start of the game is to assist the ADC since their area of effect is wide, and their damage increases through build, and experience, which is why it is important for the Support to avoid getting last hitting creeps, thereby gaining gold, especially at the early game. After meeting this objective, Supports can now roam to assist other players (Ferriday, 2022).\n",
    "\n",
    "Because of this, we want to also see the correlation between the Assists (`A`) of the support to the `DMG%` and `GOLD%`. To do this, we must first isolate all of the entries that have a `Pos` value of \"Support\" and extract only the variables we need which are the `DMG%`, `GOLD%`, `A`, and `GP` variables. After which we create a deep copy of it and assign it to a variable called `sup_df` and view the shape of its distribution through a histogram."
   ]
  },
  {
   "cell_type": "code",
   "execution_count": 16,
   "id": "590fdccc-2343-48be-a438-981c28afa0f2",
   "metadata": {},
   "outputs": [
    {
     "data": {
      "text/plain": [
       "Text(0, 0.5, 'Count')"
      ]
     },
     "execution_count": 16,
     "metadata": {},
     "output_type": "execute_result"
    },
    {
     "data": {
      "image/png": "[encoded data removed]",
      "text/plain": [
       "<Figure size 640x480 with 1 Axes>"
      ]
     },
     "metadata": {},
     "output_type": "display_data"
    }
   ],
   "source": [
    "sup_df = lol_df.loc[lol_df[\"Pos\"] == \"Support\", ['DMG%', 'GOLD%', 'A', 'GP']].copy(True) \n",
    "sup_df.hist('A', edgecolor='w', bins=15)\n",
    "plt.xlabel(\"Assists\")\n",
    "plt.ylabel(\"Count\")"
   ]
  },
  {
   "cell_type": "markdown",
   "id": "58c2905d-8989-4fd0-9057-6ae55a84fe7c",
   "metadata": {},
   "source": [
    "As we can see, the distribution of the variable is skewed and its x-axis range is quite large. Simmilar to what we did earlier with the `K` variable, we need to get the average assists of an entry by dividing its `A` variable to the number of games played (`GP`)."
   ]
  },
  {
   "cell_type": "code",
   "execution_count": 17,
   "id": "8bb91c03-7c5a-4478-a215-a666268fea6e",
   "metadata": {},
   "outputs": [
    {
     "ename": "SyntaxError",
     "evalue": "unterminated string literal (detected at line 5) (1674578761.py, line 5)",
     "output_type": "error",
     "traceback": [
      "\u001b[1;36m  Cell \u001b[1;32mIn [17], line 5\u001b[1;36m\u001b[0m\n\u001b[1;33m    plt.title(\"Assi\u001b[0m\n\u001b[1;37m              ^\u001b[0m\n\u001b[1;31mSyntaxError\u001b[0m\u001b[1;31m:\u001b[0m unterminated string literal (detected at line 5)\n"
     ]
    }
   ],
   "source": [
    "sup_df['Avg Assists'] = sup_df['A'] /  sup_df['GP']\n",
    "sup_df.hist('Avg Assists', edgecolor='w', bins=15)\n",
    "plt.xlabel(\"Avg Assists\")\n",
    "plt.ylabel(\"Count\")\n",
    "plt.title(\"Assi"
   ]
  },
  {
   "cell_type": "markdown",
   "id": "65a6ea51-efe7-4b17-bc9f-8c2f678ebf1a",
   "metadata": {},
   "source": [
    "Now that we have our average number of assists per support, we can now check the correlation between the `GOLD%`, `DMG%`, and `Avg Assists` variables using the `pandas.DataFrame.corr()`"
   ]
  },
  {
   "cell_type": "code",
   "execution_count": null,
   "id": "1b4477ae-da6e-49d8-9c5b-acddee038489",
   "metadata": {},
   "outputs": [],
   "source": [
    "sup_df.drop(['GP','A'], axis=1).corr()"
   ]
  },
  {
   "cell_type": "markdown",
   "id": "68d043d8-cab0-423f-b617-87022df08d62",
   "metadata": {},
   "source": [
    "There are a few inferences arrive looking at the table:\n",
    "1. There is a **negative correlation** between the share of damage (DMG%) to the average number of assists made.\n",
    "2. There is a **negative correlation** between the share of gold (GOLD%) to the the average number of assistse.\n",
    "\n",
    "These inferences are better visualized using the scatter plot."
   ]
  },
  {
   "cell_type": "code",
   "execution_count": null,
   "id": "bac6ff13-6205-432f-9e5f-7ab44e98f24f",
   "metadata": {},
   "outputs": [],
   "source": [
    "plt.subplot(1,2,1)\n",
    "plt.scatter(x=sup_df['GOLD%'], y=sup_df['Avg Assists'], color='red', alpha=0.5 )\n",
    "plt.xlabel(\"GOLD%\")\n",
    "plt.ylabel(\"Avg Assists\")\n",
    "plt.title('GOLD%')\n",
    "\n",
    "plt.subplot(1,2,2)\n",
    "plt.scatter(x=sup_df['DMG%'], y=sup_df['Avg Assists'], color='blue', alpha=0.5 )\n",
    "plt.xlabel(\"DMG%\")\n",
    "plt.ylabel(\"Avg Assists\")\n",
    "plt.title('DMG%')\n",
    "\n",
    "plt.tight_layout()"
   ]
  },
  {
   "cell_type": "markdown",
   "id": "f2547a50-cfac-4400-9ff1-b20ecf82bdd8",
   "metadata": {},
   "source": [
    "Looking at the first scatter plot (left), supports with a higher number of average assists have a lower share of gold. This is true by definition of the variables. `GOLD%` is the percentage of share of gold to the team. Meaning, a higher percentage of gold earned will mean lower percentage of share for the rest of the positions. For example, the GOLD% of a Support is **25%**. Calculating the share of other positions, they have an estimated percentage of **18.75%** which is lower. \n",
    "\n",
    "Reflecting back at the positive correlation between kills and share of gold of the other positions, it is also true that lower share of gold results to a lower number of kills. Since assists are incremented whenever a help is initiated to the champion who kills an enemy, it is now inferred that lower number of assists is due to a higher share of gold earned.\n",
    "\n",
    "Looking at the second scatter plot (right), the reason of a negative correlation between DMG% and average assists is similar to the previous explanaition. Looking at the definition of `DMG%`, a higher damage share will also mean a lower damage share of the other positions.If the Support has a higher share of damage, this means that they are most likely 'stealing' more kills from other positions. Since the damage of the other positions is important to efficiently kill an enemy champion, getting more kills may mean that the other players are not going to be stronger as the fight progresses. Hence, Supports with higher damage tend to have lower assists at the end of the game."
   ]
  },
  {
   "cell_type": "markdown",
   "id": "f35b3ec9-c9a1-4c36-98b3-214431f5e568",
   "metadata": {},
   "source": [
    "**ANSWER:** The results of the analysis show that there exists a postive correlation between the `DMG`, `GOLD` and `Avg Kills` of a champion. The scatter plots produce also suggest that certain positions have pattern in terms of the used varaibles. For example, the `Support` position tend to have the least share in gold and damage and also recieve the less kills while positions like `ADC`, `Middle` and `Top` tend to recieve more gold, deal more damage, and get more kills. In light of this, we can suggest that it is important, especially for Top, Middle, Jungle, and ADC to earn gold, especially at the start of the game, so that they can gain a higher damage leading to a higher number of kills. On the other hand, if a player uses a Support champion, they are **not** recommended to give prioritization on earning gold especially at the start of the game. To have a better team fight performance, they are recommended to utilize the champion's skills to assist the champions of other positions.\n"
   ]
  },
  {
   "cell_type": "markdown",
   "id": "7da99f4e-bee1-45fd-ae4e-157a37aedd77",
   "metadata": {
    "tags": []
   },
   "source": [
    "---\n",
    "### EDA 2: What Position obtains the highest creep score?\n",
    "In League of Legends, a standard team usually consists of 5 players, each with different positions namely `Top`, `Middle`, `Jungle`, `ADC`, and `Support`. With these positions in mind, we also know the different positions primarily play in different areas of the map (e.g. `Top` would be found on the top-most lane most of the time). With this in mind, this EDA wants to find out which position is capable of getting the highest creep score per minute (`CSPM`). Since we know from EDA 1 that the gold earned is positviely correlated to both the kills and the damage done by champions, the answer to this EDA will be able to help teams know who to pressure and focus so that the targetted player is unable to power themselves up quickly in contrast, which lane to send their carry in so that they can earn more resources faster."
   ]
  },
  {
   "cell_type": "markdown",
   "id": "f97796c7-71ad-4480-acb0-b497daab21a0",
   "metadata": {},
   "source": [
    "To answer this EDA, we will be making use of the following variables:\n",
    "- **`CSPM`**: Average monsters + minions killed per minute\n",
    "- **`Pos`**: Position the champion played in. Values include Top, Middle, ADC, Jungle, and Support"
   ]
  },
  {
   "cell_type": "markdown",
   "id": "302656a0-e829-4a09-be45-3f7cde0d1e42",
   "metadata": {},
   "source": [
    "To begin, we can start by visualizing how many champions we have for each position."
   ]
  },
  {
   "cell_type": "code",
   "execution_count": null,
   "id": "7286bcab-eb82-43fc-b008-58b3ed223733",
   "metadata": {},
   "outputs": [],
   "source": [
    "pos_count = lol_df['Pos'].value_counts()\n",
    "pos_count\n",
    "\n",
    "pos_count.plot.barh(figsize=(6,7)).invert_yaxis()\n",
    "plt.ylabel('Position')\n",
    "plt.xlabel('Count')\n",
    "plt.title('Number of Champions picked based on position')"
   ]
  },
  {
   "cell_type": "code",
   "execution_count": null,
   "id": "fcdd8592-dfc0-4d9f-8ca6-a4803216f613",
   "metadata": {},
   "outputs": [],
   "source": [
    "pos_count"
   ]
  },
  {
   "cell_type": "markdown",
   "id": "fed96685-d8e8-4c6f-a7d7-18b5c9c5c9c7",
   "metadata": {},
   "source": [
    "Based on the graph, we can see that the Position with the most unique champions was the `Top` Position followed by `Middle`, `Support`, `Jungle`, and then lastly `ADC`. For the exact number for each Position, we have 24 for `Top`, 21 for`Middle`, 17 for `Support`, 16 for `Jungle`, and 14 for `ADC`, coming up with a total of 92 different entries for all Positions."
   ]
  },
  {
   "cell_type": "markdown",
   "id": "f775bf73-797f-486e-be47-78fa35f3708e",
   "metadata": {},
   "source": [
    "Now in order to determine which Position obtains the highest creep score per minute, we will be comparing them with their `CSPM` variable. In analyzing the data, we will have two options, either use the mean or the median. In the mean time, we will be getting both of them, together with the standard deviation on the off chance that we will need to compute further using it."
   ]
  },
  {
   "cell_type": "code",
   "execution_count": null,
   "id": "1e1f615c-8c6b-4559-89f3-17d263af8193",
   "metadata": {},
   "outputs": [],
   "source": [
    "from IPython.display import display_html \n",
    "\n",
    "lol_mean_median_std = lol_df.agg({\"CSPM\": [\"mean\", \"median\", \"std\"]})\n",
    "overall_DMG = lol_mean_median_std.style.set_table_attributes(\"style='display:inline'\").set_caption('Overall CSPM')\n",
    "\n",
    "pos_mean_median_std = lol_df.groupby('Pos')['CSPM'].agg([\"mean\", \"median\", \"std\"])\n",
    "pos_mean_median_std.reset_index(inplace=True)\n",
    "pos_CSPM = pos_mean_median_std.style.hide(axis='index').set_table_attributes(\"style='display:inline'\").set_caption('CSPM by Position')\n",
    "\n",
    "space = \"\\xa0\" * 10 #spacing between the tables\n",
    "\n",
    "display_html(overall_DMG._repr_html_() + space + pos_CSPM._repr_html_(), raw=True)"
   ]
  },
  {
   "cell_type": "markdown",
   "id": "65de5fa0-3312-4043-a450-9f254ab1ff3d",
   "metadata": {},
   "source": [
    "Now basing it off the results, we can see that the `CSPM` variable of our dataset has a mean of `6.46`, a median of `7.6`, and a standard deviation of `2.97`. After grouping the entries by their Position, we can see that the highest mean and median are both under the `ADC` Position where mean is `8.98` and median is `9.15`."
   ]
  },
  {
   "cell_type": "markdown",
   "id": "bd1bc277-b45d-4239-a19a-41abc27cd9c6",
   "metadata": {},
   "source": [
    "We can also use a boxplot in order to better compare `CSPM` by `Pos` and identify the dispersion and skewness of the data. With a box plot, we are able to see the maximum, minimum, first quartile, third quartile, and the median of each. The box plot also shows the outliers for each category."
   ]
  },
  {
   "cell_type": "code",
   "execution_count": null,
   "id": "fe38e88e-8c8e-4509-8a5f-8aeda145570a",
   "metadata": {},
   "outputs": [],
   "source": [
    "lol_df.boxplot(\"CSPM\", by=\"Pos\", figsize=(15,10))"
   ]
  },
  {
   "cell_type": "markdown",
   "id": "87050606-5a4c-413c-9023-8bf127a8aafc",
   "metadata": {},
   "source": [
    "With the boxplot, we are able to better visualize the data. Based on the results, we can see that both Jungle and Top have relatively normal distribution while ADC, Middle, and Support have skewed distribution."
   ]
  },
  {
   "cell_type": "markdown",
   "id": "0842d242-4c80-4d07-83ae-2857688ee0c2",
   "metadata": {},
   "source": [
    "There are also outliers present but since there are barely any, if none for each category, we will not perform any operations on them."
   ]
  },
  {
   "cell_type": "markdown",
   "id": "309387b0-698d-46c7-8787-4920f498ad5c",
   "metadata": {},
   "source": [
    "**ANSWER:** Based on the stastitics that we computed for earlier and the box plots that we produced, we can say that the position capable of obtaining the highest creep score per minute would be `ADC` position since it has the highest median and mean among the group. In light of this, it is advised for teams to target the enemy ADC so that they are unable to farm creeps and minions properly. If the ADC is currently dead or struggling already, the best positions to focus would be `Middle` Position, followed by the `Top` Position, then the `Jungle` Position, and lastly the `Support` Position. By focusing the champions in this order, we will decrease the amount of creeps and minions per minute of the said Positions, which will in turn give them a harder time to strengthen themselves."
   ]
  },
  {
   "cell_type": "markdown",
   "id": "4277cd8c-8346-4e09-97ae-af38da875ba8",
   "metadata": {
    "tags": []
   },
   "source": [
    "---\n",
    "### EDA 3: What Position is capable of doing the most share of damage in a team?\n",
    "Since we know which postion is most likely to get the most resoruces (creeps), it will also help to know which position deals the most damage in a team. As metioned earlier a team usually consists of 5 different positions and although these positions do not have to be followed at all, it has become the main way that almost all players use to play the game. Knowing which position is your main source of damage allows your team to play around that position and protect them so that they can maximize their damage output. In light of this, the EDA wants to know which position is capabable of doing the most damage in a team (`DMG%`) which will help teams know who to protect and who to target first during a team fight. "
   ]
  },
  {
   "cell_type": "markdown",
   "id": "db51b37e-f916-4bf2-86a1-04765e8b24fd",
   "metadata": {},
   "source": [
    "In order to determine which Position is capable of doing the most damage in a team, we will be comparing them by their `DMG%` variable. We have 2 main options in this scenario, we can either use the mean or the median. For now we will be getting both of them, along with the standard deviation of the `DMG%` variable. We will first do this for the entire data set and then repeat the process again but with each record grouped by their `Pos` variable. "
   ]
  },
  {
   "cell_type": "code",
   "execution_count": null,
   "id": "7a9a51da-71ae-45f5-9225-665395abb023",
   "metadata": {},
   "outputs": [],
   "source": [
    "from IPython.display import display_html \n",
    "\n",
    "lol_mean_median_std = lol_df.agg({\"DMG%\": [\"mean\", \"median\", \"std\"]})\n",
    "overall_DMG = lol_mean_median_std.style.set_table_attributes(\"style='display:inline'\").set_caption('Overall DMG%')\n",
    "\n",
    "Pos_mean_median_std = lol_df.groupby('Pos')['DMG%'].agg([\"mean\", \"median\", \"std\"])\n",
    "Pos_mean_median_std.reset_index(inplace=True)\n",
    "pos_DMG = Pos_mean_median_std.style.hide(axis='index').set_table_attributes(\"style='display:inline'\").set_caption('DMG% by Position')\n",
    "\n",
    "space = \"\\xa0\" * 50 #spacing between the tables\n",
    "\n",
    "display_html(overall_DMG._repr_html_() + space + pos_DMG._repr_html_(), raw=True)"
   ]
  },
  {
   "cell_type": "markdown",
   "id": "ae70235f-12a1-49fa-afa1-d7a1909441ac",
   "metadata": {},
   "source": [
    "Based on the results, we can see that the `DMG%` of our dataset has a mean of 20.10, a median of 20.30 and a standard deviation of 8.33. Grouping the entries by their `Pos` variable, we see that the Middle category has the highest mean among the 5 positions. However, if we were to base it on the median, then ADC would have the highest `DMG%`. The standard deviation is also useful and will be used later on in the analysis. In order to determine which statistic is appropriate in representing the group, we will look into the distribution of each of the groups. "
   ]
  },
  {
   "cell_type": "markdown",
   "id": "9b6896b5-9af3-441c-8461-653f1c6a6d59",
   "metadata": {},
   "source": [
    "The next thing we can do is to analyze the histogram of each `Pos` based on their `DMG%` variable. Doing so will provide us with an idea of each of their respcetive distributions shapes. "
   ]
  },
  {
   "cell_type": "code",
   "execution_count": null,
   "id": "e0a7ede6-f2e4-4731-89d6-16c0763155f1",
   "metadata": {},
   "outputs": [],
   "source": [
    "top_df = lol_df.loc[lol_df[\"Pos\"] == \"Top\", 'DMG%']\n",
    "middle_df = lol_df.loc[lol_df[\"Pos\"] == \"Middle\", 'DMG%']\n",
    "jungle_df = lol_df.loc[lol_df[\"Pos\"] == \"Jungle\", 'DMG%']\n",
    "adc_df = lol_df.loc[lol_df[\"Pos\"] == \"ADC\", 'DMG%']\n",
    "support_df = lol_df.loc[lol_df[\"Pos\"] == \"Support\", 'DMG%']\n",
    "\n",
    "plt.subplot(2,3,1)\n",
    "plt.hist(top_df, edgecolor='w', bins=15)\n",
    "plt.xlabel(\"DMG%\")\n",
    "plt.ylabel(\"Count\")\n",
    "plt.title('Top')\n",
    "\n",
    "plt.subplot(2,3,2)\n",
    "plt.hist(middle_df, edgecolor='w', bins=15)\n",
    "plt.xlabel(\"DMG%\")\n",
    "plt.ylabel(\"Count\")\n",
    "plt.title('Middle')\n",
    "\n",
    "plt.subplot(2,3,3)\n",
    "plt.hist(jungle_df, edgecolor='w', bins=15)\n",
    "plt.xlabel(\"DMG%\")\n",
    "plt.ylabel(\"Count\")\n",
    "plt.title('Jungle')\n",
    "\n",
    "plt.subplot(2,3,4)\n",
    "plt.hist(adc_df, edgecolor='w', bins=15)\n",
    "plt.xlabel(\"DMG%\")\n",
    "plt.ylabel(\"Count\")\n",
    "plt.title('ADC')\n",
    "\n",
    "plt.subplot(2,3,6)\n",
    "plt.hist(support_df, edgecolor='w', bins=15)\n",
    "plt.xlabel(\"DMG%\")\n",
    "plt.ylabel(\"Count\")\n",
    "plt.title('Support')\n",
    "\n",
    "plt.tight_layout()"
   ]
  },
  {
   "cell_type": "markdown",
   "id": "cf894a16-bbc8-421a-af97-da73a43c06f9",
   "metadata": {},
   "source": [
    "The histograms show that results for Top, Jungle, and ADC take the form of a somewhat normal distribution while the histograms for Middle and Support roles are positvely skewed. Knowing the shape of the ditribution is important as it allows us to determine the appropriate measure of central tendency that we should use in order to describe the data."
   ]
  },
  {
   "cell_type": "markdown",
   "id": "e60af4c6-bd73-44f4-ba4e-a65a9d41295c",
   "metadata": {},
   "source": [
    "We can also use a boxplot in order to better compare `DMG%` by `Pos`. With a box plot, we are able to see the maximum, minimum, first quartile, third quartile, and the median of each. The box plot also shows the outliers for each category."
   ]
  },
  {
   "cell_type": "code",
   "execution_count": null,
   "id": "63be2ecd-3985-49ea-8cf9-32ae5b41d311",
   "metadata": {},
   "outputs": [],
   "source": [
    "lol_df.boxplot(\"DMG%\", by=\"Pos\", figsize=(15,10))"
   ]
  },
  {
   "cell_type": "markdown",
   "id": "75ba1760-b7a4-4b89-a615-2687547f438c",
   "metadata": {},
   "source": [
    "With the boxplot, we are able to better visualize the data. Based on the results, we can confirm that ADC, Jungle, and Top have relatively normal distribution while both Middle and Support have skewed distribution.\n",
    "\n",
    "From this, we can assume that it would be best to use the median as the measure of central tendency for both the Middle and Support categories since it is advised that the median be used with groups that are skewed. For ADC, Jungle and Top, any of the three measures of central tendency (mean, meadian, mode) can be used since they are all normally distributed and thus we will also use the median for these 3 categories. \n",
    "\n",
    "There are also outliers present but since they are relatively few for each category, we will not perform any operations on them. Additionally,  the number of entries for each category is relatively small and thus we cannot really afford to discard these entries. The values of these outliers are also possible values, meaning they aren't wrong or incorrect data and we believe that these outliers are an important part of out data set.  \n",
    "\n",
    "**ANSWER:** Based on the stastitics that we computed for earlier, and the histograms/box plots that we produced, we can say that the position capable of doing the most damage share in a team is the `ADC` position since it has the highest median among the group. In light of this, it is advised for teams to target the enemy ADC first while priotizing their own ADC in team fights. Once the ADC has been defeated, the next position that deals the most damage share would be `Top`, followed by `Middle`, then `Jungle`, and lastly `Support`. Taking out the enemy champions in this order will greatly decrease the fighting power of the enemy team. "
   ]
  },
  {
   "cell_type": "markdown",
   "id": "d01a55d4-1c2b-4fbb-9d6a-525396d84d49",
   "metadata": {},
   "source": [
    "---\n",
    "## Research Question"
   ]
  },
  {
   "cell_type": "markdown",
   "id": "434f4156-0e8c-4413-965a-239240e2bfa4",
   "metadata": {},
   "source": [
    "### Is there is a clear distinction in terms of the positions when clustering the entries based on their team damage share, team gold share, creep score per minute, and their average kills?\n",
    "Upon completing the data analysis, we observed that there seems to be a pattern based on the postions of the entries. For example, the first EDA question concluded that there is a positive correlation between the gold share, damage share and average number of kills of the entries. It also showed us a pattern through the scatter plots that it produced wherein we can see that groups according to their `Pos` varaible seem to occupy a similar area.\n",
    "\n",
    "The second EDA 2 discussed which position has the highest `CSPM` and concluded that it is the ADC that earns the most creep score. As a result, enemy teams should look to hinder the ADC as a higher creep score may lead to more gold which we learned is positively correlated to damage and kills from EDA 1. EDA 2 also showed the creep score of the other positions and we noticed that they are somewhat close to each other despite being from different categories.\n",
    "\n",
    "The third and final EDA discussed which position has the highes `DMG%` and concluded that the ADC deals the most damage, followed by Top, Middle, Jungle and Support. As a result, teams should look to target the enemy team's ADC first while protecting their own ADC if they want to minimize their opponent's fighting power while maximing their own. However, similar to EDA 2, we observed that the values of the `DMG%` variable are close to one another despite it being from different categories.\n",
    "\n",
    "This leads us to question if there is a clear distinction in terms of the postions when clustering the entries based on their `DMG%`, `GOLD%`, `CSPM`, and average kills. By clustering the data set, we will be able to find out if there is a distinction between the 5 positions based on the stated variables. Knowing if there are distinctions between the positions or which positions are simmilar to each other will give us insights on which champions can be played in each position and the flexibility of a champion to play a position that it was not originally intended for. This question is significant to the LOL community because it could define the meta of the game and may provide new strategies and tactics that could help lead a team to victory."
   ]
  },
  {
   "cell_type": "code",
   "execution_count": null,
   "id": "26a63f62-55e3-4c5d-823f-f84ac145330e",
   "metadata": {},
   "outputs": [],
   "source": []
  }
 ],
 "metadata": {
  "kernelspec": {
   "display_name": "Python 3 (ipykernel)",
   "language": "python",
   "name": "python3"
  },
  "language_info": {
   "codemirror_mode": {
    "name": "ipython",
    "version": 3
   },
   "file_extension": ".py",
   "mimetype": "text/x-python",
   "name": "python",
   "nbconvert_exporter": "python",
   "pygments_lexer": "ipython3",
   "version": "3.10.5"
  },
  "vscode": {
   "interpreter": {
    "hash": "8c3d4d9970fc5c09c50d9318a9c7fbf4d0159e4b28833276f5678ee22bded273"
   }
  }
 },
 "nbformat": 4,
 "nbformat_minor": 5
}
