{
 "cells": [
  {
   "cell_type": "markdown",
   "id": "b662a7a7-1aa5-49cf-8d2c-28a86625cfeb",
   "metadata": {
    "tags": []
   },
   "source": [
    "# S13 Group 8: Project - Phase 1\n",
    "\n",
    "## Members:\n",
    "- Ano, Joseph Thomas M.\n",
    "- Limjoco, Jared Ethan D. \n",
    "- Nadela, Cymon Radjh O.\n",
    "\n",
    "In this Notebook, we will be using the [League of Legends Worlds 2021 - Champion Stats](https://www.kaggle.com/datasets/vincentbarletta/league-of-legends-worlds-champion-pb-dataset?resource=download). The notebook will cover three main parts namely the **dataset description**, the **exploratory data analysis questions**, and the group's **proposed research questions**. \n",
    "\n"
   ]
  },
  {
   "cell_type": "code",
   "execution_count": null,
   "id": "e30e6b4f-a5bf-4c88-b89b-d9157ae90258",
   "metadata": {},
   "outputs": [],
   "source": []
  }
 ],
 "metadata": {
  "kernelspec": {
   "display_name": "Python 3 (ipykernel)",
   "language": "python",
   "name": "python3"
  },
  "language_info": {
   "codemirror_mode": {
    "name": "ipython",
    "version": 3
   },
   "file_extension": ".py",
   "mimetype": "text/x-python",
   "name": "python",
   "nbconvert_exporter": "python",
   "pygments_lexer": "ipython3",
   "version": "3.10.5"
  },
  "vscode": {
   "interpreter": {
    "hash": "8c3d4d9970fc5c09c50d9318a9c7fbf4d0159e4b28833276f5678ee22bded273"
   }
  }
 },
 "nbformat": 4,
 "nbformat_minor": 5
}
