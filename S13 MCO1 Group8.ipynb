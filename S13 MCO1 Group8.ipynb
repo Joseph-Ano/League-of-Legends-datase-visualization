{
 "cells": [
  {
   "cell_type": "markdown",
   "id": "b662a7a7-1aa5-49cf-8d2c-28a86625cfeb",
   "metadata": {
    "tags": []
   },
   "source": [
    "# S13 Group 8: Project - Phase 1\n",
    "\n",
    "## Members:\n",
    "- Ano, Joseph Thomas M.\n",
    "- Limjoco, Jared Ethan D. \n",
    "- Nadela, Cymon Radjh O.\n",
    "\n",
    "In this Notebook, we will be using the [League of Legends Worlds 2021 Main Event - Champion Stats](https://www.kaggle.com/datasets/vincentbarletta/league-of-legends-worlds-champion-pb-dataset?select=Worlds+2021+Main+Event+-+Champion+Stats+-+OraclesElixir.csv). The notebook will cover four main parts namely the **dataset description**, **data cleaning**, the **exploratory data analysis questions**, and the group's **proposed research questions**. \n",
    "\n"
   ]
  },
  {
   "cell_type": "markdown",
   "id": "79d6f6b6-d280-4894-9ae9-de594cefc8b5",
   "metadata": {
    "tags": []
   },
   "source": [
    "---\n",
    "## Data Set Description\n",
    "\n",
    "### Brief description of dataset\n",
    "This data set contains the list of every champion either picked or banned during the 2021 League of Legends World tournament. As metioned in its kaggle page, the main statistics of this particular data set include the champion name, position, pick rate, ban rate, pick+ban rate, and more individual champion statistics (Kill, Death, Assist, KDA rate, etc). Each column also has a breif description explaining the variable.\n",
    "\n",
    "### Description of the data collection process\n",
    "The data was collected from a popular website called [Oracle's Elixir](https://oracleselixir.com/about), the premier source for advance League of Legends esports statistics and was posted on kaggle by the user Vincent Barletta. All of the data comes from the analysts and data scrapers at Oracles Elixir who retrive the data from several sources including including Match History pages, [lolesports.com](https://lolesports.com), [lpl.QQ.com](https://lpl.qq.com), [Leaguepedia](https://lol.fandom.com/wiki/League_of_Legends_Esports_Wiki), the Riot Games solo queue APIs, and more "
   ]
  },
  {
   "cell_type": "markdown",
   "id": "7abf78dc-b93d-4967-9e19-d2f69bf0e9a3",
   "metadata": {},
   "source": [
    "### Structure of the data set"
   ]
  },
  {
   "cell_type": "code",
   "execution_count": 1,
   "id": "91a3f2a9-4c94-47e2-9f11-aa46c160b1ce",
   "metadata": {},
   "outputs": [],
   "source": [
    "import numpy as np\n",
    "import pandas as pd\n",
    "import matplotlib.pyplot as plt\n",
    "\n",
    "# sets the theme of the charts\n",
    "#plt.style.use('seaborn-darkgrid')\n",
    "\n",
    "%matplotlib inline"
   ]
  },
  {
   "cell_type": "code",
   "execution_count": 2,
   "id": "e9c50f45-52a0-4f9b-8ab9-cb07aecb5801",
   "metadata": {},
   "outputs": [
    {
     "data": {
      "text/html": [
       "<div>\n",
       "<style scoped>\n",
       "    .dataframe tbody tr th:only-of-type {\n",
       "        vertical-align: middle;\n",
       "    }\n",
       "\n",
       "    .dataframe tbody tr th {\n",
       "        vertical-align: top;\n",
       "    }\n",
       "\n",
       "    .dataframe thead th {\n",
       "        text-align: right;\n",
       "    }\n",
       "</style>\n",
       "<table border=\"1\" class=\"dataframe\">\n",
       "  <thead>\n",
       "    <tr style=\"text-align: right;\">\n",
       "      <th></th>\n",
       "      <th>Champion</th>\n",
       "      <th>Pos</th>\n",
       "      <th>GP</th>\n",
       "      <th>P%</th>\n",
       "      <th>B%</th>\n",
       "      <th>P+B%</th>\n",
       "      <th>W%</th>\n",
       "      <th>CTR%</th>\n",
       "      <th>K</th>\n",
       "      <th>D</th>\n",
       "      <th>...</th>\n",
       "      <th>GD10</th>\n",
       "      <th>XPD10</th>\n",
       "      <th>CSD10</th>\n",
       "      <th>CSPM</th>\n",
       "      <th>CS%P15</th>\n",
       "      <th>DPM</th>\n",
       "      <th>DMG%</th>\n",
       "      <th>GOLD%</th>\n",
       "      <th>WPM</th>\n",
       "      <th>WCPM</th>\n",
       "    </tr>\n",
       "  </thead>\n",
       "  <tbody>\n",
       "    <tr>\n",
       "      <th>0</th>\n",
       "      <td>Aatrox</td>\n",
       "      <td>Middle</td>\n",
       "      <td>1</td>\n",
       "      <td>1.2%</td>\n",
       "      <td>1.2%</td>\n",
       "      <td>4.8%</td>\n",
       "      <td>100%</td>\n",
       "      <td>100%</td>\n",
       "      <td>2</td>\n",
       "      <td>2</td>\n",
       "      <td>...</td>\n",
       "      <td>46</td>\n",
       "      <td>467</td>\n",
       "      <td>-2</td>\n",
       "      <td>8.8</td>\n",
       "      <td>25.1%</td>\n",
       "      <td>377</td>\n",
       "      <td>22.1%</td>\n",
       "      <td>20.9%</td>\n",
       "      <td>0.21</td>\n",
       "      <td>0.38</td>\n",
       "    </tr>\n",
       "    <tr>\n",
       "      <th>1</th>\n",
       "      <td>Aatrox</td>\n",
       "      <td>Top</td>\n",
       "      <td>2</td>\n",
       "      <td>2.4%</td>\n",
       "      <td>1.2%</td>\n",
       "      <td>4.8%</td>\n",
       "      <td>50%</td>\n",
       "      <td>100%</td>\n",
       "      <td>6</td>\n",
       "      <td>2</td>\n",
       "      <td>...</td>\n",
       "      <td>14</td>\n",
       "      <td>184</td>\n",
       "      <td>-10</td>\n",
       "      <td>7.9</td>\n",
       "      <td>25.0%</td>\n",
       "      <td>260</td>\n",
       "      <td>17.5%</td>\n",
       "      <td>24.0%</td>\n",
       "      <td>0.36</td>\n",
       "      <td>0.22</td>\n",
       "    </tr>\n",
       "    <tr>\n",
       "      <th>2</th>\n",
       "      <td>Alistar</td>\n",
       "      <td>Support</td>\n",
       "      <td>5</td>\n",
       "      <td>6.0%</td>\n",
       "      <td>0.0%</td>\n",
       "      <td>6.0%</td>\n",
       "      <td>40%</td>\n",
       "      <td>80%</td>\n",
       "      <td>6</td>\n",
       "      <td>19</td>\n",
       "      <td>...</td>\n",
       "      <td>-44</td>\n",
       "      <td>-77</td>\n",
       "      <td>2.4</td>\n",
       "      <td>0.9</td>\n",
       "      <td>1.9%</td>\n",
       "      <td>121</td>\n",
       "      <td>7.1%</td>\n",
       "      <td>8.4%</td>\n",
       "      <td>1.96</td>\n",
       "      <td>0.34</td>\n",
       "    </tr>\n",
       "    <tr>\n",
       "      <th>3</th>\n",
       "      <td>Amumu</td>\n",
       "      <td>Support</td>\n",
       "      <td>1</td>\n",
       "      <td>1.2%</td>\n",
       "      <td>7.2%</td>\n",
       "      <td>8.4%</td>\n",
       "      <td>100%</td>\n",
       "      <td>0%</td>\n",
       "      <td>2</td>\n",
       "      <td>4</td>\n",
       "      <td>...</td>\n",
       "      <td>-39</td>\n",
       "      <td>446</td>\n",
       "      <td>2</td>\n",
       "      <td>0.8</td>\n",
       "      <td>1.8%</td>\n",
       "      <td>155</td>\n",
       "      <td>6.6%</td>\n",
       "      <td>8.8%</td>\n",
       "      <td>1.69</td>\n",
       "      <td>0.34</td>\n",
       "    </tr>\n",
       "    <tr>\n",
       "      <th>4</th>\n",
       "      <td>Annie</td>\n",
       "      <td>Middle</td>\n",
       "      <td>2</td>\n",
       "      <td>2.4%</td>\n",
       "      <td>1.2%</td>\n",
       "      <td>3.6%</td>\n",
       "      <td>50%</td>\n",
       "      <td>100%</td>\n",
       "      <td>6</td>\n",
       "      <td>6</td>\n",
       "      <td>...</td>\n",
       "      <td>-345</td>\n",
       "      <td>-457</td>\n",
       "      <td>-14</td>\n",
       "      <td>5.6</td>\n",
       "      <td>16.4%</td>\n",
       "      <td>396</td>\n",
       "      <td>20.1%</td>\n",
       "      <td>16.6%</td>\n",
       "      <td>0.6</td>\n",
       "      <td>0.11</td>\n",
       "    </tr>\n",
       "  </tbody>\n",
       "</table>\n",
       "<p>5 rows × 25 columns</p>\n",
       "</div>"
      ],
      "text/plain": [
       "  Champion      Pos  GP    P%    B%  P+B%    W%  CTR%  K   D  ...  GD10 XPD10  \\\n",
       "0   Aatrox   Middle   1  1.2%  1.2%  4.8%  100%  100%  2   2  ...    46   467   \n",
       "1   Aatrox      Top   2  2.4%  1.2%  4.8%   50%  100%  6   2  ...    14   184   \n",
       "2  Alistar  Support   5  6.0%  0.0%  6.0%   40%   80%  6  19  ...   -44   -77   \n",
       "3    Amumu  Support   1  1.2%  7.2%  8.4%  100%    0%  2   4  ...   -39   446   \n",
       "4    Annie   Middle   2  2.4%  1.2%  3.6%   50%  100%  6   6  ...  -345  -457   \n",
       "\n",
       "  CSD10 CSPM CS%P15  DPM   DMG%  GOLD%   WPM  WCPM  \n",
       "0    -2  8.8  25.1%  377  22.1%  20.9%  0.21  0.38  \n",
       "1   -10  7.9  25.0%  260  17.5%  24.0%  0.36  0.22  \n",
       "2   2.4  0.9   1.9%  121   7.1%   8.4%  1.96  0.34  \n",
       "3     2  0.8   1.8%  155   6.6%   8.8%  1.69  0.34  \n",
       "4   -14  5.6  16.4%  396  20.1%  16.6%   0.6  0.11  \n",
       "\n",
       "[5 rows x 25 columns]"
      ]
     },
     "execution_count": 2,
     "metadata": {},
     "output_type": "execute_result"
    }
   ],
   "source": [
    "lol_df = pd.read_csv('Worlds 2021 Main Event - Champion Stats - OraclesElixir.csv')\n",
    "lol_df.head()"
   ]
  },
  {
   "cell_type": "code",
   "execution_count": 3,
   "id": "01aa5c2e-dcc8-44c8-a8bc-71751dececaa",
   "metadata": {},
   "outputs": [
    {
     "name": "stdout",
     "output_type": "stream",
     "text": [
      "<class 'pandas.core.frame.DataFrame'>\n",
      "RangeIndex: 94 entries, 0 to 93\n",
      "Data columns (total 25 columns):\n",
      " #   Column    Non-Null Count  Dtype \n",
      "---  ------    --------------  ----- \n",
      " 0   Champion  94 non-null     object\n",
      " 1   Pos       94 non-null     object\n",
      " 2   GP        94 non-null     int64 \n",
      " 3   P%        94 non-null     object\n",
      " 4   B%        94 non-null     object\n",
      " 5   P+B%      94 non-null     object\n",
      " 6   W%        94 non-null     object\n",
      " 7   CTR%      94 non-null     object\n",
      " 8   K         94 non-null     object\n",
      " 9   D         94 non-null     object\n",
      " 10  A         94 non-null     object\n",
      " 11  KDA       94 non-null     object\n",
      " 12  KP        94 non-null     object\n",
      " 13  DTH%      94 non-null     object\n",
      " 14  FB%       94 non-null     object\n",
      " 15  GD10      94 non-null     object\n",
      " 16  XPD10     94 non-null     object\n",
      " 17  CSD10     94 non-null     object\n",
      " 18  CSPM      94 non-null     object\n",
      " 19  CS%P15    94 non-null     object\n",
      " 20  DPM       94 non-null     object\n",
      " 21  DMG%      94 non-null     object\n",
      " 22  GOLD%     94 non-null     object\n",
      " 23  WPM       94 non-null     object\n",
      " 24  WCPM      94 non-null     object\n",
      "dtypes: int64(1), object(24)\n",
      "memory usage: 18.5+ KB\n"
     ]
    }
   ],
   "source": [
    "lol_df.info()"
   ]
  },
  {
   "cell_type": "markdown",
   "id": "e0803230-177d-499f-97c2-350042cc1743",
   "metadata": {},
   "source": [
    "The data set contains a total of **94 observations** and is made up of **25 variables**. Each row in the data set represents a the game statistics of a champion that was either picked or banned during the tournament. You may notice that there are observations consisting of the same value for the variable **`Champion`**, this is because a champion can be played in more than one postion which will result in the data set having rows/observations each with a unique combination of the **`Champion`** and **`Pos`** variable "
   ]
  },
  {
   "cell_type": "markdown",
   "id": "30e78dc7-ebc2-4142-878e-6286c3c3e13e",
   "metadata": {},
   "source": [
    "### Description of each variable\n",
    "- **`Champion`**: Name of the champion picked/banned\n",
    "- **`Pos`**: Position the champion played in. Values include Top, Middle, ADC, Jungle, and Support\n",
    "- **`GP`**: Total number of games the champion was picked/played in this role\n",
    "- **`P%`**: Percentage of games champion was picked in this role\n",
    "- **`B%`**: Percentage of games in which the champion was banned (not tied to a specific role)\n",
    "- **`P+B%`**: Percentage of games in which the champion was either banned or picked in any role\n",
    "- **`W%`**: Win percentage of champion in a specific role\n",
    "- **`CTR%`**: Counter-pick rate: percentage of games in which this player/champion was picked after their lane opponent \n",
    "- **`K`**: Total kills a champion had \n",
    "- **`D`**: Total deaths a champion had \n",
    "- **`A`**: Total assists a champion had \n",
    "- **`KDA`**: Total Kill/Death/Assits ration for a champion \n",
    "- **`KP`**: Kill participation which is the percentage of the team's kills in which the champion earned a Kill or Assist \n",
    "- **`DTH%`**: Average share of team’s deaths \n",
    "- **`FB%`**: Percent of games earning a First Blood participation either kill or assist \n",
    "- **`GD10`**: Average gold difference from lane opponent at 10 minutes \n",
    "- **`XPD10`**: Average experience difference from lane opponent at 10 minutes\n",
    "- **`CSD10`**: Average creep score difference from lane opponentat 10 minutes\n",
    "- **`CSPM`**: Average monsters + minions killed per minute\n",
    "- **`CS%P15`**: Average share of team's total CS post-15-minutes\n",
    "- **`DPM`**: Average damage to champions per minute\n",
    "- **`DMG%`**: Average share of team’s total damage to champions\n",
    "- **`GOLD%`**: Average share of team’s total gold earned (excludes starting gold and inherent gold generation)\n",
    "- **`WPM`**: Average wards placed per minute\n",
    "- **`WCPM`**: Average wards cleared per minute"
   ]
  },
  {
   "cell_type": "markdown",
   "id": "62bd5d02-c80b-4516-bda4-dad946aa2f43",
   "metadata": {},
   "source": [
    "---\n",
    "## Data Clean up"
   ]
  },
  {
   "cell_type": "markdown",
   "id": "69711230-2a87-463b-bd83-c4247008bc62",
   "metadata": {},
   "source": [
    "### Duplicate Data\n",
    "The first thing we'll check for is if duplicate records exists in the data set. Since each record in this data set represents the statistics of every champion either picked (in a specific position) or banned, each record must have a unique combination of the **`Champion`** and the **`Pos`** variable. To do this, we will first select the columns of the **`Champion`** and the **`Pos`** variables which will result in a **dataframe** which we will assign to a variable called `duplicate_test`. We will then use the `duplicated` function, along with the `any` function, to check if there are any duplicated records based on these two variables."
   ]
  },
  {
   "cell_type": "code",
   "execution_count": 4,
   "id": "c05cab64-2e3f-4199-bb90-7a567777dd47",
   "metadata": {},
   "outputs": [
    {
     "name": "stdout",
     "output_type": "stream",
     "text": [
      "Duplicated data exists:  False\n"
     ]
    }
   ],
   "source": [
    "duplicate_test = lol_df[['Champion', 'Pos']]\n",
    "duplicate_data_exists = duplicate_test.duplicated().any()\n",
    "print('Duplicated data exists: ', duplicate_data_exists)"
   ]
  },
  {
   "cell_type": "markdown",
   "id": "d60c16a5-1407-4e56-9496-475d7d1c5d80",
   "metadata": {},
   "source": [
    "The reason why we select the **`Champion`** and the **`Pos`** columns is because if we were to use the `duplicated` function using the original dataframe, there is a chance that two records may have the same **`Champion`** and **`Pos`** values but differ in other columns. In this case, the `duplicated` function will return a value of `false` which is wrong since we want each record to have a unique combination of the **`Champion`** and **`Pos`** variables. "
   ]
  },
  {
   "cell_type": "markdown",
   "id": "bfc6baee-a15e-4782-befd-dcd4a3776d3c",
   "metadata": {},
   "source": [
    "### Missing Data"
   ]
  },
  {
   "cell_type": "code",
   "execution_count": 5,
   "id": "76362806-dd40-4a25-8f64-bc4daf0fb756",
   "metadata": {
    "tags": []
   },
   "outputs": [
    {
     "data": {
      "text/plain": [
       "Top        24\n",
       "Middle     21\n",
       "Support    17\n",
       "Jungle     16\n",
       "ADC        14\n",
       "-           2\n",
       "Name: Pos, dtype: int64"
      ]
     },
     "execution_count": 5,
     "metadata": {},
     "output_type": "execute_result"
    }
   ],
   "source": [
    "lol_df['Pos'].value_counts()"
   ]
  },
  {
   "cell_type": "markdown",
   "id": "d80eb3cc-6709-4599-a18a-008bb97a016c",
   "metadata": {},
   "source": [
    "When viewing the dataset, you will notice that some records have a value of `-` in some of their variables. This is the default value when a variable of a record should be empty. For example, the code above shows that there are two records which have a value of `-` in their **`Pos`** variable. This because these two records(Champions) were never picked in the entire tournament but were banned at least once which is why they are included in this data set but with most of their variables having a value of `-`.\n",
    "\n",
    "Since majority of their variables will not have any meaningful value, and considering the fact that there are only 2 of these records out of a total of 94 entries, we believe that it will be best to remove these two records from entire dataset. To do so we will first get the indices of the records which have a value of `-` in their **`Pos`** column. After getting the indices, we can use the `drop` function to remove these records from the data set."
   ]
  },
  {
   "cell_type": "code",
   "execution_count": 6,
   "id": "b95baf9a-2e91-4050-a723-bb5111876f8e",
   "metadata": {},
   "outputs": [
    {
     "name": "stdout",
     "output_type": "stream",
     "text": [
      "Number of entries in the dataframe:  92\n"
     ]
    },
    {
     "data": {
      "text/plain": [
       "Top        24\n",
       "Middle     21\n",
       "Support    17\n",
       "Jungle     16\n",
       "ADC        14\n",
       "Name: Pos, dtype: int64"
      ]
     },
     "execution_count": 6,
     "metadata": {},
     "output_type": "execute_result"
    }
   ],
   "source": [
    "#Get indices\n",
    "dropped_index = lol_df[ lol_df['Pos'] == '-' ].index\n",
    "\n",
    "#Drop records\n",
    "lol_df = lol_df.drop(dropped_index)\n",
    "\n",
    "#Check new number of entries\n",
    "print('Number of entries in the dataframe: ', lol_df.shape[0])\n",
    "\n",
    "#reset indices\n",
    "lol_df.reset_index(drop=True, inplace=True)\n",
    "\n",
    "#Re-check the value count of the Pos variable\n",
    "lol_df['Pos'].value_counts()"
   ]
  },
  {
   "cell_type": "markdown",
   "id": "8a35e29c-b30f-4469-9a9b-363dbf474dcc",
   "metadata": {},
   "source": [
    "As you can see, the new number of entries in the data set is 92 which means that the two records that we selected were removed from the data set. We can also check this by checking the value count of the **`Pos`** variable which shows that there are only 5 values for that variable. We can now ensure that there are no missing values in our data set as each record gwill contain a champion in a specific"
   ]
  },
  {
   "cell_type": "markdown",
   "id": "f5da1808-43c1-4892-b16e-157c6e60a4eb",
   "metadata": {},
   "source": [
    "### Categorical Values\n",
    "Our data set only contains one column with categorical values which is the `Pos` column. We can see the values of this column by using the `values_count` function. Doing so, we will be able to check if there are multiple representations for the same categorical value."
   ]
  },
  {
   "cell_type": "code",
   "execution_count": 7,
   "id": "36597b91-5aa1-42c9-a53b-84dbf3d40c71",
   "metadata": {},
   "outputs": [
    {
     "data": {
      "text/plain": [
       "Top        24\n",
       "Middle     21\n",
       "Support    17\n",
       "Jungle     16\n",
       "ADC        14\n",
       "Name: Pos, dtype: int64"
      ]
     },
     "execution_count": 7,
     "metadata": {},
     "output_type": "execute_result"
    }
   ],
   "source": [
    "lol_df['Pos'].value_counts()"
   ]
  },
  {
   "cell_type": "markdown",
   "id": "97d0d7cf-a00e-4b2b-8aa8-2f568b69d6d5",
   "metadata": {},
   "source": [
    "As you can see, there are 5 only types for the `Pos` column, none of which seem like a different representation of the other meaning that there is no need for us to clean/fix this column."
   ]
  },
  {
   "cell_type": "markdown",
   "id": "5bb5308a-bb5c-4e51-900f-050d3545c551",
   "metadata": {},
   "source": [
    "### Formatting of Values\n",
    "Majority of the values in the data set are numbers however some of these numbers include the `%` sign as the value represents a percentage. To make it easier for future processes such as converting the variable to their apprpriate type or performing numerical operations, we can remove the `%` sign from all the values that have them. To do so, we use `%$` as the regex value with the `replace` function. This takes all of the `%` signs at the end of the value and removes them. "
   ]
  },
  {
   "cell_type": "code",
   "execution_count": 8,
   "id": "e9915db3-0d94-4645-a618-e5d1b01530b2",
   "metadata": {},
   "outputs": [
    {
     "data": {
      "text/plain": [
       "0      1.2\n",
       "1      2.4\n",
       "2      6.0\n",
       "3      1.2\n",
       "4      2.4\n",
       "      ... \n",
       "87     1.2\n",
       "88    18.1\n",
       "89    10.8\n",
       "90     3.6\n",
       "91    16.9\n",
       "Name: P%, Length: 92, dtype: object"
      ]
     },
     "execution_count": 8,
     "metadata": {},
     "output_type": "execute_result"
    }
   ],
   "source": [
    "lol_df.replace(to_replace='%$', value='', regex = True, inplace = True)\n",
    "lol_df['P%'] #checking if the % sign was removed"
   ]
  },
  {
   "cell_type": "markdown",
   "id": "c67b4138-1530-4b53-a7b0-244e5a46b51f",
   "metadata": {},
   "source": [
    "### Data Types of Variables\n",
    "The data type of most of the variables in our current data set is incorrect since most of them are of type `object` even if they should be of type `float` and `int`. To convert the columns to their proper data type, we will be using the `astype` function. For now, our group will only be utilizing the `Pos`, `CSPM`, `K`, `A`, `DMG%`, and `GOLD%` variables and thus we will only be correcting the data types for these variables. The `Pos` variable is already of correct type. `K` and `A` should be of type int since they are whole numbers while `CSPM`, `DMG%`, and `GOLD%` variables should be of type `float`.\n"
   ]
  },
  {
   "cell_type": "code",
   "execution_count": 9,
   "id": "e7eab2bd-451d-4b7b-a865-31337778e3c4",
   "metadata": {},
   "outputs": [
    {
     "name": "stdout",
     "output_type": "stream",
     "text": [
      "<class 'pandas.core.frame.DataFrame'>\n",
      "RangeIndex: 92 entries, 0 to 91\n",
      "Data columns (total 25 columns):\n",
      " #   Column    Non-Null Count  Dtype  \n",
      "---  ------    --------------  -----  \n",
      " 0   Champion  92 non-null     object \n",
      " 1   Pos       92 non-null     object \n",
      " 2   GP        92 non-null     int64  \n",
      " 3   P%        92 non-null     object \n",
      " 4   B%        92 non-null     object \n",
      " 5   P+B%      92 non-null     object \n",
      " 6   W%        92 non-null     object \n",
      " 7   CTR%      92 non-null     object \n",
      " 8   K         92 non-null     int32  \n",
      " 9   D         92 non-null     object \n",
      " 10  A         92 non-null     int32  \n",
      " 11  KDA       92 non-null     object \n",
      " 12  KP        92 non-null     object \n",
      " 13  DTH%      92 non-null     object \n",
      " 14  FB%       92 non-null     object \n",
      " 15  GD10      92 non-null     object \n",
      " 16  XPD10     92 non-null     object \n",
      " 17  CSD10     92 non-null     object \n",
      " 18  CSPM      92 non-null     float64\n",
      " 19  CS%P15    92 non-null     object \n",
      " 20  DPM       92 non-null     object \n",
      " 21  DMG%      92 non-null     float64\n",
      " 22  GOLD%     92 non-null     float64\n",
      " 23  WPM       92 non-null     object \n",
      " 24  WCPM      92 non-null     object \n",
      "dtypes: float64(3), int32(2), int64(1), object(19)\n",
      "memory usage: 17.4+ KB\n"
     ]
    }
   ],
   "source": [
    "lol_df = lol_df.astype({'CSPM': float, 'K': int, 'A': int, 'DMG%': float, 'GOLD%': float})\n",
    "lol_df.info()"
   ]
  },
  {
   "cell_type": "markdown",
   "id": "8312acab-b1d7-4b86-9461-8f726fc3b1a3",
   "metadata": {},
   "source": [
    "---\n",
    "## Exploratory Data Analysis"
   ]
  },
  {
   "cell_type": "markdown",
   "id": "a6b9db9f-ac46-4c41-a28f-5d77c8778fcc",
   "metadata": {
    "tags": []
   },
   "source": [
    "### EDA 1: What kind of correlation exists between the gold share (GOLD%), damage share (DMG%) and average number of kills of a champion picked in a specific role?"
   ]
  },
  {
   "cell_type": "markdown",
   "id": "cb5aad28-bca4-4111-a404-f7b5bc3af271",
   "metadata": {},
   "source": [
    "Champion building is an essential part of the team fight that a player must do in order to have a better performance. This means that a fully-built champion may do higher damage to the opposing team. Building, however, costs gold which can be earned by killing minions, monsters, and enemy champions. It can also be earned by destroying turrets and assisting fellow teammates on their kills. \n",
    "\n",
    "Hence, the EDA intends to find out what kind of correlation exists between the `GOLD%`, `DMG%`, and `K` so that the player can stratigically determine if earning gold is to be prioritized at the start of the game. "
   ]
  },
  {
   "cell_type": "markdown",
   "id": "84f9ac90-adf8-4a9b-be1d-a466d80119e6",
   "metadata": {},
   "source": [
    "To answer this question, the following variables are needed:\n",
    "- **`Pos`**: Position the champion played in. Values include Top, Middle, ADC, Jungle, and Support\n",
    "- **`DMG%`**: Average share of team’s total damage to champions\n",
    "- **`GOLD%`**: Average share of team’s total gold earned (excludes starting gold and inherent gold generation)\n",
    "- **`K`**: Total kills a champion had "
   ]
  },
  {
   "cell_type": "markdown",
   "id": "9653f830-44ba-4bb0-bf5c-0e892355fa7a",
   "metadata": {},
   "source": [
    "The first thing we can do is to first check the distribution of the data set according to its `GOLD%`, `DMG%`, and `K` variables."
   ]
  },
  {
   "cell_type": "code",
   "execution_count": 10,
   "id": "ce894a18-562e-49a9-a12f-1fe28a4c2f76",
   "metadata": {},
   "outputs": [
    {
     "data": {
      "image/png": "[encoded data removed]",
      "text/plain": [
       "<Figure size 640x480 with 3 Axes>"
      ]
     },
     "metadata": {},
     "output_type": "display_data"
    }
   ],
   "source": [
    "gold_df = lol_df.loc[:, 'DMG%']\n",
    "dmg_df = lol_df.loc[:, 'DMG%']\n",
    "k_df = lol_df.loc[:, 'K']\n",
    "\n",
    "plt.subplot(1,3,1)\n",
    "plt.hist(gold_df, edgecolor='w', bins=15)\n",
    "plt.xlabel(\"GOLD%\")\n",
    "plt.ylabel(\"Count\")\n",
    "plt.title('GOLD%')\n",
    "\n",
    "plt.subplot(1,3,2)\n",
    "plt.hist(dmg_df, edgecolor='w', bins=15)\n",
    "plt.xlabel(\"DMG%\")\n",
    "plt.ylabel(\"Count\")\n",
    "plt.title('DMG%')\n",
    "\n",
    "plt.subplot(1,3,3)\n",
    "plt.hist(k_df, edgecolor='w', bins=15)\n",
    "plt.xlabel(\"Kills\")\n",
    "plt.ylabel(\"Count\")\n",
    "plt.title('Kills')\n",
    "\n",
    "plt.tight_layout()"
   ]
  },
  {
   "cell_type": "markdown",
   "id": "dc79345a-2e5d-4e00-9c43-be787679b98c",
   "metadata": {},
   "source": [
    "As we can see, the `GOLD%` and the `DMG%` variables have a normal distribution while the `K` variable is positively skewed. Also notice that the range of the `K` variable is large. This could be due to the fact that the `K` variable is the total number of kills that an entry had for the entire tournament which would definetly skew the data since there are some champions who played more games than others and thus had more chances to get kills. What we can do to resolve this is to instead use the average number of kills that a champion had by dividing the `K` variable to their respective number of games played (`GP`)."
   ]
  },
  {
   "cell_type": "code",
   "execution_count": 11,
   "id": "c1198eae-a230-4dd4-8351-ea874ad73dc3",
   "metadata": {},
   "outputs": [
    {
     "data": {
      "text/plain": [
       "Text(0.5, 1.0, 'Average Kills')"
      ]
     },
     "execution_count": 11,
     "metadata": {},
     "output_type": "execute_result"
    },
    {
     "data": {
      "image/png": "[encoded data removed]",
      "text/plain": [
       "<Figure size 640x480 with 1 Axes>"
      ]
     },
     "metadata": {},
     "output_type": "display_data"
    }
   ],
   "source": [
    "lol_df['Avg Kills'] = lol_df['K'] /  lol_df['GP']\n",
    "lol_df.hist('Avg Kills', edgecolor='w', bins=15)\n",
    "plt.xlabel(\"Average Kills\")\n",
    "plt.ylabel(\"Count\")\n",
    "plt.title('Average Kills')"
   ]
  },
  {
   "cell_type": "markdown",
   "id": "ef466f33-3e1e-4d24-81f7-dfde40c507b2",
   "metadata": {},
   "source": [
    "The resulting distribution of the `Avg Kills` variable is still slightly skewed but not as much compared to the distribution of the `K` variable. Notice also that the range of its x-axis is a lot smaller compared to the original. Next, we can now check the correlation between the `GOLD%`, `DMG%`, and `Avg Kills` variables. To do this, we correlate them using `pandas.DataFrame.corr()`."
   ]
  },
  {
   "cell_type": "code",
   "execution_count": 12,
   "id": "40605540-7495-44e1-84b1-66f33aa33638",
   "metadata": {},
   "outputs": [
    {
     "data": {
      "text/html": [
       "<div>\n",
       "<style scoped>\n",
       "    .dataframe tbody tr th:only-of-type {\n",
       "        vertical-align: middle;\n",
       "    }\n",
       "\n",
       "    .dataframe tbody tr th {\n",
       "        vertical-align: top;\n",
       "    }\n",
       "\n",
       "    .dataframe thead th {\n",
       "        text-align: right;\n",
       "    }\n",
       "</style>\n",
       "<table border=\"1\" class=\"dataframe\">\n",
       "  <thead>\n",
       "    <tr style=\"text-align: right;\">\n",
       "      <th></th>\n",
       "      <th>DMG%</th>\n",
       "      <th>GOLD%</th>\n",
       "      <th>Avg Kills</th>\n",
       "    </tr>\n",
       "  </thead>\n",
       "  <tbody>\n",
       "    <tr>\n",
       "      <th>DMG%</th>\n",
       "      <td>1.000000</td>\n",
       "      <td>0.774968</td>\n",
       "      <td>0.520121</td>\n",
       "    </tr>\n",
       "    <tr>\n",
       "      <th>GOLD%</th>\n",
       "      <td>0.774968</td>\n",
       "      <td>1.000000</td>\n",
       "      <td>0.549521</td>\n",
       "    </tr>\n",
       "    <tr>\n",
       "      <th>Avg Kills</th>\n",
       "      <td>0.520121</td>\n",
       "      <td>0.549521</td>\n",
       "      <td>1.000000</td>\n",
       "    </tr>\n",
       "  </tbody>\n",
       "</table>\n",
       "</div>"
      ],
      "text/plain": [
       "               DMG%     GOLD%  Avg Kills\n",
       "DMG%       1.000000  0.774968   0.520121\n",
       "GOLD%      0.774968  1.000000   0.549521\n",
       "Avg Kills  0.520121  0.549521   1.000000"
      ]
     },
     "execution_count": 12,
     "metadata": {},
     "output_type": "execute_result"
    }
   ],
   "source": [
    "corr_df = lol_df[['DMG%', 'GOLD%', 'Avg Kills']]\n",
    "corr_df.corr()"
   ]
  },
  {
   "cell_type": "markdown",
   "id": "d7de75a9-e9fa-4b0e-bcff-d097deebb575",
   "metadata": {},
   "source": [
    "There are a few inferences arrive looking at the table:\n",
    "1. There is a **positive correlation** between the share of gold (GOLD%) to the share of damage (DMG%).\n",
    "2. There is a **positive correlation** between the share of damage (DMG%) to the average kills.\n",
    "3. There is a **positive correlation** between the share of gold (GOLD%) to the average kills.\n",
    "\n",
    "These inferences are better visualized using the scatter plot."
   ]
  },
  {
   "cell_type": "code",
   "execution_count": 13,
   "id": "0a720f9c-c44c-417c-8e7c-1e73996061cf",
   "metadata": {},
   "outputs": [
    {
     "data": {
      "text/plain": [
       "<matplotlib.legend.Legend at 0x1552ee24040>"
      ]
     },
     "execution_count": 13,
     "metadata": {},
     "output_type": "execute_result"
    },
    {
     "data": {
      "image/png": "[encoded data removed]",
      "text/plain": [
       "<Figure size 800x800 with 1 Axes>"
      ]
     },
     "metadata": {},
     "output_type": "display_data"
    }
   ],
   "source": [
    "fig = plt.figure(figsize = (8,8))\n",
    "ax = fig.add_subplot(1,1,1)\n",
    "ax.set_xlabel('GOLD%')\n",
    "ax.set_ylabel('DMG%')\n",
    "ax.set_title('Relationship between GOLD% and DMG%')\n",
    "\n",
    "pos = ['Top', 'Middle', 'Jungle', 'ADC', 'Support']\n",
    "color = ['red', 'blue', 'green', 'yellow', 'pink']\n",
    "\n",
    "for position, color in zip(pos,color):\n",
    "    indicesToKeep = lol_df['Pos'] == position\n",
    "    ax.scatter(lol_df.loc[indicesToKeep, 'GOLD%']\n",
    "               , lol_df.loc[indicesToKeep, 'DMG%']\n",
    "               , c = color\n",
    "               , alpha = .5)\n",
    "\n",
    "ax.legend(pos)"
   ]
  },
  {
   "cell_type": "markdown",
   "id": "66311383-8d19-420e-ba2b-fbc73536f5b4",
   "metadata": {},
   "source": [
    "As we can see, the dispersion of data indicates that higher gold is correlated to a higher share of damage. This means that the correlation of GOLD% and DMG% is positive. Based on the plot, we can also see that the champions playing a support role tend to recieve less gold and deal less damage while other positions such as ADC and Middle tend to recieve more gold and deal more damage. \n",
    "\n",
    "Now, let's take a look at the scatter plot between the DMG% and the average number of kills."
   ]
  },
  {
   "cell_type": "code",
   "execution_count": 14,
   "id": "b9f660cd-ead8-4b0f-8eab-d20e95b10b80",
   "metadata": {},
   "outputs": [
    {
     "data": {
      "text/plain": [
       "<matplotlib.legend.Legend at 0x1552f05e4c0>"
      ]
     },
     "execution_count": 14,
     "metadata": {},
     "output_type": "execute_result"
    },
    {
     "data": {
      "image/png": "[encoded data removed]",
      "text/plain": [
       "<Figure size 800x800 with 1 Axes>"
      ]
     },
     "metadata": {},
     "output_type": "display_data"
    }
   ],
   "source": [
    "fig = plt.figure(figsize = (8,8))\n",
    "ax = fig.add_subplot(1,1,1)\n",
    "ax.set_xlabel('DMG%')\n",
    "ax.set_ylabel('Avg Kills')\n",
    "ax.set_title('Relationship between Avg Kills and DMG%')\n",
    "\n",
    "pos = ['Top', 'Middle', 'Jungle', 'ADC', 'Support']\n",
    "color = ['red', 'blue', 'green', 'yellow', 'pink']\n",
    "\n",
    "for position, color in zip(pos,color):\n",
    "    indicesToKeep = lol_df['Pos'] == position\n",
    "    ax.scatter(lol_df.loc[indicesToKeep, 'DMG%']\n",
    "               , lol_df.loc[indicesToKeep, 'Avg Kills']\n",
    "               , c = color\n",
    "               , alpha = .5)\n",
    "\n",
    "ax.legend(pos)"
   ]
  },
  {
   "cell_type": "markdown",
   "id": "b20c5c5c-a0e4-47bb-8bdb-4c15139f98ef",
   "metadata": {},
   "source": [
    "We can now see that the correlation is also true in terms of GOLD% and the average number of kills as higher damage is correlated to a higher average of kills. Simmilar to the previous scatter plot, the support role tends to deal less damage and receive less kills while other positions such as Top and Middle deal more damage and recieve more kills. It is also interesting to see that although the Jungle positions does not necessarily deal the most damage, it does receive quite a lot of kills compared to other positions. \n",
    "\n",
    "Next, let's take a look at the scatter plot of GOLD% to average number of kills."
   ]
  },
  {
   "cell_type": "code",
   "execution_count": 15,
   "id": "2ab5d5c8-344d-4577-8872-253e480fb8a2",
   "metadata": {},
   "outputs": [
    {
     "data": {
      "text/plain": [
       "<matplotlib.legend.Legend at 0x1552f0f04f0>"
      ]
     },
     "execution_count": 15,
     "metadata": {},
     "output_type": "execute_result"
    },
    {
     "data": {
      "image/png": "[encoded data removed]",
      "text/plain": [
       "<Figure size 800x800 with 1 Axes>"
      ]
     },
     "metadata": {},
     "output_type": "display_data"
    }
   ],
   "source": [
    "fig = plt.figure(figsize = (8,8))\n",
    "ax = fig.add_subplot(1,1,1)\n",
    "ax.set_xlabel('GOLD%')\n",
    "ax.set_ylabel('DMG%')\n",
    "ax.set_title('Relationship between Avg Kills and GOLD%')\n",
    "\n",
    "pos = ['Top', 'Middle', 'Jungle', 'ADC', 'Support']\n",
    "color = ['red', 'blue', 'green', 'yellow', 'pink']\n",
    "\n",
    "for position, color in zip(pos,color):\n",
    "    indicesToKeep = lol_df['Pos'] == position\n",
    "    ax.scatter(lol_df.loc[indicesToKeep, 'GOLD%']\n",
    "               , lol_df.loc[indicesToKeep, 'DMG%']\n",
    "               , c = color\n",
    "               , alpha = .5)\n",
    "\n",
    "ax.legend(pos)"
   ]
  },
  {
   "cell_type": "markdown",
   "id": "e7ef1070-4bdb-416d-8b42-d403dca15812",
   "metadata": {},
   "source": [
    "Based on the scatter plot, we can see that higher gold earned also correlates to a higher average number of kills. Like the previous plot, the support position generally receives less gold and receives less amount of average kills while other positions, specifically Top and Middle, generaly receive more gold and receive a higher number of average kills.\n",
    "\n",
    "Looking at the three plots, the Support role seems to received the least is unqiue since although it does the least damage on the team, it does give majority of its gold and kills to the other positions. There are different types of Supports in League of Legends: **Tank**, **Enchanter**, **Poke**, **Damage**, **Utility**, and **Pick**. Their job at the start of the game is to assist the ADC since their area of effect is wide, and their damage increases through build, and experience, which is why it is important for the Support to avoid getting last hitting creeps, thereby gaining gold, especially at the early game. After meeting this objective, Supports can now roam to assist other players (Ferriday, 2022).\n",
    "\n",
    "Because of this, we want to also see the correlation between the Assists (`A`) of the support to the `DMG%` and `GOLD%`. To do this, we must first isolate all of the entries that have a `Pos` value of \"Support\" and extract only the variables we need which are the `DMG%`, `GOLD%`, `A`, and `GP` variables. After which we create a deep copy of it and assign it to a variable called `sup_df` and view the shape of its distribution through a histogram."
   ]
  },
  {
   "cell_type": "code",
   "execution_count": 16,
   "id": "590fdccc-2343-48be-a438-981c28afa0f2",
   "metadata": {},
   "outputs": [
    {
     "data": {
      "text/plain": [
       "Text(0, 0.5, 'Count')"
      ]
     },
     "execution_count": 16,
     "metadata": {},
     "output_type": "execute_result"
    },
    {
     "data": {
      "image/png": "[encoded data removed]",
      "text/plain": [
       "<Figure size 640x480 with 1 Axes>"
      ]
     },
     "metadata": {},
     "output_type": "display_data"
    }
   ],
   "source": [
    "support_df = lol_df.loc[lol_df[\"Pos\"] == \"Support\", ['DMG%', 'GOLD%', 'A', 'GP']].copy(True) \n",
    "support_df.hist('A', edgecolor='w', bins=15)\n",
    "plt.xlabel(\"Assists\")\n",
    "plt.ylabel(\"Count\")"
   ]
  },
  {
   "cell_type": "markdown",
   "id": "58c2905d-8989-4fd0-9057-6ae55a84fe7c",
   "metadata": {},
   "source": [
    "As we can see, the distribution of the variable is skewed and its x-axis range is quite large. Simmilar to what we did earlier with the `K` variable, we need to get the average assists of an entry by dividing its `A` variable to the number of games played (`GP`)."
   ]
  },
  {
   "cell_type": "code",
   "execution_count": 17,
   "id": "8bb91c03-7c5a-4478-a215-a666268fea6e",
   "metadata": {},
   "outputs": [
    {
     "data": {
      "text/plain": [
       "Text(0.5, 1.0, 'Assist')"
      ]
     },
     "execution_count": 17,
     "metadata": {},
     "output_type": "execute_result"
    },
    {
     "data": {
      "image/png": "[encoded data removed]",
      "text/plain": [
       "<Figure size 640x480 with 1 Axes>"
      ]
     },
     "metadata": {},
     "output_type": "display_data"
    }
   ],
   "source": [
    "support_df['Avg Assists'] = support_df['A'] /  support_df['GP']\n",
    "support_df.hist('Avg Assists', edgecolor='w', bins=15)\n",
    "plt.xlabel(\"Avg Assists\")\n",
    "plt.ylabel(\"Count\")\n",
    "plt.title(\"Assist\")"
   ]
  },
  {
   "cell_type": "markdown",
   "id": "65a6ea51-efe7-4b17-bc9f-8c2f678ebf1a",
   "metadata": {},
   "source": [
    "Now that we have our average number of assists per support, we can now check the correlation between the `GOLD%`, `DMG%`, and `Avg Assists` variables using the `pandas.DataFrame.corr()`."
   ]
  },
  {
   "cell_type": "code",
   "execution_count": 18,
   "id": "1b4477ae-da6e-49d8-9c5b-acddee038489",
   "metadata": {},
   "outputs": [
    {
     "data": {
      "text/html": [
       "<div>\n",
       "<style scoped>\n",
       "    .dataframe tbody tr th:only-of-type {\n",
       "        vertical-align: middle;\n",
       "    }\n",
       "\n",
       "    .dataframe tbody tr th {\n",
       "        vertical-align: top;\n",
       "    }\n",
       "\n",
       "    .dataframe thead th {\n",
       "        text-align: right;\n",
       "    }\n",
       "</style>\n",
       "<table border=\"1\" class=\"dataframe\">\n",
       "  <thead>\n",
       "    <tr style=\"text-align: right;\">\n",
       "      <th></th>\n",
       "      <th>DMG%</th>\n",
       "      <th>GOLD%</th>\n",
       "      <th>Avg Assists</th>\n",
       "    </tr>\n",
       "  </thead>\n",
       "  <tbody>\n",
       "    <tr>\n",
       "      <th>DMG%</th>\n",
       "      <td>1.000000</td>\n",
       "      <td>0.240619</td>\n",
       "      <td>-0.252885</td>\n",
       "    </tr>\n",
       "    <tr>\n",
       "      <th>GOLD%</th>\n",
       "      <td>0.240619</td>\n",
       "      <td>1.000000</td>\n",
       "      <td>-0.084930</td>\n",
       "    </tr>\n",
       "    <tr>\n",
       "      <th>Avg Assists</th>\n",
       "      <td>-0.252885</td>\n",
       "      <td>-0.084930</td>\n",
       "      <td>1.000000</td>\n",
       "    </tr>\n",
       "  </tbody>\n",
       "</table>\n",
       "</div>"
      ],
      "text/plain": [
       "                 DMG%     GOLD%  Avg Assists\n",
       "DMG%         1.000000  0.240619    -0.252885\n",
       "GOLD%        0.240619  1.000000    -0.084930\n",
       "Avg Assists -0.252885 -0.084930     1.000000"
      ]
     },
     "execution_count": 18,
     "metadata": {},
     "output_type": "execute_result"
    }
   ],
   "source": [
    "support_df.drop(['GP','A'], axis=1).corr()"
   ]
  },
  {
   "cell_type": "markdown",
   "id": "68d043d8-cab0-423f-b617-87022df08d62",
   "metadata": {},
   "source": [
    "There are a few inferences arrive looking at the table:\n",
    "1. There is a **negative correlation** between the share of damage (DMG%) to the average number of assists made.\n",
    "2. There is a **negative correlation** between the share of gold (GOLD%) to the the average number of assists.\n",
    "\n",
    "These inferences are better visualized using the scatter plot."
   ]
  },
  {
   "cell_type": "code",
   "execution_count": 19,
   "id": "bac6ff13-6205-432f-9e5f-7ab44e98f24f",
   "metadata": {},
   "outputs": [
    {
     "data": {
      "image/png": "[encoded data removed]",
      "text/plain": [
       "<Figure size 640x480 with 2 Axes>"
      ]
     },
     "metadata": {},
     "output_type": "display_data"
    }
   ],
   "source": [
    "plt.subplot(1,2,1)\n",
    "plt.scatter(x=support_df['GOLD%'], y=support_df['Avg Assists'], color='red', alpha=0.5 )\n",
    "plt.xlabel(\"GOLD%\")\n",
    "plt.ylabel(\"Avg Assists\")\n",
    "plt.title('GOLD%')\n",
    "\n",
    "plt.subplot(1,2,2)\n",
    "plt.scatter(x=support_df['DMG%'], y=support_df['Avg Assists'], color='blue', alpha=0.5 )\n",
    "plt.xlabel(\"DMG%\")\n",
    "plt.ylabel(\"Avg Assists\")\n",
    "plt.title('DMG%')\n",
    "\n",
    "plt.tight_layout()"
   ]
  },
  {
   "cell_type": "markdown",
   "id": "f2547a50-cfac-4400-9ff1-b20ecf82bdd8",
   "metadata": {},
   "source": [
    "Looking at the first scatter plot (left), supports with a higher number of average assists have a lower share of gold. This is true by definition of the variables. `GOLD%` is the percentage of share of gold to the team. Meaning, a higher percentage of gold earned will mean lower percentage of share for the rest of the positions. For example, the GOLD% of a Support is **25%**. Calculating the share of other positions, they have an estimated percentage of **18.75%** which is lower. \n",
    "\n",
    "Reflecting back at the positive correlation between kills and share of gold of the other positions, it is also true that lower share of gold results to a lower number of kills. Since assists are incremented whenever a help is initiated to the champion who kills an enemy, it is now inferred that the lower number of assists is due to a higher share of gold earned.\n",
    "\n",
    "Looking at the second scatter plot (right), the reason of a negative correlation between DMG% and average assists is similar to the previous explanaition. Looking at the definition of `DMG%`, a higher damage share will also mean a lower damage share of the other positions. If the Support has a higher share of damage, this means that they are most likely 'stealing' more kills from other positions. Since the damage of the other positions is important to efficiently kill an enemy champion, getting more kills may mean that the other players are not going to be stronger as the fight progresses. Hence, Supports with higher damage tend to have lower assists at the end of the game."
   ]
  },
  {
   "cell_type": "markdown",
   "id": "f35b3ec9-c9a1-4c36-98b3-214431f5e568",
   "metadata": {},
   "source": [
    "**ANSWER:** The results of the analysis show that there exists a postive correlation between the `DMG`, `GOLD` and `Avg Kills` of a champion. The scatter plots produce also suggest that certain positions have pattern in terms of the used varaibles. For example, the `Support` position tend to have the least share in gold and damage and also recieve the less kills while positions like `ADC`, `Middle` and `Top` tend to recieve more gold, deal more damage, and get more kills. In light of this, we can suggest that it is important, especially for Top, Middle, Jungle, and ADC to earn gold, especially at the start of the game, so that they can gain a higher damage leading to a higher number of kills. On the other hand, if a player uses a Support champion, they are **not** recommended to give prioritization on earning gold especially at the start of the game. To have a better team fight performance, supports are recommended to utilize their own champion's skills to assist the champions of other positions.\n"
   ]
  },
  {
   "cell_type": "markdown",
   "id": "3812a3fd-b729-406e-a9ed-d39521bd10e5",
   "metadata": {},
   "source": [
    "**Reference:** Ferriday, A. (2022, January 22). League Of Legends: Complete Support Guide. Retrieved from The Gamer: https://www.thegamer.com/league-legends-how-play-support/#:~:text=Despite%20often%20being%20viewed%20as,and%20playstyles%20to%20the%20table."
   ]
  },
  {
   "cell_type": "markdown",
   "id": "7da99f4e-bee1-45fd-ae4e-157a37aedd77",
   "metadata": {
    "tags": []
   },
   "source": [
    "---\n",
    "### EDA 2: What Position obtains the highest creep score?\n",
    "In League of Legends, a standard team usually consists of 5 players, each with different positions namely `Top`, `Middle`, `Jungle`, `ADC`, and `Support`. With these positions in mind, we also know the different positions primarily play in different areas of the map (e.g. `Top` would be found on the top-most lane most of the time). With this in mind, this EDA wants to find out which position is capable of getting the highest creep score per minute (`CSPM`). Since we know from EDA 1 that the gold earned is positviely correlated to both the kills and the damage done by champions, the answer to this EDA will be able to help teams know who to pressure and focus so that the targetted player is unable to power themselves up quickly in contrast, which lane to send their carry in so that they can earn more resources faster."
   ]
  },
  {
   "cell_type": "markdown",
   "id": "f97796c7-71ad-4480-acb0-b497daab21a0",
   "metadata": {},
   "source": [
    "To answer this EDA, we will be making use of the following variables:\n",
    "- **`CSPM`**: Average monsters + minions killed per minute\n",
    "- **`Pos`**: Position the champion played in. Values include Top, Middle, ADC, Jungle, and Support"
   ]
  },
  {
   "cell_type": "markdown",
   "id": "302656a0-e829-4a09-be45-3f7cde0d1e42",
   "metadata": {},
   "source": [
    "To begin, we can start by visualizing how many champions we have for each position."
   ]
  },
  {
   "cell_type": "code",
   "execution_count": 20,
   "id": "7286bcab-eb82-43fc-b008-58b3ed223733",
   "metadata": {},
   "outputs": [
    {
     "data": {
      "text/plain": [
       "Text(0.5, 1.0, 'Number of Champions picked based on position')"
      ]
     },
     "execution_count": 20,
     "metadata": {},
     "output_type": "execute_result"
    },
    {
     "data": {
      "image/png": "[encoded data removed]",
      "text/plain": [
       "<Figure size 600x700 with 1 Axes>"
      ]
     },
     "metadata": {},
     "output_type": "display_data"
    }
   ],
   "source": [
    "pos_count = lol_df['Pos'].value_counts()\n",
    "pos_count\n",
    "\n",
    "pos_count.plot.barh(figsize=(6,7)).invert_yaxis()\n",
    "plt.ylabel('Position')\n",
    "plt.xlabel('Count')\n",
    "plt.title('Number of Champions picked based on position')"
   ]
  },
  {
   "cell_type": "code",
   "execution_count": 21,
   "id": "fcdd8592-dfc0-4d9f-8ca6-a4803216f613",
   "metadata": {},
   "outputs": [
    {
     "data": {
      "text/plain": [
       "Top        24\n",
       "Middle     21\n",
       "Support    17\n",
       "Jungle     16\n",
       "ADC        14\n",
       "Name: Pos, dtype: int64"
      ]
     },
     "execution_count": 21,
     "metadata": {},
     "output_type": "execute_result"
    }
   ],
   "source": [
    "pos_count"
   ]
  },
  {
   "cell_type": "markdown",
   "id": "fed96685-d8e8-4c6f-a7d7-18b5c9c5c9c7",
   "metadata": {},
   "source": [
    "Based on the graph, we can see that the Position with the most unique champions was the `Top` Position followed by `Middle`, `Support`, `Jungle`, and then lastly `ADC`. For the exact number for each Position, we have 24 for `Top`, 21 for`Middle`, 17 for `Support`, 16 for `Jungle`, and 14 for `ADC`, coming up with a total of 92 different entries for all Positions."
   ]
  },
  {
   "cell_type": "markdown",
   "id": "f775bf73-797f-486e-be47-78fa35f3708e",
   "metadata": {},
   "source": [
    "Now in order to determine which Position obtains the highest creep score per minute, we will be comparing them with their `CSPM` variable. In analyzing the data, we will have two options, either use the mean or the median. In the mean time, we will be getting both of them, together with the standard deviation on the off chance that we will need to compute further using it."
   ]
  },
  {
   "cell_type": "code",
   "execution_count": 22,
   "id": "1e1f615c-8c6b-4559-89f3-17d263af8193",
   "metadata": {},
   "outputs": [
    {
     "data": {
      "text/html": [
       "<style type=\"text/css\">\n",
       "</style>\n",
       "<table id=\"T_440b9\" style='display:inline'>\n",
       "  <caption>Overall CSPM</caption>\n",
       "  <thead>\n",
       "    <tr>\n",
       "      <th class=\"blank level0\" >&nbsp;</th>\n",
       "      <th id=\"T_440b9_level0_col0\" class=\"col_heading level0 col0\" >CSPM</th>\n",
       "    </tr>\n",
       "  </thead>\n",
       "  <tbody>\n",
       "    <tr>\n",
       "      <th id=\"T_440b9_level0_row0\" class=\"row_heading level0 row0\" >mean</th>\n",
       "      <td id=\"T_440b9_row0_col0\" class=\"data row0 col0\" >6.463043</td>\n",
       "    </tr>\n",
       "    <tr>\n",
       "      <th id=\"T_440b9_level0_row1\" class=\"row_heading level0 row1\" >median</th>\n",
       "      <td id=\"T_440b9_row1_col0\" class=\"data row1 col0\" >7.600000</td>\n",
       "    </tr>\n",
       "    <tr>\n",
       "      <th id=\"T_440b9_level0_row2\" class=\"row_heading level0 row2\" >std</th>\n",
       "      <td id=\"T_440b9_row2_col0\" class=\"data row2 col0\" >2.968802</td>\n",
       "    </tr>\n",
       "  </tbody>\n",
       "</table>\n",
       "          <style type=\"text/css\">\n",
       "</style>\n",
       "<table id=\"T_62610\" style='display:inline'>\n",
       "  <caption>CSPM by Position</caption>\n",
       "  <thead>\n",
       "    <tr>\n",
       "      <th id=\"T_62610_level0_col0\" class=\"col_heading level0 col0\" >Pos</th>\n",
       "      <th id=\"T_62610_level0_col1\" class=\"col_heading level0 col1\" >mean</th>\n",
       "      <th id=\"T_62610_level0_col2\" class=\"col_heading level0 col2\" >median</th>\n",
       "      <th id=\"T_62610_level0_col3\" class=\"col_heading level0 col3\" >std</th>\n",
       "    </tr>\n",
       "  </thead>\n",
       "  <tbody>\n",
       "    <tr>\n",
       "      <td id=\"T_62610_row0_col0\" class=\"data row0 col0\" >ADC</td>\n",
       "      <td id=\"T_62610_row0_col1\" class=\"data row0 col1\" >8.978571</td>\n",
       "      <td id=\"T_62610_row0_col2\" class=\"data row0 col2\" >9.150000</td>\n",
       "      <td id=\"T_62610_row0_col3\" class=\"data row0 col3\" >0.689681</td>\n",
       "    </tr>\n",
       "    <tr>\n",
       "      <td id=\"T_62610_row1_col0\" class=\"data row1 col0\" >Jungle</td>\n",
       "      <td id=\"T_62610_row1_col1\" class=\"data row1 col1\" >5.375000</td>\n",
       "      <td id=\"T_62610_row1_col2\" class=\"data row1 col2\" >5.300000</td>\n",
       "      <td id=\"T_62610_row1_col3\" class=\"data row1 col3\" >0.838650</td>\n",
       "    </tr>\n",
       "    <tr>\n",
       "      <td id=\"T_62610_row2_col0\" class=\"data row2 col0\" >Middle</td>\n",
       "      <td id=\"T_62610_row2_col1\" class=\"data row2 col1\" >8.304762</td>\n",
       "      <td id=\"T_62610_row2_col2\" class=\"data row2 col2\" >8.300000</td>\n",
       "      <td id=\"T_62610_row2_col3\" class=\"data row2 col3\" >0.955759</td>\n",
       "    </tr>\n",
       "    <tr>\n",
       "      <td id=\"T_62610_row3_col0\" class=\"data row3 col0\" >Support</td>\n",
       "      <td id=\"T_62610_row3_col1\" class=\"data row3 col1\" >0.976471</td>\n",
       "      <td id=\"T_62610_row3_col2\" class=\"data row3 col2\" >1.100000</td>\n",
       "      <td id=\"T_62610_row3_col3\" class=\"data row3 col3\" >0.336395</td>\n",
       "    </tr>\n",
       "    <tr>\n",
       "      <td id=\"T_62610_row4_col0\" class=\"data row4 col0\" >Top</td>\n",
       "      <td id=\"T_62610_row4_col1\" class=\"data row4 col1\" >7.995833</td>\n",
       "      <td id=\"T_62610_row4_col2\" class=\"data row4 col2\" >7.900000</td>\n",
       "      <td id=\"T_62610_row4_col3\" class=\"data row4 col3\" >0.893201</td>\n",
       "    </tr>\n",
       "  </tbody>\n",
       "</table>\n"
      ]
     },
     "metadata": {},
     "output_type": "display_data"
    }
   ],
   "source": [
    "from IPython.display import display_html \n",
    "\n",
    "lol_mean_median_std = lol_df.agg({\"CSPM\": [\"mean\", \"median\", \"std\"]})\n",
    "overall_DMG = lol_mean_median_std.style.set_table_attributes(\"style='display:inline'\").set_caption('Overall CSPM')\n",
    "\n",
    "pos_mean_median_std = lol_df.groupby('Pos')['CSPM'].agg([\"mean\", \"median\", \"std\"])\n",
    "pos_mean_median_std.reset_index(inplace=True)\n",
    "pos_CSPM = pos_mean_median_std.style.hide(axis='index').set_table_attributes(\"style='display:inline'\").set_caption('CSPM by Position')\n",
    "\n",
    "space = \"\\xa0\" * 10 #spacing between the tables\n",
    "\n",
    "display_html(overall_DMG._repr_html_() + space + pos_CSPM._repr_html_(), raw=True)"
   ]
  },
  {
   "cell_type": "markdown",
   "id": "65de5fa0-3312-4043-a450-9f254ab1ff3d",
   "metadata": {},
   "source": [
    "Now basing it off the results, we can see that the `CSPM` variable of our dataset has a mean of `6.46`, a median of `7.6`, and a standard deviation of `2.97`. After grouping the entries by their Position, we can see that the highest mean and median are both under the `ADC` Position where mean is `8.98` and median is `9.15`."
   ]
  },
  {
   "cell_type": "markdown",
   "id": "bd1bc277-b45d-4239-a19a-41abc27cd9c6",
   "metadata": {},
   "source": [
    "We can also use a boxplot in order to better compare `CSPM` by `Pos` and identify the dispersion and skewness of the data. With a box plot, we are able to see the maximum, minimum, first quartile, third quartile, and the median of each. The box plot also shows the outliers for each category."
   ]
  },
  {
   "cell_type": "code",
   "execution_count": 23,
   "id": "fe38e88e-8c8e-4509-8a5f-8aeda145570a",
   "metadata": {},
   "outputs": [
    {
     "data": {
      "text/plain": [
       "<AxesSubplot:title={'center':'CSPM'}, xlabel='Pos'>"
      ]
     },
     "execution_count": 23,
     "metadata": {},
     "output_type": "execute_result"
    },
    {
     "data": {
      "image/png": "[encoded data removed]",
      "text/plain": [
       "<Figure size 1500x1000 with 1 Axes>"
      ]
     },
     "metadata": {},
     "output_type": "display_data"
    }
   ],
   "source": [
    "lol_df.boxplot(\"CSPM\", by=\"Pos\", figsize=(15,10))"
   ]
  },
  {
   "cell_type": "markdown",
   "id": "87050606-5a4c-413c-9023-8bf127a8aafc",
   "metadata": {},
   "source": [
    "With the boxplot, we are able to better visualize the data. Based on the results, we can see that both Jungle and Top have relatively normal distribution while ADC, Middle, and Support have skewed distribution."
   ]
  },
  {
   "cell_type": "markdown",
   "id": "0842d242-4c80-4d07-83ae-2857688ee0c2",
   "metadata": {},
   "source": [
    "There are also outliers present but since there are barely any, if none for each category, we will not perform any operations on them."
   ]
  },
  {
   "cell_type": "markdown",
   "id": "309387b0-698d-46c7-8787-4920f498ad5c",
   "metadata": {},
   "source": [
    "**ANSWER:** Based on the stastitics that we computed for earlier and the box plots that we produced, we can say that the position capable of obtaining the highest creep score per minute would be `ADC` position since it has the highest median and mean among the group. In light of this, it is advised for teams to target the enemy ADC so that they are unable to farm creeps and minions properly. If the ADC is currently dead or struggling already, the best positions to focus would be `Middle` Position, followed by the `Top` Position, then the `Jungle` Position, and lastly the `Support` Position. By focusing the champions in this order, we will decrease the amount of creeps and minions per minute of the said Positions, which will in turn give them a harder time to strengthen themselves."
   ]
  },
  {
   "cell_type": "markdown",
   "id": "4277cd8c-8346-4e09-97ae-af38da875ba8",
   "metadata": {
    "tags": []
   },
   "source": [
    "---\n",
    "### EDA 3: What Position is capable of doing the most share of damage in a team?\n",
    "Since we know which postion is most likely to get the most resoruces (creeps), it will also help to know which position deals the most damage in a team. As metioned earlier a team usually consists of 5 different positions and although these positions do not have to be followed at all, it has become the main way that almost all players use to play the game. Knowing which position is your main source of damage allows your team to play around that position and protect them so that they can maximize their damage output. In light of this, the EDA wants to know which position is capabable of doing the most damage in a team (`DMG%`) which will help teams know who to protect and who to target first during a team fight. "
   ]
  },
  {
   "cell_type": "markdown",
   "id": "db51b37e-f916-4bf2-86a1-04765e8b24fd",
   "metadata": {},
   "source": [
    "In order to determine which Position is capable of doing the most damage in a team, we will be comparing them by their `DMG%` variable. We have 2 main options in this scenario, we can either use the mean or the median. For now we will be getting both of them, along with the standard deviation of the `DMG%` variable. We will first do this for the entire data set and then repeat the process again but with each record grouped by their `Pos` variable. "
   ]
  },
  {
   "cell_type": "code",
   "execution_count": 24,
   "id": "7a9a51da-71ae-45f5-9225-665395abb023",
   "metadata": {},
   "outputs": [
    {
     "data": {
      "text/html": [
       "<style type=\"text/css\">\n",
       "</style>\n",
       "<table id=\"T_33535\" style='display:inline'>\n",
       "  <caption>Overall DMG%</caption>\n",
       "  <thead>\n",
       "    <tr>\n",
       "      <th class=\"blank level0\" >&nbsp;</th>\n",
       "      <th id=\"T_33535_level0_col0\" class=\"col_heading level0 col0\" >DMG%</th>\n",
       "    </tr>\n",
       "  </thead>\n",
       "  <tbody>\n",
       "    <tr>\n",
       "      <th id=\"T_33535_level0_row0\" class=\"row_heading level0 row0\" >mean</th>\n",
       "      <td id=\"T_33535_row0_col0\" class=\"data row0 col0\" >20.106522</td>\n",
       "    </tr>\n",
       "    <tr>\n",
       "      <th id=\"T_33535_level0_row1\" class=\"row_heading level0 row1\" >median</th>\n",
       "      <td id=\"T_33535_row1_col0\" class=\"data row1 col0\" >20.300000</td>\n",
       "    </tr>\n",
       "    <tr>\n",
       "      <th id=\"T_33535_level0_row2\" class=\"row_heading level0 row2\" >std</th>\n",
       "      <td id=\"T_33535_row2_col0\" class=\"data row2 col0\" >8.338917</td>\n",
       "    </tr>\n",
       "  </tbody>\n",
       "</table>\n",
       "                                                  <style type=\"text/css\">\n",
       "</style>\n",
       "<table id=\"T_c257f\" style='display:inline'>\n",
       "  <caption>DMG% by Position</caption>\n",
       "  <thead>\n",
       "    <tr>\n",
       "      <th id=\"T_c257f_level0_col0\" class=\"col_heading level0 col0\" >Pos</th>\n",
       "      <th id=\"T_c257f_level0_col1\" class=\"col_heading level0 col1\" >mean</th>\n",
       "      <th id=\"T_c257f_level0_col2\" class=\"col_heading level0 col2\" >median</th>\n",
       "      <th id=\"T_c257f_level0_col3\" class=\"col_heading level0 col3\" >std</th>\n",
       "    </tr>\n",
       "  </thead>\n",
       "  <tbody>\n",
       "    <tr>\n",
       "      <td id=\"T_c257f_row0_col0\" class=\"data row0 col0\" >ADC</td>\n",
       "      <td id=\"T_c257f_row0_col1\" class=\"data row0 col1\" >24.864286</td>\n",
       "      <td id=\"T_c257f_row0_col2\" class=\"data row0 col2\" >24.050000</td>\n",
       "      <td id=\"T_c257f_row0_col3\" class=\"data row0 col3\" >6.551994</td>\n",
       "    </tr>\n",
       "    <tr>\n",
       "      <td id=\"T_c257f_row1_col0\" class=\"data row1 col0\" >Jungle</td>\n",
       "      <td id=\"T_c257f_row1_col1\" class=\"data row1 col1\" >16.256250</td>\n",
       "      <td id=\"T_c257f_row1_col2\" class=\"data row1 col2\" >15.850000</td>\n",
       "      <td id=\"T_c257f_row1_col3\" class=\"data row1 col3\" >5.260161</td>\n",
       "    </tr>\n",
       "    <tr>\n",
       "      <td id=\"T_c257f_row2_col0\" class=\"data row2 col0\" >Middle</td>\n",
       "      <td id=\"T_c257f_row2_col1\" class=\"data row2 col1\" >25.295238</td>\n",
       "      <td id=\"T_c257f_row2_col2\" class=\"data row2 col2\" >22.100000</td>\n",
       "      <td id=\"T_c257f_row2_col3\" class=\"data row2 col3\" >6.516324</td>\n",
       "    </tr>\n",
       "    <tr>\n",
       "      <td id=\"T_c257f_row3_col0\" class=\"data row3 col0\" >Support</td>\n",
       "      <td id=\"T_c257f_row3_col1\" class=\"data row3 col1\" >8.705882</td>\n",
       "      <td id=\"T_c257f_row3_col2\" class=\"data row3 col2\" >7.100000</td>\n",
       "      <td id=\"T_c257f_row3_col3\" class=\"data row3 col3\" >4.189641</td>\n",
       "    </tr>\n",
       "    <tr>\n",
       "      <td id=\"T_c257f_row4_col0\" class=\"data row4 col0\" >Top</td>\n",
       "      <td id=\"T_c257f_row4_col1\" class=\"data row4 col1\" >23.433333</td>\n",
       "      <td id=\"T_c257f_row4_col2\" class=\"data row4 col2\" >23.450000</td>\n",
       "      <td id=\"T_c257f_row4_col3\" class=\"data row4 col3\" >5.233809</td>\n",
       "    </tr>\n",
       "  </tbody>\n",
       "</table>\n"
      ]
     },
     "metadata": {},
     "output_type": "display_data"
    }
   ],
   "source": [
    "from IPython.display import display_html \n",
    "\n",
    "lol_mean_median_std = lol_df.agg({\"DMG%\": [\"mean\", \"median\", \"std\"]})\n",
    "overall_DMG = lol_mean_median_std.style.set_table_attributes(\"style='display:inline'\").set_caption('Overall DMG%')\n",
    "\n",
    "Pos_mean_median_std = lol_df.groupby('Pos')['DMG%'].agg([\"mean\", \"median\", \"std\"])\n",
    "Pos_mean_median_std.reset_index(inplace=True)\n",
    "pos_DMG = Pos_mean_median_std.style.hide(axis='index').set_table_attributes(\"style='display:inline'\").set_caption('DMG% by Position')\n",
    "\n",
    "space = \"\\xa0\" * 50 #spacing between the tables\n",
    "\n",
    "display_html(overall_DMG._repr_html_() + space + pos_DMG._repr_html_(), raw=True)"
   ]
  },
  {
   "cell_type": "markdown",
   "id": "ae70235f-12a1-49fa-afa1-d7a1909441ac",
   "metadata": {},
   "source": [
    "Based on the results, we can see that the `DMG%` of our dataset has a mean of 20.10, a median of 20.30 and a standard deviation of 8.33. Grouping the entries by their `Pos` variable, we see that the Middle category has the highest mean among the 5 positions. However, if we were to base it on the median, then ADC would have the highest `DMG%`. The standard deviation is also useful and will be used later on in the analysis. In order to determine which statistic is appropriate in representing the group, we will look into the distribution of each of the groups. "
   ]
  },
  {
   "cell_type": "markdown",
   "id": "9b6896b5-9af3-441c-8461-653f1c6a6d59",
   "metadata": {},
   "source": [
    "The next thing we can do is to analyze the histogram of each `Pos` based on their `DMG%` variable. Doing so will provide us with an idea of each of their respcetive distributions shapes. "
   ]
  },
  {
   "cell_type": "code",
   "execution_count": 25,
   "id": "e0a7ede6-f2e4-4731-89d6-16c0763155f1",
   "metadata": {},
   "outputs": [
    {
     "data": {
      "image/png": "[encoded data removed]",
      "text/plain": [
       "<Figure size 640x480 with 5 Axes>"
      ]
     },
     "metadata": {},
     "output_type": "display_data"
    }
   ],
   "source": [
    "top_df = lol_df.loc[lol_df[\"Pos\"] == \"Top\", 'DMG%']\n",
    "middle_df = lol_df.loc[lol_df[\"Pos\"] == \"Middle\", 'DMG%']\n",
    "jungle_df = lol_df.loc[lol_df[\"Pos\"] == \"Jungle\", 'DMG%']\n",
    "adc_df = lol_df.loc[lol_df[\"Pos\"] == \"ADC\", 'DMG%']\n",
    "support_df = lol_df.loc[lol_df[\"Pos\"] == \"Support\", 'DMG%']\n",
    "\n",
    "plt.subplot(2,3,1)\n",
    "plt.hist(top_df, edgecolor='w', bins=15)\n",
    "plt.xlabel(\"DMG%\")\n",
    "plt.ylabel(\"Count\")\n",
    "plt.title('Top')\n",
    "\n",
    "plt.subplot(2,3,2)\n",
    "plt.hist(middle_df, edgecolor='w', bins=15)\n",
    "plt.xlabel(\"DMG%\")\n",
    "plt.ylabel(\"Count\")\n",
    "plt.title('Middle')\n",
    "\n",
    "plt.subplot(2,3,3)\n",
    "plt.hist(jungle_df, edgecolor='w', bins=15)\n",
    "plt.xlabel(\"DMG%\")\n",
    "plt.ylabel(\"Count\")\n",
    "plt.title('Jungle')\n",
    "\n",
    "plt.subplot(2,3,4)\n",
    "plt.hist(adc_df, edgecolor='w', bins=15)\n",
    "plt.xlabel(\"DMG%\")\n",
    "plt.ylabel(\"Count\")\n",
    "plt.title('ADC')\n",
    "\n",
    "plt.subplot(2,3,6)\n",
    "plt.hist(support_df, edgecolor='w', bins=15)\n",
    "plt.xlabel(\"DMG%\")\n",
    "plt.ylabel(\"Count\")\n",
    "plt.title('Support')\n",
    "\n",
    "plt.tight_layout()"
   ]
  },
  {
   "cell_type": "markdown",
   "id": "cf894a16-bbc8-421a-af97-da73a43c06f9",
   "metadata": {},
   "source": [
    "The histograms show that results for Top, Jungle, and ADC take the form of a somewhat normal distribution while the histograms for Middle and Support roles are positvely skewed. Knowing the shape of the ditribution is important as it allows us to determine the appropriate measure of central tendency that we should use in order to describe the data."
   ]
  },
  {
   "cell_type": "markdown",
   "id": "e60af4c6-bd73-44f4-ba4e-a65a9d41295c",
   "metadata": {},
   "source": [
    "We can also use a boxplot in order to better compare `DMG%` by `Pos`. With a box plot, we are able to see the maximum, minimum, first quartile, third quartile, and the median of each. The box plot also shows the outliers for each category."
   ]
  },
  {
   "cell_type": "code",
   "execution_count": 26,
   "id": "63be2ecd-3985-49ea-8cf9-32ae5b41d311",
   "metadata": {},
   "outputs": [
    {
     "data": {
      "text/plain": [
       "<AxesSubplot:title={'center':'DMG%'}, xlabel='Pos'>"
      ]
     },
     "execution_count": 26,
     "metadata": {},
     "output_type": "execute_result"
    },
    {
     "data": {
      "image/png": "[encoded data removed]",
      "text/plain": [
       "<Figure size 1500x1000 with 1 Axes>"
      ]
     },
     "metadata": {},
     "output_type": "display_data"
    }
   ],
   "source": [
    "lol_df.boxplot(\"DMG%\", by=\"Pos\", figsize=(15,10))"
   ]
  },
  {
   "cell_type": "markdown",
   "id": "75ba1760-b7a4-4b89-a615-2687547f438c",
   "metadata": {},
   "source": [
    "With the boxplot, we are able to better visualize the data. Based on the results, we can confirm that ADC, Jungle, and Top have relatively normal distribution while both Middle and Support have skewed distribution.\n",
    "\n",
    "From this, we can assume that it would be best to use the median as the measure of central tendency for both the Middle and Support categories since it is advised that the median be used with groups that are skewed. For ADC, Jungle and Top, any of the three measures of central tendency (mean, meadian, mode) can be used since they are all normally distributed and thus we will also use the median for these 3 categories. \n",
    "\n",
    "There are also outliers present but since they are relatively few for each category, we will not perform any operations on them. Additionally,  the number of entries for each category is relatively small and thus we cannot really afford to discard these entries. The values of these outliers are also possible values, meaning they aren't wrong or incorrect data and we believe that these outliers are an important part of out data set.  \n",
    "\n",
    "**ANSWER:** Based on the stastitics that we computed for earlier, and the histograms/box plots that we produced, we can say that the position capable of doing the most damage share in a team is the `ADC` position since it has the highest median among the group. In light of this, it is advised for teams to target the enemy ADC first while priotizing their own ADC in team fights. Once the ADC has been defeated, the next position that deals the most damage share would be `Top`, followed by `Middle`, then `Jungle`, and lastly `Support`. Taking out the enemy champions in this order will greatly decrease the fighting power of the enemy team. "
   ]
  },
  {
   "cell_type": "markdown",
   "id": "d01a55d4-1c2b-4fbb-9d6a-525396d84d49",
   "metadata": {},
   "source": [
    "---\n",
    "## Research Question"
   ]
  },
  {
   "cell_type": "markdown",
   "id": "434f4156-0e8c-4413-965a-239240e2bfa4",
   "metadata": {},
   "source": [
    "### Is there is a clear distinction in terms of the positions when clustering the entries based on their team damage share, team gold share, creep score per minute, and their average kills?\n",
    "Upon completing the data analysis, we observed that there seems to be a pattern based on the postions of the entries. For example, the first EDA question concluded that there is a positive correlation between the gold share, damage share and average number of kills of the entries. It also showed us a pattern through the scatter plots that it produced wherein we can see that groups according to their `Pos` varaible seem to occupy a similar area.\n",
    "\n",
    "The second EDA 2 discussed which position has the highest `CSPM` and concluded that it is the ADC that earns the most creep score. As a result, enemy teams should look to hinder the ADC as a higher creep score may lead to more gold which we learned is positively correlated to damage and kills from EDA 1. EDA 2 also showed the creep score of the other positions and we noticed that they are somewhat close to each other despite being from different categories.\n",
    "\n",
    "The third and final EDA discussed which position has the highes `DMG%` and concluded that the ADC deals the most damage, followed by Top, Middle, Jungle and Support. As a result, teams should look to target the enemy team's ADC first while protecting their own ADC if they want to minimize their opponent's fighting power while maximing their own. However, similar to EDA 2, we observed that the values of the `DMG%` variable are close to one another despite it being from different categories.\n",
    "\n",
    "This leads us to question if there is a clear distinction in terms of the postions when clustering the entries based on their `DMG%`, `GOLD%`, `CSPM`, and average kills. By clustering the data set, we will be able to find out if there is a distinction between the 5 positions based on the stated variables. Knowing if there are distinctions between the positions or which positions are simmilar to each other will give us insights on which champions can be played in each position and the flexibility of a champion to play a position that it was not originally intended for. This question is significant to the LOL community because it could define the meta of the game and may provide new strategies and tactics that could help lead a team to victory."
   ]
  },
  {
   "cell_type": "markdown",
   "id": "d80af2f3-8ac1-4f4d-9894-837489206c89",
   "metadata": {},
   "source": [
    "---\n",
    "# Phase 2"
   ]
  },
  {
   "cell_type": "markdown",
   "id": "60074171-2cd8-44f2-8576-cb3707da751e",
   "metadata": {},
   "source": [
    "## Data Modeling\n",
    "In order to answer our research question, we will be utilizing the `KMeans()` function from the sklearn library to cluster our dataset. Before clustering however, we need to standardise our data. This step is important as we will be using 4 different variables (`DMG%`, `Gold%`, `CSPM`, `Avg Kills`) which do not necesarily use the same scale and range which may cause some variables to have more influence on the results compared to others. To standardise our data set, we need to take the mean of each variable, subtract the mean from each value, then finally divide that result by the standard deviation of the variable. To make things simpler, we can make use of the `StandardScaler` object and its `fit_transform()` method from the sklearn librar."
   ]
  },
  {
   "cell_type": "code",
   "execution_count": 27,
   "id": "19f3071e-aa93-4ddb-b5a5-1fec9dc33937",
   "metadata": {},
   "outputs": [],
   "source": [
    "import sklearn.cluster as cluster\n",
    "from sklearn.preprocessing import StandardScaler"
   ]
  },
  {
   "cell_type": "markdown",
   "id": "8919e95b-e030-41d8-8421-962b9e79eda3",
   "metadata": {},
   "source": [
    "After importing, we can prepare our dataset so that only the `Pos`, `GOLD%`, `DMG%`, `CSPM`, and `Avg Kills` columns remain"
   ]
  },
  {
   "cell_type": "code",
   "execution_count": 28,
   "id": "b7e1a45f-4c7a-43f3-a3ba-47c5e88868d9",
   "metadata": {},
   "outputs": [
    {
     "data": {
      "text/html": [
       "<div>\n",
       "<style scoped>\n",
       "    .dataframe tbody tr th:only-of-type {\n",
       "        vertical-align: middle;\n",
       "    }\n",
       "\n",
       "    .dataframe tbody tr th {\n",
       "        vertical-align: top;\n",
       "    }\n",
       "\n",
       "    .dataframe thead th {\n",
       "        text-align: right;\n",
       "    }\n",
       "</style>\n",
       "<table border=\"1\" class=\"dataframe\">\n",
       "  <thead>\n",
       "    <tr style=\"text-align: right;\">\n",
       "      <th></th>\n",
       "      <th>Pos</th>\n",
       "      <th>GOLD%</th>\n",
       "      <th>DMG%</th>\n",
       "      <th>CSPM</th>\n",
       "      <th>Avg Kills</th>\n",
       "    </tr>\n",
       "  </thead>\n",
       "  <tbody>\n",
       "    <tr>\n",
       "      <th>0</th>\n",
       "      <td>Middle</td>\n",
       "      <td>20.9</td>\n",
       "      <td>22.1</td>\n",
       "      <td>8.8</td>\n",
       "      <td>2.000000</td>\n",
       "    </tr>\n",
       "    <tr>\n",
       "      <th>1</th>\n",
       "      <td>Top</td>\n",
       "      <td>24.0</td>\n",
       "      <td>17.5</td>\n",
       "      <td>7.9</td>\n",
       "      <td>3.000000</td>\n",
       "    </tr>\n",
       "    <tr>\n",
       "      <th>2</th>\n",
       "      <td>Support</td>\n",
       "      <td>8.4</td>\n",
       "      <td>7.1</td>\n",
       "      <td>0.9</td>\n",
       "      <td>1.200000</td>\n",
       "    </tr>\n",
       "    <tr>\n",
       "      <th>3</th>\n",
       "      <td>Support</td>\n",
       "      <td>8.8</td>\n",
       "      <td>6.6</td>\n",
       "      <td>0.8</td>\n",
       "      <td>2.000000</td>\n",
       "    </tr>\n",
       "    <tr>\n",
       "      <th>4</th>\n",
       "      <td>Middle</td>\n",
       "      <td>16.6</td>\n",
       "      <td>20.1</td>\n",
       "      <td>5.6</td>\n",
       "      <td>3.000000</td>\n",
       "    </tr>\n",
       "    <tr>\n",
       "      <th>...</th>\n",
       "      <td>...</td>\n",
       "      <td>...</td>\n",
       "      <td>...</td>\n",
       "      <td>...</td>\n",
       "      <td>...</td>\n",
       "    </tr>\n",
       "    <tr>\n",
       "      <th>87</th>\n",
       "      <td>Middle</td>\n",
       "      <td>25.5</td>\n",
       "      <td>19.7</td>\n",
       "      <td>8.3</td>\n",
       "      <td>2.000000</td>\n",
       "    </tr>\n",
       "    <tr>\n",
       "      <th>88</th>\n",
       "      <td>Support</td>\n",
       "      <td>9.6</td>\n",
       "      <td>17.6</td>\n",
       "      <td>0.2</td>\n",
       "      <td>1.400000</td>\n",
       "    </tr>\n",
       "    <tr>\n",
       "      <th>89</th>\n",
       "      <td>ADC</td>\n",
       "      <td>24.6</td>\n",
       "      <td>36.4</td>\n",
       "      <td>9.1</td>\n",
       "      <td>2.333333</td>\n",
       "    </tr>\n",
       "    <tr>\n",
       "      <th>90</th>\n",
       "      <td>Support</td>\n",
       "      <td>9.2</td>\n",
       "      <td>3.6</td>\n",
       "      <td>1.1</td>\n",
       "      <td>0.333333</td>\n",
       "    </tr>\n",
       "    <tr>\n",
       "      <th>91</th>\n",
       "      <td>Middle</td>\n",
       "      <td>22.3</td>\n",
       "      <td>30.2</td>\n",
       "      <td>7.8</td>\n",
       "      <td>3.071429</td>\n",
       "    </tr>\n",
       "  </tbody>\n",
       "</table>\n",
       "<p>92 rows × 5 columns</p>\n",
       "</div>"
      ],
      "text/plain": [
       "        Pos  GOLD%  DMG%  CSPM  Avg Kills\n",
       "0    Middle   20.9  22.1   8.8   2.000000\n",
       "1       Top   24.0  17.5   7.9   3.000000\n",
       "2   Support    8.4   7.1   0.9   1.200000\n",
       "3   Support    8.8   6.6   0.8   2.000000\n",
       "4    Middle   16.6  20.1   5.6   3.000000\n",
       "..      ...    ...   ...   ...        ...\n",
       "87   Middle   25.5  19.7   8.3   2.000000\n",
       "88  Support    9.6  17.6   0.2   1.400000\n",
       "89      ADC   24.6  36.4   9.1   2.333333\n",
       "90  Support    9.2   3.6   1.1   0.333333\n",
       "91   Middle   22.3  30.2   7.8   3.071429\n",
       "\n",
       "[92 rows x 5 columns]"
      ]
     },
     "execution_count": 28,
     "metadata": {},
     "output_type": "execute_result"
    }
   ],
   "source": [
    "preped_df = lol_df[['Pos', 'GOLD%', 'DMG%', 'CSPM', 'Avg Kills']].copy(True)\n",
    "preped_df"
   ]
  },
  {
   "cell_type": "markdown",
   "id": "56450857-9ad4-4de3-b170-bc913de34341",
   "metadata": {},
   "source": [
    "Now we create a StandardScaler object and create new columns to place our standardised values in."
   ]
  },
  {
   "cell_type": "code",
   "execution_count": 29,
   "id": "cbc57b8c-aadc-404d-8ffe-de207cdb834b",
   "metadata": {},
   "outputs": [
    {
     "data": {
      "text/html": [
       "<div>\n",
       "<style scoped>\n",
       "    .dataframe tbody tr th:only-of-type {\n",
       "        vertical-align: middle;\n",
       "    }\n",
       "\n",
       "    .dataframe tbody tr th {\n",
       "        vertical-align: top;\n",
       "    }\n",
       "\n",
       "    .dataframe thead th {\n",
       "        text-align: right;\n",
       "    }\n",
       "</style>\n",
       "<table border=\"1\" class=\"dataframe\">\n",
       "  <thead>\n",
       "    <tr style=\"text-align: right;\">\n",
       "      <th></th>\n",
       "      <th>Pos</th>\n",
       "      <th>GOLD%</th>\n",
       "      <th>DMG%</th>\n",
       "      <th>CSPM</th>\n",
       "      <th>Avg Kills</th>\n",
       "      <th>S_GOLD%</th>\n",
       "      <th>S_DMG%</th>\n",
       "      <th>S_CSPM</th>\n",
       "      <th>S_Avg Kills</th>\n",
       "    </tr>\n",
       "  </thead>\n",
       "  <tbody>\n",
       "    <tr>\n",
       "      <th>0</th>\n",
       "      <td>Middle</td>\n",
       "      <td>20.9</td>\n",
       "      <td>22.1</td>\n",
       "      <td>8.8</td>\n",
       "      <td>2.000000</td>\n",
       "      <td>0.129507</td>\n",
       "      <td>0.240367</td>\n",
       "      <td>0.791485</td>\n",
       "      <td>-0.379203</td>\n",
       "    </tr>\n",
       "    <tr>\n",
       "      <th>1</th>\n",
       "      <td>Top</td>\n",
       "      <td>24.0</td>\n",
       "      <td>17.5</td>\n",
       "      <td>7.9</td>\n",
       "      <td>3.000000</td>\n",
       "      <td>0.625286</td>\n",
       "      <td>-0.314286</td>\n",
       "      <td>0.486671</td>\n",
       "      <td>0.253497</td>\n",
       "    </tr>\n",
       "    <tr>\n",
       "      <th>2</th>\n",
       "      <td>Support</td>\n",
       "      <td>8.4</td>\n",
       "      <td>7.1</td>\n",
       "      <td>0.9</td>\n",
       "      <td>1.200000</td>\n",
       "      <td>-1.869600</td>\n",
       "      <td>-1.568284</td>\n",
       "      <td>-1.884102</td>\n",
       "      <td>-0.885362</td>\n",
       "    </tr>\n",
       "    <tr>\n",
       "      <th>3</th>\n",
       "      <td>Support</td>\n",
       "      <td>8.8</td>\n",
       "      <td>6.6</td>\n",
       "      <td>0.8</td>\n",
       "      <td>2.000000</td>\n",
       "      <td>-1.805628</td>\n",
       "      <td>-1.628572</td>\n",
       "      <td>-1.917970</td>\n",
       "      <td>-0.379203</td>\n",
       "    </tr>\n",
       "    <tr>\n",
       "      <th>4</th>\n",
       "      <td>Middle</td>\n",
       "      <td>16.6</td>\n",
       "      <td>20.1</td>\n",
       "      <td>5.6</td>\n",
       "      <td>3.000000</td>\n",
       "      <td>-0.558185</td>\n",
       "      <td>-0.000786</td>\n",
       "      <td>-0.292297</td>\n",
       "      <td>0.253497</td>\n",
       "    </tr>\n",
       "    <tr>\n",
       "      <th>...</th>\n",
       "      <td>...</td>\n",
       "      <td>...</td>\n",
       "      <td>...</td>\n",
       "      <td>...</td>\n",
       "      <td>...</td>\n",
       "      <td>...</td>\n",
       "      <td>...</td>\n",
       "      <td>...</td>\n",
       "      <td>...</td>\n",
       "    </tr>\n",
       "    <tr>\n",
       "      <th>87</th>\n",
       "      <td>Middle</td>\n",
       "      <td>25.5</td>\n",
       "      <td>19.7</td>\n",
       "      <td>8.3</td>\n",
       "      <td>2.000000</td>\n",
       "      <td>0.865179</td>\n",
       "      <td>-0.049017</td>\n",
       "      <td>0.622144</td>\n",
       "      <td>-0.379203</td>\n",
       "    </tr>\n",
       "    <tr>\n",
       "      <th>88</th>\n",
       "      <td>Support</td>\n",
       "      <td>9.6</td>\n",
       "      <td>17.6</td>\n",
       "      <td>0.2</td>\n",
       "      <td>1.400000</td>\n",
       "      <td>-1.677685</td>\n",
       "      <td>-0.302228</td>\n",
       "      <td>-2.121180</td>\n",
       "      <td>-0.758822</td>\n",
       "    </tr>\n",
       "    <tr>\n",
       "      <th>89</th>\n",
       "      <td>ADC</td>\n",
       "      <td>24.6</td>\n",
       "      <td>36.4</td>\n",
       "      <td>9.1</td>\n",
       "      <td>2.333333</td>\n",
       "      <td>0.721243</td>\n",
       "      <td>1.964615</td>\n",
       "      <td>0.893090</td>\n",
       "      <td>-0.168303</td>\n",
       "    </tr>\n",
       "    <tr>\n",
       "      <th>90</th>\n",
       "      <td>Support</td>\n",
       "      <td>9.2</td>\n",
       "      <td>3.6</td>\n",
       "      <td>1.1</td>\n",
       "      <td>0.333333</td>\n",
       "      <td>-1.741657</td>\n",
       "      <td>-1.990303</td>\n",
       "      <td>-1.816366</td>\n",
       "      <td>-1.433702</td>\n",
       "    </tr>\n",
       "    <tr>\n",
       "      <th>91</th>\n",
       "      <td>Middle</td>\n",
       "      <td>22.3</td>\n",
       "      <td>30.2</td>\n",
       "      <td>7.8</td>\n",
       "      <td>3.071429</td>\n",
       "      <td>0.353407</td>\n",
       "      <td>1.217039</td>\n",
       "      <td>0.452803</td>\n",
       "      <td>0.298690</td>\n",
       "    </tr>\n",
       "  </tbody>\n",
       "</table>\n",
       "<p>92 rows × 9 columns</p>\n",
       "</div>"
      ],
      "text/plain": [
       "        Pos  GOLD%  DMG%  CSPM  Avg Kills   S_GOLD%    S_DMG%    S_CSPM  \\\n",
       "0    Middle   20.9  22.1   8.8   2.000000  0.129507  0.240367  0.791485   \n",
       "1       Top   24.0  17.5   7.9   3.000000  0.625286 -0.314286  0.486671   \n",
       "2   Support    8.4   7.1   0.9   1.200000 -1.869600 -1.568284 -1.884102   \n",
       "3   Support    8.8   6.6   0.8   2.000000 -1.805628 -1.628572 -1.917970   \n",
       "4    Middle   16.6  20.1   5.6   3.000000 -0.558185 -0.000786 -0.292297   \n",
       "..      ...    ...   ...   ...        ...       ...       ...       ...   \n",
       "87   Middle   25.5  19.7   8.3   2.000000  0.865179 -0.049017  0.622144   \n",
       "88  Support    9.6  17.6   0.2   1.400000 -1.677685 -0.302228 -2.121180   \n",
       "89      ADC   24.6  36.4   9.1   2.333333  0.721243  1.964615  0.893090   \n",
       "90  Support    9.2   3.6   1.1   0.333333 -1.741657 -1.990303 -1.816366   \n",
       "91   Middle   22.3  30.2   7.8   3.071429  0.353407  1.217039  0.452803   \n",
       "\n",
       "    S_Avg Kills  \n",
       "0     -0.379203  \n",
       "1      0.253497  \n",
       "2     -0.885362  \n",
       "3     -0.379203  \n",
       "4      0.253497  \n",
       "..          ...  \n",
       "87    -0.379203  \n",
       "88    -0.758822  \n",
       "89    -0.168303  \n",
       "90    -1.433702  \n",
       "91     0.298690  \n",
       "\n",
       "[92 rows x 9 columns]"
      ]
     },
     "execution_count": 29,
     "metadata": {},
     "output_type": "execute_result"
    }
   ],
   "source": [
    "scaler = StandardScaler()\n",
    "preped_df[['S_GOLD%', 'S_DMG%', 'S_CSPM', 'S_Avg Kills']] = scaler.fit_transform(preped_df[['GOLD%', 'DMG%', 'CSPM', 'Avg Kills']])\n",
    "preped_df"
   ]
  },
  {
   "cell_type": "markdown",
   "id": "0f051c90-751a-4c95-a090-f893d524c6f7",
   "metadata": {},
   "source": [
    "It is also important to note that since we want to be able to plot our data, we must find a way to represent this multi-variable dataset in a two varaible plot. To do this we can use a `PCA()` object to conduct a Principal Component Analysis and reduce the number of variables to our desired number. "
   ]
  },
  {
   "cell_type": "code",
   "execution_count": 30,
   "id": "caf11797-46f9-41e4-ba6c-f6dc693ceb0d",
   "metadata": {},
   "outputs": [
    {
     "data": {
      "text/html": [
       "<div>\n",
       "<style scoped>\n",
       "    .dataframe tbody tr th:only-of-type {\n",
       "        vertical-align: middle;\n",
       "    }\n",
       "\n",
       "    .dataframe tbody tr th {\n",
       "        vertical-align: top;\n",
       "    }\n",
       "\n",
       "    .dataframe thead th {\n",
       "        text-align: right;\n",
       "    }\n",
       "</style>\n",
       "<table border=\"1\" class=\"dataframe\">\n",
       "  <thead>\n",
       "    <tr style=\"text-align: right;\">\n",
       "      <th></th>\n",
       "      <th>PC1</th>\n",
       "      <th>PC2</th>\n",
       "      <th>Pos</th>\n",
       "    </tr>\n",
       "  </thead>\n",
       "  <tbody>\n",
       "    <tr>\n",
       "      <th>0</th>\n",
       "      <td>0.465690</td>\n",
       "      <td>-0.680302</td>\n",
       "      <td>Middle</td>\n",
       "    </tr>\n",
       "    <tr>\n",
       "      <th>1</th>\n",
       "      <td>0.545098</td>\n",
       "      <td>-0.056278</td>\n",
       "      <td>Top</td>\n",
       "    </tr>\n",
       "    <tr>\n",
       "      <th>2</th>\n",
       "      <td>-3.178526</td>\n",
       "      <td>0.421465</td>\n",
       "      <td>Support</td>\n",
       "    </tr>\n",
       "    <tr>\n",
       "      <th>3</th>\n",
       "      <td>-2.992442</td>\n",
       "      <td>0.881838</td>\n",
       "      <td>Support</td>\n",
       "    </tr>\n",
       "    <tr>\n",
       "      <th>4</th>\n",
       "      <td>-0.364294</td>\n",
       "      <td>0.454281</td>\n",
       "      <td>Middle</td>\n",
       "    </tr>\n",
       "    <tr>\n",
       "      <th>...</th>\n",
       "      <td>...</td>\n",
       "      <td>...</td>\n",
       "      <td>...</td>\n",
       "    </tr>\n",
       "    <tr>\n",
       "      <th>87</th>\n",
       "      <td>0.634750</td>\n",
       "      <td>-0.749659</td>\n",
       "      <td>Middle</td>\n",
       "    </tr>\n",
       "    <tr>\n",
       "      <th>88</th>\n",
       "      <td>-2.508159</td>\n",
       "      <td>0.475739</td>\n",
       "      <td>Support</td>\n",
       "    </tr>\n",
       "    <tr>\n",
       "      <th>89</th>\n",
       "      <td>1.802384</td>\n",
       "      <td>-0.797533</td>\n",
       "      <td>ADC</td>\n",
       "    </tr>\n",
       "    <tr>\n",
       "      <th>90</th>\n",
       "      <td>-3.501499</td>\n",
       "      <td>-0.089559</td>\n",
       "      <td>Support</td>\n",
       "    </tr>\n",
       "    <tr>\n",
       "      <th>91</th>\n",
       "      <td>1.170195</td>\n",
       "      <td>-0.074017</td>\n",
       "      <td>Middle</td>\n",
       "    </tr>\n",
       "  </tbody>\n",
       "</table>\n",
       "<p>92 rows × 3 columns</p>\n",
       "</div>"
      ],
      "text/plain": [
       "         PC1       PC2      Pos\n",
       "0   0.465690 -0.680302   Middle\n",
       "1   0.545098 -0.056278      Top\n",
       "2  -3.178526  0.421465  Support\n",
       "3  -2.992442  0.881838  Support\n",
       "4  -0.364294  0.454281   Middle\n",
       "..       ...       ...      ...\n",
       "87  0.634750 -0.749659   Middle\n",
       "88 -2.508159  0.475739  Support\n",
       "89  1.802384 -0.797533      ADC\n",
       "90 -3.501499 -0.089559  Support\n",
       "91  1.170195 -0.074017   Middle\n",
       "\n",
       "[92 rows x 3 columns]"
      ]
     },
     "execution_count": 30,
     "metadata": {},
     "output_type": "execute_result"
    }
   ],
   "source": [
    "from sklearn.decomposition import PCA\n",
    "\n",
    "pca = PCA(n_components=2) #set number of components to reduce to\n",
    "principalComponents = pca.fit_transform(preped_df.loc[:, ['S_GOLD%', 'S_DMG%', 'S_CSPM', 'S_Avg Kills']]) #reduce the standardised columns to just 2\n",
    "standardised_pc_df = pd.DataFrame(data = principalComponents, columns = ['PC1', 'PC2']) #assign it to a new dataframe\n",
    "\n",
    "cluster_df = pd.concat([standardised_pc_df, preped_df[['Pos']]], axis = 1) #add the positions\n",
    "\n",
    "cluster_df"
   ]
  },
  {
   "cell_type": "markdown",
   "id": "03a2fcd0-e4a3-4d0c-a40e-d0f26eb51826",
   "metadata": {},
   "source": [
    "Now that we have reduced our number of variables to 2, we can now apply our k-means algorithm. The `KMeans` function takes in n_clusters which is the number of clusters we want to have. Usually we would need to do an elbow plot in order to find the optimal number of clusters but since we want to know if there is a distinction between the 5 possible values of the `Pos` variable, we will set the n_clusters to 5. "
   ]
  },
  {
   "cell_type": "code",
   "execution_count": 31,
   "id": "2e3e7a87-5826-4949-a411-4cc86a1ee96a",
   "metadata": {},
   "outputs": [
    {
     "data": {
      "text/html": [
       "<div>\n",
       "<style scoped>\n",
       "    .dataframe tbody tr th:only-of-type {\n",
       "        vertical-align: middle;\n",
       "    }\n",
       "\n",
       "    .dataframe tbody tr th {\n",
       "        vertical-align: top;\n",
       "    }\n",
       "\n",
       "    .dataframe thead th {\n",
       "        text-align: right;\n",
       "    }\n",
       "</style>\n",
       "<table border=\"1\" class=\"dataframe\">\n",
       "  <thead>\n",
       "    <tr style=\"text-align: right;\">\n",
       "      <th></th>\n",
       "      <th>PC1</th>\n",
       "      <th>PC2</th>\n",
       "      <th>Pos</th>\n",
       "      <th>cluster</th>\n",
       "    </tr>\n",
       "  </thead>\n",
       "  <tbody>\n",
       "    <tr>\n",
       "      <th>0</th>\n",
       "      <td>0.465690</td>\n",
       "      <td>-0.680302</td>\n",
       "      <td>Middle</td>\n",
       "      <td>1</td>\n",
       "    </tr>\n",
       "    <tr>\n",
       "      <th>1</th>\n",
       "      <td>0.545098</td>\n",
       "      <td>-0.056278</td>\n",
       "      <td>Top</td>\n",
       "      <td>2</td>\n",
       "    </tr>\n",
       "    <tr>\n",
       "      <th>2</th>\n",
       "      <td>-3.178526</td>\n",
       "      <td>0.421465</td>\n",
       "      <td>Support</td>\n",
       "      <td>0</td>\n",
       "    </tr>\n",
       "    <tr>\n",
       "      <th>3</th>\n",
       "      <td>-2.992442</td>\n",
       "      <td>0.881838</td>\n",
       "      <td>Support</td>\n",
       "      <td>0</td>\n",
       "    </tr>\n",
       "    <tr>\n",
       "      <th>4</th>\n",
       "      <td>-0.364294</td>\n",
       "      <td>0.454281</td>\n",
       "      <td>Middle</td>\n",
       "      <td>3</td>\n",
       "    </tr>\n",
       "    <tr>\n",
       "      <th>...</th>\n",
       "      <td>...</td>\n",
       "      <td>...</td>\n",
       "      <td>...</td>\n",
       "      <td>...</td>\n",
       "    </tr>\n",
       "    <tr>\n",
       "      <th>87</th>\n",
       "      <td>0.634750</td>\n",
       "      <td>-0.749659</td>\n",
       "      <td>Middle</td>\n",
       "      <td>1</td>\n",
       "    </tr>\n",
       "    <tr>\n",
       "      <th>88</th>\n",
       "      <td>-2.508159</td>\n",
       "      <td>0.475739</td>\n",
       "      <td>Support</td>\n",
       "      <td>0</td>\n",
       "    </tr>\n",
       "    <tr>\n",
       "      <th>89</th>\n",
       "      <td>1.802384</td>\n",
       "      <td>-0.797533</td>\n",
       "      <td>ADC</td>\n",
       "      <td>2</td>\n",
       "    </tr>\n",
       "    <tr>\n",
       "      <th>90</th>\n",
       "      <td>-3.501499</td>\n",
       "      <td>-0.089559</td>\n",
       "      <td>Support</td>\n",
       "      <td>0</td>\n",
       "    </tr>\n",
       "    <tr>\n",
       "      <th>91</th>\n",
       "      <td>1.170195</td>\n",
       "      <td>-0.074017</td>\n",
       "      <td>Middle</td>\n",
       "      <td>2</td>\n",
       "    </tr>\n",
       "  </tbody>\n",
       "</table>\n",
       "<p>92 rows × 4 columns</p>\n",
       "</div>"
      ],
      "text/plain": [
       "         PC1       PC2      Pos  cluster\n",
       "0   0.465690 -0.680302   Middle        1\n",
       "1   0.545098 -0.056278      Top        2\n",
       "2  -3.178526  0.421465  Support        0\n",
       "3  -2.992442  0.881838  Support        0\n",
       "4  -0.364294  0.454281   Middle        3\n",
       "..       ...       ...      ...      ...\n",
       "87  0.634750 -0.749659   Middle        1\n",
       "88 -2.508159  0.475739  Support        0\n",
       "89  1.802384 -0.797533      ADC        2\n",
       "90 -3.501499 -0.089559  Support        0\n",
       "91  1.170195 -0.074017   Middle        2\n",
       "\n",
       "[92 rows x 4 columns]"
      ]
     },
     "execution_count": 31,
     "metadata": {},
     "output_type": "execute_result"
    }
   ],
   "source": [
    "kmeans = cluster.KMeans(n_clusters = 5)\n",
    "kmeans.fit(cluster_df[['PC1', 'PC2']])\n",
    "cluster_df[\"cluster\"] = kmeans.labels_ #add the cluster number\n",
    "\n",
    "cluster_df"
   ]
  },
  {
   "cell_type": "markdown",
   "id": "2e3a2644-09fc-4155-82a0-c1f270f78460",
   "metadata": {},
   "source": [
    "Now that we have our clusters, we can better visualize them by plotting."
   ]
  },
  {
   "cell_type": "code",
   "execution_count": 32,
   "id": "f7175e5e-dd2e-4236-8f61-888f2b4516ae",
   "metadata": {},
   "outputs": [
    {
     "data": {
      "image/png": "[encoded data removed]",
      "text/plain": [
       "<Figure size 800x800 with 2 Axes>"
      ]
     },
     "metadata": {},
     "output_type": "display_data"
    }
   ],
   "source": [
    "fig = plt.figure(figsize = (8,8))\n",
    "\n",
    "ax = fig.add_subplot(1,2,1) \n",
    "ax.set_xlabel('PC1', fontsize = 15)\n",
    "ax.set_ylabel('PC2', fontsize = 15)\n",
    "ax.set_title('By Cluster Number', fontsize = 20)\n",
    "cluster_no = [0, 1, 2, 3, 4]\n",
    "colors = ['red', 'blue', 'green', 'yellow', 'pink']\n",
    "for cluster_no, color in zip(cluster_no, colors):\n",
    "    indicesToKeep = cluster_df['cluster'] == cluster_no\n",
    "    ax.scatter(cluster_df.loc[indicesToKeep, 'PC1']\n",
    "               , cluster_df.loc[indicesToKeep, 'PC2']\n",
    "               , c = color\n",
    "               , s = 50\n",
    "               , alpha = .5)\n",
    "ax.legend([0, 1, 2, 3, 4,])\n",
    "ax.grid()\n",
    "\n",
    "ax = fig.add_subplot(1,2,2) \n",
    "ax.set_xlabel('PC1', fontsize = 15)\n",
    "ax.set_ylabel('PC2', fontsize = 15)\n",
    "ax.set_title('By Postion', fontsize = 20)\n",
    "positions = ['Top', 'Middle',  'Jungle',  'ADC',  'Support']\n",
    "colors = ['red', 'blue', 'green', 'yellow', 'pink']\n",
    "for pos, color in zip(positions, colors):\n",
    "    indicesToKeep = cluster_df['Pos'] == pos\n",
    "    ax.scatter(cluster_df.loc[indicesToKeep, 'PC1']\n",
    "               , cluster_df.loc[indicesToKeep, 'PC2']\n",
    "               , c = color\n",
    "               , s = 50\n",
    "               , alpha = .5)\n",
    "ax.legend(positions)\n",
    "ax.grid()\n",
    "\n",
    "plt.tight_layout()"
   ]
  },
  {
   "cell_type": "markdown",
   "id": "22a38412-04d2-4683-9156-c06ba0713581",
   "metadata": {},
   "source": [
    "Here, we produced two plots. The plot on the left represents the points colored according to the cluster that they belong to while the plot on the right is colored according to their respective `Pos` variable. Comparing the two plots, we see that cluster 1 and cluster 2 are predominantly occupied by points belonging to the `Support` and `Jungle` positions respectively. The remaining three clusters (0, 3, 4) have a mix of `Top`, `Middle` and `ADC` positions. This is better shown numerically.  "
   ]
  },
  {
   "cell_type": "code",
   "execution_count": 33,
   "id": "6961e08f-5ac4-4ca2-b1df-873d4e69f0b6",
   "metadata": {},
   "outputs": [
    {
     "name": "stdout",
     "output_type": "stream",
     "text": [
      "Number of data points in each Position:\n",
      "Top        24\n",
      "Middle     21\n",
      "Support    17\n",
      "Jungle     16\n",
      "ADC        14\n",
      "Name: Pos, dtype: int64\n",
      "\n",
      "\n",
      "Number of data points in each cluster:\n",
      "Cluster 0:\n",
      "Position Top:\t\t 0\n",
      "Position Middle:\t 0\n",
      "Position Jungle:\t 2\n",
      "Position ADC:\t\t 0\n",
      "Position Support:\t 16\n",
      "\n",
      "Cluster 1:\n",
      "Position Top:\t\t 9\n",
      "Position Middle:\t 7\n",
      "Position Jungle:\t 1\n",
      "Position ADC:\t\t 4\n",
      "Position Support:\t 0\n",
      "\n",
      "Cluster 2:\n",
      "Position Top:\t\t 11\n",
      "Position Middle:\t 8\n",
      "Position Jungle:\t 1\n",
      "Position ADC:\t\t 9\n",
      "Position Support:\t 0\n",
      "\n",
      "Cluster 3:\n",
      "Position Top:\t\t 0\n",
      "Position Middle:\t 2\n",
      "Position Jungle:\t 12\n",
      "Position ADC:\t\t 0\n",
      "Position Support:\t 1\n",
      "\n",
      "Cluster 4:\n",
      "Position Top:\t\t 4\n",
      "Position Middle:\t 4\n",
      "Position Jungle:\t 0\n",
      "Position ADC:\t\t 1\n",
      "Position Support:\t 0\n"
     ]
    }
   ],
   "source": [
    "cluster_0 = cluster_df.loc[cluster_df['cluster'] == 0]\n",
    "cluster_1 = cluster_df.loc[cluster_df['cluster']== 1]\n",
    "cluster_2 = cluster_df.loc[cluster_df['cluster'] == 2]\n",
    "cluster_3 = cluster_df.loc[cluster_df['cluster'] == 3]\n",
    "cluster_4 = cluster_df.loc[cluster_df['cluster'] == 4]\n",
    "\n",
    "print('Number of data points in each Position:')\n",
    "print(cluster_df['Pos'].value_counts())\n",
    "\n",
    "print('\\n\\nNumber of data points in each cluster:')\n",
    "print('Cluster 0:')\n",
    "print('Position Top:\\t\\t', cluster_0.loc[cluster_0['Pos'] == 'Top'].shape[0])\n",
    "print('Position Middle:\\t', cluster_0.loc[cluster_0['Pos'] == 'Middle'].shape[0])\n",
    "print('Position Jungle:\\t', cluster_0.loc[cluster_0['Pos'] == 'Jungle'].shape[0])\n",
    "print('Position ADC:\\t\\t', cluster_0.loc[cluster_0['Pos'] == 'ADC'].shape[0])\n",
    "print('Position Support:\\t', cluster_0.loc[cluster_0['Pos'] == 'Support'].shape[0])\n",
    "\n",
    "print('\\nCluster 1:')\n",
    "print('Position Top:\\t\\t', cluster_1.loc[cluster_1['Pos'] == 'Top'].shape[0])\n",
    "print('Position Middle:\\t', cluster_1.loc[cluster_1['Pos'] == 'Middle'].shape[0])\n",
    "print('Position Jungle:\\t', cluster_1.loc[cluster_1['Pos'] == 'Jungle'].shape[0])\n",
    "print('Position ADC:\\t\\t', cluster_1.loc[cluster_1['Pos'] == 'ADC'].shape[0])\n",
    "print('Position Support:\\t', cluster_1.loc[cluster_1['Pos'] == 'Support'].shape[0])\n",
    "\n",
    "print('\\nCluster 2:')\n",
    "print('Position Top:\\t\\t', cluster_2.loc[cluster_2['Pos'] == 'Top'].shape[0])\n",
    "print('Position Middle:\\t', cluster_2.loc[cluster_2['Pos'] == 'Middle'].shape[0])\n",
    "print('Position Jungle:\\t', cluster_2.loc[cluster_2['Pos'] == 'Jungle'].shape[0])\n",
    "print('Position ADC:\\t\\t', cluster_2.loc[cluster_2['Pos'] == 'ADC'].shape[0])\n",
    "print('Position Support:\\t', cluster_2.loc[cluster_2['Pos'] == 'Support'].shape[0])\n",
    "\n",
    "print('\\nCluster 3:')\n",
    "print('Position Top:\\t\\t', cluster_3.loc[cluster_3['Pos'] == 'Top'].shape[0])\n",
    "print('Position Middle:\\t', cluster_3.loc[cluster_3['Pos'] == 'Middle'].shape[0])\n",
    "print('Position Jungle:\\t', cluster_3.loc[cluster_3['Pos'] == 'Jungle'].shape[0])\n",
    "print('Position ADC:\\t\\t', cluster_3.loc[cluster_3['Pos'] == 'ADC'].shape[0])\n",
    "print('Position Support:\\t', cluster_3.loc[cluster_3['Pos'] == 'Support'].shape[0])\n",
    "\n",
    "print('\\nCluster 4:')\n",
    "print('Position Top:\\t\\t', cluster_4.loc[cluster_4['Pos'] == 'Top'].shape[0])\n",
    "print('Position Middle:\\t', cluster_4.loc[cluster_4['Pos'] == 'Middle'].shape[0])\n",
    "print('Position Jungle:\\t', cluster_4.loc[cluster_4['Pos'] == 'Jungle'].shape[0])\n",
    "print('Position ADC:\\t\\t', cluster_4.loc[cluster_4['Pos'] == 'ADC'].shape[0])\n",
    "print('Position Support:\\t', cluster_4.loc[cluster_4['Pos'] == 'Support'].shape[0])\n"
   ]
  },
  {
   "cell_type": "markdown",
   "id": "79b54370-f3a5-4fa7-8e88-992918d5ea16",
   "metadata": {},
   "source": [
    "Based on the numerical results, we can see that cluster 1 is predominantly occupied by Support positions with 16 out of the total 17 Support entries belonging to this cluster. Cluster 2 on the other hand, is predominantly occupied by Jungle positions with 12 out of the total 16 Jungle entries belonging to this cluster. In contrast, while cluster 0 contains the majority of points from the Top position (11 out of 24 Top entries) it also contains the majority of points from the Middle and ADC positions (8/21 and 9/14 respectively). Simmilarly, we can see that there is no clear position that dominates clusters 3 and 4 which all contain a mix of Top, Middle, and ADC positions."
   ]
  },
  {
   "cell_type": "markdown",
   "id": "66a17659-42d3-4738-b96a-6459ea4722e8",
   "metadata": {},
   "source": [
    "## Statistical Inference"
   ]
  },
  {
   "cell_type": "markdown",
   "id": "ccbe3771-a3aa-48dc-ac38-56b4ffc438db",
   "metadata": {},
   "source": [
    "To better support our model, we can perform statistical inference tests. Since we are dealing with a categorical and a continous variable, we can use one-way ANOVA test to check if there is a significant difference among the means of the variables between the different posistions. However, in order to be able to use the one-way ANOVA test, our data has to follow a few assumptions. First, the samples have to be independent from one another, the second is that each sample should be from a normally distributed population. The last assumption is that the population standard deviations of the groups are all equal. Based on our exploratory data analysis, we know that not all of our data comes from a normally distributed population. More over if we were to check the standard deviation of each variable"
   ]
  },
  {
   "cell_type": "code",
   "execution_count": 34,
   "id": "121d9ffd-3425-4bc2-b140-870a2968f397",
   "metadata": {},
   "outputs": [
    {
     "data": {
      "text/html": [
       "<style type=\"text/css\">\n",
       "</style>\n",
       "<table id=\"T_e7843\" style='display:inline'>\n",
       "  <caption>GOLD% Standard deviation</caption>\n",
       "  <thead>\n",
       "    <tr>\n",
       "      <th id=\"T_e7843_level0_col0\" class=\"col_heading level0 col0\" >Pos</th>\n",
       "      <th id=\"T_e7843_level0_col1\" class=\"col_heading level0 col1\" >std</th>\n",
       "    </tr>\n",
       "  </thead>\n",
       "  <tbody>\n",
       "    <tr>\n",
       "      <td id=\"T_e7843_row0_col0\" class=\"data row0 col0\" >ADC</td>\n",
       "      <td id=\"T_e7843_row0_col1\" class=\"data row0 col1\" >2.486767</td>\n",
       "    </tr>\n",
       "    <tr>\n",
       "      <td id=\"T_e7843_row1_col0\" class=\"data row1 col0\" >Jungle</td>\n",
       "      <td id=\"T_e7843_row1_col1\" class=\"data row1 col1\" >2.337770</td>\n",
       "    </tr>\n",
       "    <tr>\n",
       "      <td id=\"T_e7843_row2_col0\" class=\"data row2 col0\" >Middle</td>\n",
       "      <td id=\"T_e7843_row2_col1\" class=\"data row2 col1\" >3.007823</td>\n",
       "    </tr>\n",
       "    <tr>\n",
       "      <td id=\"T_e7843_row3_col0\" class=\"data row3 col0\" >Support</td>\n",
       "      <td id=\"T_e7843_row3_col1\" class=\"data row3 col1\" >1.467040</td>\n",
       "    </tr>\n",
       "    <tr>\n",
       "      <td id=\"T_e7843_row4_col0\" class=\"data row4 col0\" >Top</td>\n",
       "      <td id=\"T_e7843_row4_col1\" class=\"data row4 col1\" >2.291509</td>\n",
       "    </tr>\n",
       "  </tbody>\n",
       "</table>\n",
       "          <style type=\"text/css\">\n",
       "</style>\n",
       "<table id=\"T_bfaf5\" style='display:inline'>\n",
       "  <caption>DMG% Standard deviation</caption>\n",
       "  <thead>\n",
       "    <tr>\n",
       "      <th id=\"T_bfaf5_level0_col0\" class=\"col_heading level0 col0\" >Pos</th>\n",
       "      <th id=\"T_bfaf5_level0_col1\" class=\"col_heading level0 col1\" >std</th>\n",
       "    </tr>\n",
       "  </thead>\n",
       "  <tbody>\n",
       "    <tr>\n",
       "      <td id=\"T_bfaf5_row0_col0\" class=\"data row0 col0\" >ADC</td>\n",
       "      <td id=\"T_bfaf5_row0_col1\" class=\"data row0 col1\" >6.551994</td>\n",
       "    </tr>\n",
       "    <tr>\n",
       "      <td id=\"T_bfaf5_row1_col0\" class=\"data row1 col0\" >Jungle</td>\n",
       "      <td id=\"T_bfaf5_row1_col1\" class=\"data row1 col1\" >5.260161</td>\n",
       "    </tr>\n",
       "    <tr>\n",
       "      <td id=\"T_bfaf5_row2_col0\" class=\"data row2 col0\" >Middle</td>\n",
       "      <td id=\"T_bfaf5_row2_col1\" class=\"data row2 col1\" >6.516324</td>\n",
       "    </tr>\n",
       "    <tr>\n",
       "      <td id=\"T_bfaf5_row3_col0\" class=\"data row3 col0\" >Support</td>\n",
       "      <td id=\"T_bfaf5_row3_col1\" class=\"data row3 col1\" >4.189641</td>\n",
       "    </tr>\n",
       "    <tr>\n",
       "      <td id=\"T_bfaf5_row4_col0\" class=\"data row4 col0\" >Top</td>\n",
       "      <td id=\"T_bfaf5_row4_col1\" class=\"data row4 col1\" >5.233809</td>\n",
       "    </tr>\n",
       "  </tbody>\n",
       "</table>\n",
       "          <style type=\"text/css\">\n",
       "</style>\n",
       "<table id=\"T_aae48\" style='display:inline'>\n",
       "  <caption>PC1 Standard deviation</caption>\n",
       "  <thead>\n",
       "    <tr>\n",
       "      <th id=\"T_aae48_level0_col0\" class=\"col_heading level0 col0\" >Pos</th>\n",
       "      <th id=\"T_aae48_level0_col1\" class=\"col_heading level0 col1\" >std</th>\n",
       "    </tr>\n",
       "  </thead>\n",
       "  <tbody>\n",
       "    <tr>\n",
       "      <td id=\"T_aae48_row0_col0\" class=\"data row0 col0\" >ADC</td>\n",
       "      <td id=\"T_aae48_row0_col1\" class=\"data row0 col1\" >0.795612</td>\n",
       "    </tr>\n",
       "    <tr>\n",
       "      <td id=\"T_aae48_row1_col0\" class=\"data row1 col0\" >Jungle</td>\n",
       "      <td id=\"T_aae48_row1_col1\" class=\"data row1 col1\" >0.784015</td>\n",
       "    </tr>\n",
       "    <tr>\n",
       "      <td id=\"T_aae48_row2_col0\" class=\"data row2 col0\" >Middle</td>\n",
       "      <td id=\"T_aae48_row2_col1\" class=\"data row2 col1\" >0.885375</td>\n",
       "    </tr>\n",
       "    <tr>\n",
       "      <td id=\"T_aae48_row3_col0\" class=\"data row3 col0\" >Support</td>\n",
       "      <td id=\"T_aae48_row3_col1\" class=\"data row3 col1\" >0.489422</td>\n",
       "    </tr>\n",
       "    <tr>\n",
       "      <td id=\"T_aae48_row4_col0\" class=\"data row4 col0\" >Top</td>\n",
       "      <td id=\"T_aae48_row4_col1\" class=\"data row4 col1\" >0.790222</td>\n",
       "    </tr>\n",
       "  </tbody>\n",
       "</table>\n",
       "          <style type=\"text/css\">\n",
       "</style>\n",
       "<table id=\"T_207cc\" style='display:inline'>\n",
       "  <caption>PC2 Standard deviation</caption>\n",
       "  <thead>\n",
       "    <tr>\n",
       "      <th id=\"T_207cc_level0_col0\" class=\"col_heading level0 col0\" >Pos</th>\n",
       "      <th id=\"T_207cc_level0_col1\" class=\"col_heading level0 col1\" >std</th>\n",
       "    </tr>\n",
       "  </thead>\n",
       "  <tbody>\n",
       "    <tr>\n",
       "      <td id=\"T_207cc_row0_col0\" class=\"data row0 col0\" >ADC</td>\n",
       "      <td id=\"T_207cc_row0_col1\" class=\"data row0 col1\" >0.916239</td>\n",
       "    </tr>\n",
       "    <tr>\n",
       "      <td id=\"T_207cc_row1_col0\" class=\"data row1 col0\" >Jungle</td>\n",
       "      <td id=\"T_207cc_row1_col1\" class=\"data row1 col1\" >0.642662</td>\n",
       "    </tr>\n",
       "    <tr>\n",
       "      <td id=\"T_207cc_row2_col0\" class=\"data row2 col0\" >Middle</td>\n",
       "      <td id=\"T_207cc_row2_col1\" class=\"data row2 col1\" >0.838678</td>\n",
       "    </tr>\n",
       "    <tr>\n",
       "      <td id=\"T_207cc_row3_col0\" class=\"data row3 col0\" >Support</td>\n",
       "      <td id=\"T_207cc_row3_col1\" class=\"data row3 col1\" >0.494531</td>\n",
       "    </tr>\n",
       "    <tr>\n",
       "      <td id=\"T_207cc_row4_col0\" class=\"data row4 col0\" >Top</td>\n",
       "      <td id=\"T_207cc_row4_col1\" class=\"data row4 col1\" >0.871360</td>\n",
       "    </tr>\n",
       "  </tbody>\n",
       "</table>\n",
       "          <style type=\"text/css\">\n",
       "</style>\n",
       "<table id=\"T_5083c\" style='display:inline'>\n",
       "  <caption>Avg Kills Standard deviation</caption>\n",
       "  <thead>\n",
       "    <tr>\n",
       "      <th id=\"T_5083c_level0_col0\" class=\"col_heading level0 col0\" >Pos</th>\n",
       "      <th id=\"T_5083c_level0_col1\" class=\"col_heading level0 col1\" >std</th>\n",
       "    </tr>\n",
       "  </thead>\n",
       "  <tbody>\n",
       "    <tr>\n",
       "      <td id=\"T_5083c_row0_col0\" class=\"data row0 col0\" >ADC</td>\n",
       "      <td id=\"T_5083c_row0_col1\" class=\"data row0 col1\" >1.694268</td>\n",
       "    </tr>\n",
       "    <tr>\n",
       "      <td id=\"T_5083c_row1_col0\" class=\"data row1 col0\" >Jungle</td>\n",
       "      <td id=\"T_5083c_row1_col1\" class=\"data row1 col1\" >1.178617</td>\n",
       "    </tr>\n",
       "    <tr>\n",
       "      <td id=\"T_5083c_row2_col0\" class=\"data row2 col0\" >Middle</td>\n",
       "      <td id=\"T_5083c_row2_col1\" class=\"data row2 col1\" >1.568541</td>\n",
       "    </tr>\n",
       "    <tr>\n",
       "      <td id=\"T_5083c_row3_col0\" class=\"data row3 col0\" >Support</td>\n",
       "      <td id=\"T_5083c_row3_col1\" class=\"data row3 col1\" >0.958307</td>\n",
       "    </tr>\n",
       "    <tr>\n",
       "      <td id=\"T_5083c_row4_col0\" class=\"data row4 col0\" >Top</td>\n",
       "      <td id=\"T_5083c_row4_col1\" class=\"data row4 col1\" >1.626509</td>\n",
       "    </tr>\n",
       "  </tbody>\n",
       "</table>\n",
       "          <style type=\"text/css\">\n",
       "</style>\n",
       "<table id=\"T_c5d6c\" style='display:inline'>\n",
       "  <caption>CSPM Standard deviation</caption>\n",
       "  <thead>\n",
       "    <tr>\n",
       "      <th id=\"T_c5d6c_level0_col0\" class=\"col_heading level0 col0\" >Pos</th>\n",
       "      <th id=\"T_c5d6c_level0_col1\" class=\"col_heading level0 col1\" >std</th>\n",
       "    </tr>\n",
       "  </thead>\n",
       "  <tbody>\n",
       "    <tr>\n",
       "      <td id=\"T_c5d6c_row0_col0\" class=\"data row0 col0\" >ADC</td>\n",
       "      <td id=\"T_c5d6c_row0_col1\" class=\"data row0 col1\" >0.689681</td>\n",
       "    </tr>\n",
       "    <tr>\n",
       "      <td id=\"T_c5d6c_row1_col0\" class=\"data row1 col0\" >Jungle</td>\n",
       "      <td id=\"T_c5d6c_row1_col1\" class=\"data row1 col1\" >0.838650</td>\n",
       "    </tr>\n",
       "    <tr>\n",
       "      <td id=\"T_c5d6c_row2_col0\" class=\"data row2 col0\" >Middle</td>\n",
       "      <td id=\"T_c5d6c_row2_col1\" class=\"data row2 col1\" >0.955759</td>\n",
       "    </tr>\n",
       "    <tr>\n",
       "      <td id=\"T_c5d6c_row3_col0\" class=\"data row3 col0\" >Support</td>\n",
       "      <td id=\"T_c5d6c_row3_col1\" class=\"data row3 col1\" >0.336395</td>\n",
       "    </tr>\n",
       "    <tr>\n",
       "      <td id=\"T_c5d6c_row4_col0\" class=\"data row4 col0\" >Top</td>\n",
       "      <td id=\"T_c5d6c_row4_col1\" class=\"data row4 col1\" >0.893201</td>\n",
       "    </tr>\n",
       "  </tbody>\n",
       "</table>\n"
      ]
     },
     "metadata": {},
     "output_type": "display_data"
    }
   ],
   "source": [
    "cluster_df[['GOLD%', 'DMG%', 'CSPM', 'Avg Kills']] =  lol_df[['GOLD%', 'DMG%', 'CSPM', 'Avg Kills']].copy(True)\n",
    "\n",
    "gold_std = cluster_df.groupby('Pos')['GOLD%'].agg([\"std\"])\n",
    "gold_std.reset_index(inplace=True)\n",
    "Gold_std = gold_std.style.hide(axis='index').set_table_attributes(\"style='display:inline'\").set_caption('GOLD% Standard deviation')\n",
    "\n",
    "dmg_std = cluster_df.groupby('Pos')['DMG%'].agg([\"std\"])\n",
    "dmg_std.reset_index(inplace=True)\n",
    "Dmg_std = dmg_std.style.hide(axis='index').set_table_attributes(\"style='display:inline'\").set_caption('DMG% Standard deviation')\n",
    "\n",
    "pc1_std = cluster_df.groupby('Pos')['PC1'].agg([\"std\"])\n",
    "pc1_std.reset_index(inplace=True)\n",
    "PC1_std = pc1_std.style.hide(axis='index').set_table_attributes(\"style='display:inline'\").set_caption('PC1 Standard deviation')\n",
    "\n",
    "pc2_std = cluster_df.groupby('Pos')['PC2'].agg([\"std\"])\n",
    "pc2_std.reset_index(inplace=True)\n",
    "PC2_std = pc2_std.style.hide(axis='index').set_table_attributes(\"style='display:inline'\").set_caption('PC2 Standard deviation')\n",
    "\n",
    "avgKills_std = cluster_df.groupby('Pos')['Avg Kills'].agg([\"std\"])\n",
    "avgKills_std.reset_index(inplace=True)\n",
    "AvgKills_std = avgKills_std.style.hide(axis='index').set_table_attributes(\"style='display:inline'\").set_caption('Avg Kills Standard deviation')\n",
    "\n",
    "cspm_std = cluster_df.groupby('Pos')['CSPM'].agg([\"std\"])\n",
    "cspm_std.reset_index(inplace=True)\n",
    "CSPM_std = cspm_std.style.hide(axis='index').set_table_attributes(\"style='display:inline'\").set_caption('CSPM Standard deviation')\n",
    "\n",
    "space = \"\\xa0\" * 10\n",
    "display_html(Gold_std._repr_html_() + space + Dmg_std._repr_html_() \n",
    "             + space + PC1_std._repr_html_()\n",
    "             + space + PC2_std._repr_html_()\n",
    "             + space + AvgKills_std._repr_html_()\n",
    "             + space + CSPM_std._repr_html_(), raw=True)"
   ]
  },
  {
   "cell_type": "markdown",
   "id": "21a25685-42bc-4c6b-b6d4-32dfaf7e22d5",
   "metadata": {},
   "source": [
    "We can see that in each varaible, the standard deviation among the groups are not equal. In light of this, we will be using the Kruskal-Wallis H-test. Although less powerful than the one-way ANOVA, the Kruskal-Wallis H-test follows the same assumptions as the one-way ANOVA except that the data does not have to come from a normally distribute population and that the standard deviation of the groups do not have to be equal. Additionally, the Kruskal-Wallis H-test compares the median of the groups rather than the mean. "
   ]
  },
  {
   "cell_type": "markdown",
   "id": "5e86a629-174b-423c-a261-7a61a79b89c6",
   "metadata": {},
   "source": [
    "Next, we must now set our hypothesis. In this case since we will be using 6 different varaibles, we will have 6 sets of hypothesis which are the following:\n",
    "\n",
    "### GOLD%\n",
    "**1. H<sub>0</sub>**: There is no significant difference in terms of the median of GOLD% between the different types of positions.<br>\n",
    "**2. H<sub>A</sub>**: There is a significant difference in terms of the median of GOLD% between the different types of positions.\n",
    "\n",
    "### DMG%\n",
    "**1. H<sub>0</sub>**: There is no significant difference in terms of the median of DMG% between the different types of positions.<br>\n",
    "**2. H<sub>A</sub>**: There is a significant difference in terms of the median of DMG% between the different types of positions.\n",
    "\n",
    "### PC1\n",
    "**1. H<sub>0</sub>**: There is no significant difference in terms of the median of PC1 between the different types of positions.<br>\n",
    "**2. H<sub>A</sub>**: There is a significant difference in terms of the median of PC1 between the different types of positions.\n",
    "\n",
    "### PC2\n",
    "**1. H<sub>0</sub>**: There is no significant difference in terms of the median of PC2 between the different types of positions.<br>\n",
    "**2. H<sub>A</sub>**: There is a significant difference in terms of the median of PC2 between the different types of positions.\n",
    "\n",
    "### CSPM\n",
    "**1. H<sub>0</sub>**: There is no significant difference in terms of the median of CSPM between the different types of positions.<br>\n",
    "**2. H<sub>A</sub>**: There is a significant difference in terms of the median of CSPM between the different types of positions.\n",
    "\n",
    "### Average Kills\n",
    "**1. H<sub>0</sub>**: There is no significant difference in terms of the median of Average Kills between the different types of positions.<br>\n",
    "**2. H<sub>A</sub>**: There is a significant difference in terms of the median of Average Kills between the different types of positions."
   ]
  },
  {
   "cell_type": "markdown",
   "id": "3161f7c4-49b5-4055-b5e0-ca7cf4d67d64",
   "metadata": {},
   "source": [
    "Now that we have set our hypothesies, we can now begin to test them. For this we will make use of the `kruskal()` function from scipy and we will feed it the data grouped by their respective `Pos` variable"
   ]
  },
  {
   "cell_type": "code",
   "execution_count": 35,
   "id": "92d3a86a-7500-4873-bf58-e30a0015322a",
   "metadata": {},
   "outputs": [
    {
     "data": {
      "text/html": [
       "<div>\n",
       "<style scoped>\n",
       "    .dataframe tbody tr th:only-of-type {\n",
       "        vertical-align: middle;\n",
       "    }\n",
       "\n",
       "    .dataframe tbody tr th {\n",
       "        vertical-align: top;\n",
       "    }\n",
       "\n",
       "    .dataframe thead th {\n",
       "        text-align: right;\n",
       "    }\n",
       "</style>\n",
       "<table border=\"1\" class=\"dataframe\">\n",
       "  <thead>\n",
       "    <tr style=\"text-align: right;\">\n",
       "      <th></th>\n",
       "      <th>Variable</th>\n",
       "      <th>p-value</th>\n",
       "    </tr>\n",
       "  </thead>\n",
       "  <tbody>\n",
       "    <tr>\n",
       "      <th>0</th>\n",
       "      <td>PC1</td>\n",
       "      <td>1.491851e-12</td>\n",
       "    </tr>\n",
       "    <tr>\n",
       "      <th>1</th>\n",
       "      <td>PC2</td>\n",
       "      <td>1.696323e-02</td>\n",
       "    </tr>\n",
       "    <tr>\n",
       "      <th>2</th>\n",
       "      <td>GOLD%</td>\n",
       "      <td>2.652000e-13</td>\n",
       "    </tr>\n",
       "    <tr>\n",
       "      <th>3</th>\n",
       "      <td>DMG%</td>\n",
       "      <td>2.032107e-10</td>\n",
       "    </tr>\n",
       "    <tr>\n",
       "      <th>4</th>\n",
       "      <td>Avg Kills</td>\n",
       "      <td>4.462403e-04</td>\n",
       "    </tr>\n",
       "    <tr>\n",
       "      <th>5</th>\n",
       "      <td>CSPM</td>\n",
       "      <td>2.435630e-14</td>\n",
       "    </tr>\n",
       "  </tbody>\n",
       "</table>\n",
       "</div>"
      ],
      "text/plain": [
       "    Variable       p-value\n",
       "0        PC1  1.491851e-12\n",
       "1        PC2  1.696323e-02\n",
       "2      GOLD%  2.652000e-13\n",
       "3       DMG%  2.032107e-10\n",
       "4  Avg Kills  4.462403e-04\n",
       "5       CSPM  2.435630e-14"
      ]
     },
     "execution_count": 35,
     "metadata": {},
     "output_type": "execute_result"
    }
   ],
   "source": [
    "from scipy.stats import kruskal\n",
    "\n",
    "top = cluster_df.loc[cluster_df['Pos'] == 'Top']\n",
    "middle = cluster_df.loc[cluster_df['Pos'] == 'Middle']\n",
    "jungle = cluster_df.loc[cluster_df['Pos'] == 'Jungle']\n",
    "adc = cluster_df.loc[cluster_df['Pos'] == 'ADC']\n",
    "support = cluster_df.loc[cluster_df['Pos'] == 'Support']\n",
    "\n",
    "pc1_results = kruskal(top['PC1'], middle['PC1'], jungle['PC1'], adc['PC1'], support['PC1'])[1]\n",
    "pc2_results = kruskal(top['PC2'], middle['PC2'], jungle['PC2'], adc['PC2'], support['PC2'])[1]\n",
    "gold_results = kruskal(top['GOLD%'], middle['GOLD%'], jungle['GOLD%'], adc['GOLD%'], support['GOLD%'])[1]\n",
    "dmg_results = kruskal(top['DMG%'], middle['DMG%'], jungle['DMG%'], adc['DMG%'], support['DMG%'])[1]\n",
    "avgKills_results = kruskal(top['Avg Kills'], middle['Avg Kills'], jungle['Avg Kills'], adc['Avg Kills'], support['Avg Kills'])[1]\n",
    "cspm_results = kruskal(top['CSPM'], middle['CSPM'], jungle['CSPM'], adc['CSPM'], support['CSPM'])[1]\n",
    "\n",
    "data = [['PC1', pc1_results], ['PC2', pc2_results], ['GOLD%', gold_results], ['DMG%', dmg_results], ['Avg Kills', avgKills_results], ['CSPM', cspm_results]]\n",
    "\n",
    "kruskal_df = pd.DataFrame(data, columns = ['Variable', 'p-value']) \n",
    "\n",
    "kruskal_df\n"
   ]
  },
  {
   "cell_type": "markdown",
   "id": "2241f76a-7b36-4d61-a1e8-f1e9ce79cac6",
   "metadata": {},
   "source": [
    "Based on the results, on a **95% confidence interval**, we can see that all of the computed p-values of the variables are less than 0.05 which indicates that there is a very small probability of any of our null hypothesis to occur. Going back to our clustering model, we do see that there are two clusters (cluster 1 and cluster 2) that are predominantly occupied by one type of position which suggest that there is a significant difference of the variables between the different types of positions. Although the Kruskal-Wallis H test tells us if there is a significant difference among the groups, it does not tell us which groups differ from each other. However, based on our cluster model, we can assume that the positions which predominantly occupied a cluster of their own would be the ones to differ from the rest of the clusters. This is because clusters are formed where the members share simmilar characteristics or statistics with each other. Since we know that the `Jungle` and `Support` positions occupy a cluster of their own compared to the remaining 3 positions that share clusters with each other, we can assume that it is their median that differ within the groups. To prove this we can run the test again but this time, we will exclude first the `Support` position."
   ]
  },
  {
   "cell_type": "code",
   "execution_count": 36,
   "id": "dc6348e7-f795-45dd-a2fc-5c94aa6f4089",
   "metadata": {},
   "outputs": [
    {
     "data": {
      "text/html": [
       "<div>\n",
       "<style scoped>\n",
       "    .dataframe tbody tr th:only-of-type {\n",
       "        vertical-align: middle;\n",
       "    }\n",
       "\n",
       "    .dataframe tbody tr th {\n",
       "        vertical-align: top;\n",
       "    }\n",
       "\n",
       "    .dataframe thead th {\n",
       "        text-align: right;\n",
       "    }\n",
       "</style>\n",
       "<table border=\"1\" class=\"dataframe\">\n",
       "  <thead>\n",
       "    <tr style=\"text-align: right;\">\n",
       "      <th></th>\n",
       "      <th>Variable</th>\n",
       "      <th>p-value</th>\n",
       "    </tr>\n",
       "  </thead>\n",
       "  <tbody>\n",
       "    <tr>\n",
       "      <th>0</th>\n",
       "      <td>PC1</td>\n",
       "      <td>1.053422e-06</td>\n",
       "    </tr>\n",
       "    <tr>\n",
       "      <th>1</th>\n",
       "      <td>PC2</td>\n",
       "      <td>1.156805e-01</td>\n",
       "    </tr>\n",
       "    <tr>\n",
       "      <th>2</th>\n",
       "      <td>GOLD%</td>\n",
       "      <td>8.224782e-08</td>\n",
       "    </tr>\n",
       "    <tr>\n",
       "      <th>3</th>\n",
       "      <td>DMG%</td>\n",
       "      <td>9.469351e-05</td>\n",
       "    </tr>\n",
       "    <tr>\n",
       "      <th>4</th>\n",
       "      <td>Avg Kills</td>\n",
       "      <td>8.170380e-01</td>\n",
       "    </tr>\n",
       "    <tr>\n",
       "      <th>5</th>\n",
       "      <td>CSPM</td>\n",
       "      <td>2.364039e-09</td>\n",
       "    </tr>\n",
       "  </tbody>\n",
       "</table>\n",
       "</div>"
      ],
      "text/plain": [
       "    Variable       p-value\n",
       "0        PC1  1.053422e-06\n",
       "1        PC2  1.156805e-01\n",
       "2      GOLD%  8.224782e-08\n",
       "3       DMG%  9.469351e-05\n",
       "4  Avg Kills  8.170380e-01\n",
       "5       CSPM  2.364039e-09"
      ]
     },
     "execution_count": 36,
     "metadata": {},
     "output_type": "execute_result"
    }
   ],
   "source": [
    "pc1_results = kruskal(top['PC1'], middle['PC1'], jungle['PC1'], adc['PC1'])[1]\n",
    "pc2_results = kruskal(top['PC2'], middle['PC2'], jungle['PC2'], adc['PC2'])[1]\n",
    "gold_results = kruskal(top['GOLD%'], middle['GOLD%'], jungle['GOLD%'], adc['GOLD%'])[1]\n",
    "dmg_results = kruskal(top['DMG%'], middle['DMG%'], jungle['DMG%'], adc['DMG%'])[1]\n",
    "avgKills_results = kruskal(top['Avg Kills'], middle['Avg Kills'], jungle['Avg Kills'], adc['Avg Kills'])[1]\n",
    "cspm_results = kruskal(top['CSPM'], middle['CSPM'], jungle['CSPM'], adc['CSPM'])[1]\n",
    "\n",
    "data = [['PC1', pc1_results], ['PC2', pc2_results], ['GOLD%', gold_results], ['DMG%', dmg_results], ['Avg Kills', avgKills_results], ['CSPM', cspm_results]]\n",
    "\n",
    "kruskal_df = pd.DataFrame(data, columns = ['Variable', 'p-value']) \n",
    "\n",
    "kruskal_df\n"
   ]
  },
  {
   "cell_type": "markdown",
   "id": "7fba552d-d4f7-463b-8dd3-2cd56c85d69c",
   "metadata": {},
   "source": [
    "After repeating the test again without the support positions, we can see that the `PC2` and the `Avg Kills` variables have a p-value that is greater than 0.05 which indicates that there is a high probability of our null hypothesis and that there is no significant difference among the groups when based on these variables. Although the p-values of the remaining variables are still lower than 0.05, we can see that it is not as small when compared to the first test. Considering that our clustering model made use of the variables `PC1` and `PC2`, we can infer that there is still a significant difference among the groups because the p-value of `PC1` is lower than 0.05 and thus shows that there is a significant difference of the median of this variable among the groups. This further supports our cluster model because among the remaining 4 groups, it was the `Jungle` position that predominantly occupied a cluster of their own. The last step is to repeat the test one last time but this time, we exclude the `Jungle` positions."
   ]
  },
  {
   "cell_type": "code",
   "execution_count": 37,
   "id": "b329e40a-1ed1-41ec-b63b-ce10586d3c6c",
   "metadata": {},
   "outputs": [
    {
     "data": {
      "text/html": [
       "<div>\n",
       "<style scoped>\n",
       "    .dataframe tbody tr th:only-of-type {\n",
       "        vertical-align: middle;\n",
       "    }\n",
       "\n",
       "    .dataframe tbody tr th {\n",
       "        vertical-align: top;\n",
       "    }\n",
       "\n",
       "    .dataframe thead th {\n",
       "        text-align: right;\n",
       "    }\n",
       "</style>\n",
       "<table border=\"1\" class=\"dataframe\">\n",
       "  <thead>\n",
       "    <tr style=\"text-align: right;\">\n",
       "      <th></th>\n",
       "      <th>Variable</th>\n",
       "      <th>p-value</th>\n",
       "    </tr>\n",
       "  </thead>\n",
       "  <tbody>\n",
       "    <tr>\n",
       "      <th>0</th>\n",
       "      <td>PC1</td>\n",
       "      <td>0.212608</td>\n",
       "    </tr>\n",
       "    <tr>\n",
       "      <th>1</th>\n",
       "      <td>PC2</td>\n",
       "      <td>0.555227</td>\n",
       "    </tr>\n",
       "    <tr>\n",
       "      <th>2</th>\n",
       "      <td>GOLD%</td>\n",
       "      <td>0.041901</td>\n",
       "    </tr>\n",
       "    <tr>\n",
       "      <th>3</th>\n",
       "      <td>DMG%</td>\n",
       "      <td>0.595126</td>\n",
       "    </tr>\n",
       "    <tr>\n",
       "      <th>4</th>\n",
       "      <td>Avg Kills</td>\n",
       "      <td>0.845377</td>\n",
       "    </tr>\n",
       "    <tr>\n",
       "      <th>5</th>\n",
       "      <td>CSPM</td>\n",
       "      <td>0.001730</td>\n",
       "    </tr>\n",
       "  </tbody>\n",
       "</table>\n",
       "</div>"
      ],
      "text/plain": [
       "    Variable   p-value\n",
       "0        PC1  0.212608\n",
       "1        PC2  0.555227\n",
       "2      GOLD%  0.041901\n",
       "3       DMG%  0.595126\n",
       "4  Avg Kills  0.845377\n",
       "5       CSPM  0.001730"
      ]
     },
     "execution_count": 37,
     "metadata": {},
     "output_type": "execute_result"
    }
   ],
   "source": [
    "pc1_results = kruskal(top['PC1'], middle['PC1'], adc['PC1'])[1]\n",
    "pc2_results = kruskal(top['PC2'], middle['PC2'], adc['PC2'])[1]\n",
    "gold_results = kruskal(top['GOLD%'], middle['GOLD%'], adc['GOLD%'])[1]\n",
    "dmg_results = kruskal(top['DMG%'], middle['DMG%'], adc['DMG%'])[1]\n",
    "avgKills_results = kruskal(top['Avg Kills'], middle['Avg Kills'], adc['Avg Kills'])[1]\n",
    "cspm_results = kruskal(top['CSPM'], middle['CSPM'], adc['CSPM'])[1]\n",
    "\n",
    "data = [['PC1', pc1_results], ['PC2', pc2_results], ['GOLD%', gold_results], ['DMG%', dmg_results], ['Avg Kills', avgKills_results], ['CSPM', cspm_results]]\n",
    "\n",
    "kruskal_df = pd.DataFrame(data, columns = ['Variable', 'p-value']) \n",
    "\n",
    "kruskal_df"
   ]
  },
  {
   "cell_type": "markdown",
   "id": "d55fdad5-ea91-464d-bf0c-789f7c31bc3b",
   "metadata": {},
   "source": [
    "The last test which only includes the `Top`, `Middle`, and `ADC` positions, we see that the p-values for `PC1`, `PC2`, `DMG%`, and `Avg Kills` are greater than 0.05 which indicate that there is a high probability of the null hypothesis to occur and thus there is no significant difference in the medians of these variables. The important variables to note here are `PC1` and `PC2` since those are the variables that were utilized in our cluster model. Comparing it to the previous two tests, the results here suggest that the `Top`, `Middle`, and `ADC` have simmilar medians to one another which would explain why they share clusters with each other in our cluster model. "
   ]
  },
  {
   "cell_type": "markdown",
   "id": "60fbaf9f-b20b-434f-b4e7-015de9c06828",
   "metadata": {},
   "source": [
    "## Insights and Conclusions "
   ]
  },
  {
   "cell_type": "markdown",
   "id": "0a24ee9f-d4e7-41cb-9bde-ed7871f3a89c",
   "metadata": {},
   "source": [
    "Going back to our earlier hypotheses, based on the first test that we conducted, with a 95% confidence interval we will **reject all** of our null hypotheses due to the fact that all of the produced p-values are lower than 0.05. This means that there is a significant difference in the median of the `PC1`, `PC2`, `DMG%`, `DMG%`, `CSPM`, and `Avg Kills` of the 5 different types of positions. However, it is important to note that if we were to exclude the `Jungle` and `Support` positions which occupied a cluster for themselves, the resulting p-values for the `PC1`, `PC2`, `GOLD%`, and `Avg Kills` of the test done with just the `Top`, `Middle`, and `ADC` were greater than 0.05 which means that there is no significant difference in the median of these variables for these 3 positions. To answer our research questions which was **Is there is a clear distinction in terms of the positions when clustering the entries based on their team damage share, team gold share, creep score per minute, and their average kills?**, we can conclude that there is a distinction in terms of positions when clustering based on these variables however, this will most likely only be true for two of the positions namely **Support** and **Jungle** while there may not be a clear distinction for **Top**, **Middle**, and **ADC**."
   ]
  },
  {
   "cell_type": "markdown",
   "id": "34641c6d-6a77-4e3a-b9b2-9a290c5fa93c",
   "metadata": {},
   "source": [
    "To summarize, looking at our cluster model we can see that 2 out of the 5 clusters are predominantly occupied by one position. Cluster 1 is predominantly occupied by the `Jungle` position while cluster 2 is predominantly occupied by the `Support` position. The remaining clusters primarily consist of the 3 other positions (`Top`, `Middle`, `ADC`). This indicates that the `Jungle` and `Support` position have a clear distinction, based on the variables used, among the positions while `Top`, `Middle` and `ADC` have a similar playstyle or are statistically similar with each other since they occupy the same clusters. This is further supported by the 3 Kruskal-Wallis tests that we conducted which showed that there is a significant difference in the median of the `PC1` and `PC2` variables of all the 5 positions but there is no significant difference in their medians when we excluded the `Jungle` and `Support` positions. \n",
    "\n",
    "So how is this all significant to the League of Legends community? The point of clustering is to points of data are similar to each other and which are distinct from one another. Based on our cluster model, we can see that the `Support` and `Jungle` postion have a disctinct playstyle that is unique only to them. On the other hand, the `Top`, `Middle`, `ADC` were more scattered rather than occupying a single cluster. Moreover, they share these clusters with data points beloging to other positions. This indicates that these positions and their playstyle are similar to each other. Supported by the fact that the median of their `PC1` and `PC2` variables are not significantly different as proven by our third kruskal test, we can infer that champions that are intended for any of these 3 positions may also be viable in the remaining two positions. Furthermore, players who are used to playing either `Top`, `Middle`, `ADC` may possibly find it easy to adapt to the other positions as these positions share similar statistics with one another while players who mostly play `Support` and `Jungle` may find it hard to switch to a different positon because of how unique/distinct these 2 postions are from the rest. "
   ]
  },
  {
   "cell_type": "code",
   "execution_count": null,
   "id": "429cec75-5afc-43b1-b9f8-14674b9efc72",
   "metadata": {},
   "outputs": [],
   "source": []
  }
 ],
 "metadata": {
  "kernelspec": {
   "display_name": "Python 3 (ipykernel)",
   "language": "python",
   "name": "python3"
  },
  "language_info": {
   "codemirror_mode": {
    "name": "ipython",
    "version": 3
   },
   "file_extension": ".py",
   "mimetype": "text/x-python",
   "name": "python",
   "nbconvert_exporter": "python",
   "pygments_lexer": "ipython3",
   "version": "3.9.13"
  },
  "vscode": {
   "interpreter": {
    "hash": "8c3d4d9970fc5c09c50d9318a9c7fbf4d0159e4b28833276f5678ee22bded273"
   }
  }
 },
 "nbformat": 4,
 "nbformat_minor": 5
}
