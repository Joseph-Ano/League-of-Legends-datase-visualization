{
 "cells": [
  {
   "cell_type": "markdown",
   "id": "b662a7a7-1aa5-49cf-8d2c-28a86625cfeb",
   "metadata": {
    "tags": []
   },
   "source": [
    "# S13 Group 8: Project - Phase 1\n",
    "\n",
    "## Members:\n",
    "- Ano, Joseph Thomas M.\n",
    "- Limjoco, Jared Ethan D. \n",
    "- Nadela, Cymon Radjh O.\n",
    "\n",
    "In this Notebook, we will be using the [League of Legends Worlds 2021 Main Event - Champion Stats](https://www.kaggle.com/datasets/vincentbarletta/league-of-legends-worlds-champion-pb-dataset?select=Worlds+2021+Main+Event+-+Champion+Stats+-+OraclesElixir.csv). The notebook will cover four main parts namely the **dataset description**, **data cleaning**, the **exploratory data analysis questions**, and the group's **proposed research questions**. \n",
    "\n"
   ]
  },
  {
   "cell_type": "markdown",
   "id": "79d6f6b6-d280-4894-9ae9-de594cefc8b5",
   "metadata": {
    "tags": []
   },
   "source": [
    "## Data Set Description\n",
    "\n",
    "### Brief description of dataset\n",
    "This data set contains the list of every champion either picked or banned during the 2021 League of Legends World tournament. As metioned in its kaggle page, the main statistics of this particular data set include the champion name, position, pick rate, ban rate, pick+ban rate, and more individual champion statistics (Kill, Death, Assist, KDA rate, etc). Each column also has a breif description explaining the variable.\n",
    "\n",
    "### Description of the data collection process\n",
    "The data was collected from a popular website called [Oracle's Elixir](https://oracleselixir.com/about), the premier source for advance League of Legends esports statistics. All of the data comes from the analysts and data scrapers at Oracles Elixir who retrive the data from several sources including including Match History pages, [lolesports.com](https://lolesports.com), [lpl.QQ.com](https://lpl.qq.com), [Leaguepedia](https://lol.fandom.com/wiki/League_of_Legends_Esports_Wiki), the Riot Games solo queue APIs, and more "
   ]
  },
  {
   "cell_type": "markdown",
   "id": "7abf78dc-b93d-4967-9e19-d2f69bf0e9a3",
   "metadata": {},
   "source": [
    "### Structure of the data set"
   ]
  },
  {
   "cell_type": "code",
   "execution_count": 1,
   "id": "91a3f2a9-4c94-47e2-9f11-aa46c160b1ce",
   "metadata": {},
   "outputs": [],
   "source": [
    "import numpy as np\n",
    "import pandas as pd\n",
    "import matplotlib.pyplot as plt\n",
    "\n",
    "# sets the theme of the charts\n",
    "#plt.style.use('seaborn-darkgrid')\n",
    "\n",
    "%matplotlib inline"
   ]
  },
  {
   "cell_type": "code",
   "execution_count": 2,
   "id": "e9c50f45-52a0-4f9b-8ab9-cb07aecb5801",
   "metadata": {},
   "outputs": [],
   "source": [
    "lol_df = pd.read_csv('Worlds 2021 Main Event - Champion Stats - OraclesElixir.csv')"
   ]
  },
  {
   "cell_type": "code",
   "execution_count": 3,
   "id": "01aa5c2e-dcc8-44c8-a8bc-71751dececaa",
   "metadata": {},
   "outputs": [
    {
     "name": "stdout",
     "output_type": "stream",
     "text": [
      "<class 'pandas.core.frame.DataFrame'>\n",
      "RangeIndex: 94 entries, 0 to 93\n",
      "Data columns (total 25 columns):\n",
      " #   Column    Non-Null Count  Dtype \n",
      "---  ------    --------------  ----- \n",
      " 0   Champion  94 non-null     object\n",
      " 1   Pos       94 non-null     object\n",
      " 2   GP        94 non-null     int64 \n",
      " 3   P%        94 non-null     object\n",
      " 4   B%        94 non-null     object\n",
      " 5   P+B%      94 non-null     object\n",
      " 6   W%        94 non-null     object\n",
      " 7   CTR%      94 non-null     object\n",
      " 8   K         94 non-null     object\n",
      " 9   D         94 non-null     object\n",
      " 10  A         94 non-null     object\n",
      " 11  KDA       94 non-null     object\n",
      " 12  KP        94 non-null     object\n",
      " 13  DTH%      94 non-null     object\n",
      " 14  FB%       94 non-null     object\n",
      " 15  GD10      94 non-null     object\n",
      " 16  XPD10     94 non-null     object\n",
      " 17  CSD10     94 non-null     object\n",
      " 18  CSPM      94 non-null     object\n",
      " 19  CS%P15    94 non-null     object\n",
      " 20  DPM       94 non-null     object\n",
      " 21  DMG%      94 non-null     object\n",
      " 22  GOLD%     94 non-null     object\n",
      " 23  WPM       94 non-null     object\n",
      " 24  WCPM      94 non-null     object\n",
      "dtypes: int64(1), object(24)\n",
      "memory usage: 18.5+ KB\n"
     ]
    }
   ],
   "source": [
    "lol_df.info()"
   ]
  },
  {
   "cell_type": "markdown",
   "id": "e0803230-177d-499f-97c2-350042cc1743",
   "metadata": {},
   "source": [
    "The data set contains a total of **94 observations** and is made up of **25 variables**. Each row in the data set represents a the game statistics of a champion that was either picked or banned during the tournament. You may notice that there are observations consisting of the same value for the variable **`Champion`**, this is because a champion can be played in more than one postion which will result in the data set having rows/observations each with a unique combination of the **`Champion`** and **`Pos`** variable "
   ]
  },
  {
   "cell_type": "markdown",
   "id": "30e78dc7-ebc2-4142-878e-6286c3c3e13e",
   "metadata": {},
   "source": [
    "### Description of each variable\n",
    "- **`Champion`**: Name of the champion picked/banned\n",
    "- **`Pos`**: Position the champion played in. Values include Top, Middle, ADC, Jungle, and Support\n",
    "- **`GP`**: Total number of games the champion was picked/played in this role\n",
    "- **`P%`**: Percentage of games champion was picked in this role\n",
    "- **`B%`**: Percentage of games in which the champion was banned (not tied to a specific role)\n",
    "- **`P+B%`**: Percentage of games in which the champion was either banned or picked in any role\n",
    "- **`W%`**: Win percentage of champion in a specific role\n",
    "- **`CTR%`**: Counter-pick rate: percentage of games in which this player/champion was picked after their lane opponent \n",
    "- **`K`**: Total kills a champion had \n",
    "- **`D`**: Total deaths a champion had \n",
    "- **`A`**: Total assists a champion had \n",
    "- **`KDA`**: Total Kill/Death/Assits ration for a champion \n",
    "- **`KP%`**: Kill participation which is the percentage of the team's kills in which the champion earned a Kill or Assist \n",
    "- **`DTH%`**: Average share of team’s deaths \n",
    "- **`FB%`**: Percent of games earning a First Blood participation either kill or assist \n",
    "- **`GD10`**: Average gold difference at 10 minutes \n",
    "- **`XPD10`**: Average experience difference at 10 minutes\n",
    "- **`CSD10`**: Average creep score difference at 10 minutes\n",
    "- **`CSPM`**: Average monsters + minions killed per minute\n",
    "- **`CS%P15`**: Average share of team's total CS post-15-minutes\n",
    "- **`DPM`**: Average damage to champions per minute\n",
    "- **`DMG%`**: Average share of team’s total damage to champions\n",
    "- **`GOLD%`**: Average share of team’s total gold earned (excludes starting gold and inherent gold generation)\n",
    "- **`WPM`**: Average wards placed per minute\n",
    "- **`WCPM`**: Average wards cleared per minute"
   ]
  },
  {
   "cell_type": "markdown",
   "id": "62bd5d02-c80b-4516-bda4-dad946aa2f43",
   "metadata": {},
   "source": [
    "## Data Clean up"
   ]
  },
  {
   "cell_type": "markdown",
   "id": "69711230-2a87-463b-bd83-c4247008bc62",
   "metadata": {},
   "source": [
    "### Checking for Duplicate Data\n",
    "The first thing we'll check for is if duplicate records exists in the data set. Since each record in this data set represents the statistics of every champion either picked (in a specific position) or banned, each record must have a unique combination of the **`Champion`** and the **`Pos`** variable. To do this, we will first select the columns of the **`Champion`** and the **`Pos`** variables which will result in a **dataframe** which we will assign to a variable called `duplicate_test`. We will then use the `duplicated` function, along with the `any` function, to check if there are any duplicated records based on these two variables."
   ]
  },
  {
   "cell_type": "code",
   "execution_count": 4,
   "id": "c05cab64-2e3f-4199-bb90-7a567777dd47",
   "metadata": {},
   "outputs": [
    {
     "name": "stdout",
     "output_type": "stream",
     "text": [
      "Duplicated data exists:  False\n"
     ]
    }
   ],
   "source": [
    "duplicate_test = lol_df[['Champion', 'Pos']]\n",
    "duplicate_data_exists = duplicate_test.duplicated().any()\n",
    "print('Duplicated data exists: ', duplicate_data_exists)"
   ]
  },
  {
   "cell_type": "markdown",
   "id": "d60c16a5-1407-4e56-9496-475d7d1c5d80",
   "metadata": {},
   "source": [
    "The reason why we select the **`Champion`** and the **`Pos`** columns is because if we were to use the `duplicated` function using the original dataframe, there is a chance that two records may have the same **`Champion`** and **`Pos`** values but differ in other columns. In this case, the `duplicated` function will return a value of `false` which is wrong since we want each record to have a unique combination of the **`Champion`** and **`Pos`** variables. "
   ]
  },
  {
   "cell_type": "markdown",
   "id": "bfc6baee-a15e-4782-befd-dcd4a3776d3c",
   "metadata": {},
   "source": [
    "### Missing Data"
   ]
  },
  {
   "cell_type": "code",
   "execution_count": 5,
   "id": "76362806-dd40-4a25-8f64-bc4daf0fb756",
   "metadata": {
    "tags": []
   },
   "outputs": [
    {
     "data": {
      "text/plain": [
       "Top        24\n",
       "Middle     21\n",
       "Support    17\n",
       "Jungle     16\n",
       "ADC        14\n",
       "-           2\n",
       "Name: Pos, dtype: int64"
      ]
     },
     "execution_count": 5,
     "metadata": {},
     "output_type": "execute_result"
    }
   ],
   "source": [
    "lol_df['Pos'].value_counts()"
   ]
  },
  {
   "cell_type": "markdown",
   "id": "d80eb3cc-6709-4599-a18a-008bb97a016c",
   "metadata": {},
   "source": [
    "When viewing the dataset, you will notice that some records have a value of `-` in some of their variables. This is the default value when a variable of a record should be empty. For example, the code above shows that there are two records which have a value of `-` in their **`Pos`** variable. This because these two records(Champions) were never picked in the entire tournament but were banned at least once which is why they are included in this data set but with most of their variables having a value of `-`.\n",
    "\n",
    "Since majority of their variables will not have any meaningful value, and considering the fact that there are only 2 of these records out of a total of 94 entries, we believe that it will be best to remove these two records from entire dataset. To do so we will first get the indices of the records which have a value of `-` in their **`Pos`** column. After getting the indices, we can use the `drop` function to remove these records from the data set."
   ]
  },
  {
   "cell_type": "code",
   "execution_count": 15,
   "id": "b95baf9a-2e91-4050-a723-bb5111876f8e",
   "metadata": {},
   "outputs": [
    {
     "name": "stdout",
     "output_type": "stream",
     "text": [
      "Number of entries in the dataframe:  92\n"
     ]
    },
    {
     "data": {
      "text/plain": [
       "Top        24\n",
       "Middle     21\n",
       "Support    17\n",
       "Jungle     16\n",
       "ADC        14\n",
       "Name: Pos, dtype: int64"
      ]
     },
     "execution_count": 15,
     "metadata": {},
     "output_type": "execute_result"
    }
   ],
   "source": [
    "#Get indices\n",
    "dropped_index = lol_df[ lol_df['Pos'] == '-' ].index\n",
    "\n",
    "#Drop records\n",
    "lol_df = lol_df.drop(dropped_index)\n",
    "\n",
    "#Check new number of entries\n",
    "print('Number of entries in the dataframe: ', lol_df.shape[0])\n",
    "\n",
    "#Re-check the value count of the Pos variable\n",
    "lol_df['Pos'].value_counts()"
   ]
  },
  {
   "cell_type": "markdown",
   "id": "8a35e29c-b30f-4469-9a9b-363dbf474dcc",
   "metadata": {},
   "source": [
    "As you can see, the new number of entries in the data set is 92 which means that the two records that we selected were removed from the data set. We can also check this by checking the value count of the **`Pos`** variable which shows that there are only 5 values for that variable. We can now ensure that there are no missing values in our data set as each record gwill contain a champion in a specific"
   ]
  },
  {
   "cell_type": "code",
   "execution_count": null,
   "id": "d8f228d8-ad6e-4300-9028-fb95019d1932",
   "metadata": {},
   "outputs": [],
   "source": []
  }
 ],
 "metadata": {
  "kernelspec": {
   "display_name": "Python 3 (ipykernel)",
   "language": "python",
   "name": "python3"
  },
  "language_info": {
   "codemirror_mode": {
    "name": "ipython",
    "version": 3
   },
   "file_extension": ".py",
   "mimetype": "text/x-python",
   "name": "python",
   "nbconvert_exporter": "python",
   "pygments_lexer": "ipython3",
   "version": "3.10.5"
  },
  "vscode": {
   "interpreter": {
    "hash": "8c3d4d9970fc5c09c50d9318a9c7fbf4d0159e4b28833276f5678ee22bded273"
   }
  }
 },
 "nbformat": 4,
 "nbformat_minor": 5
}
